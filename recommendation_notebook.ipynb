{
 "cells": [
  {
   "cell_type": "code",
   "execution_count": 2,
   "id": "initial_id",
   "metadata": {
    "collapsed": true,
    "ExecuteTime": {
     "end_time": "2023-11-10T20:55:20.501213300Z",
     "start_time": "2023-11-10T20:55:17.686690700Z"
    }
   },
   "outputs": [],
   "source": [
    "import numpy as np\n",
    "import pandas as pd\n",
    "import matplotlib.pyplot as plt\n",
    "import seaborn as sns"
   ]
  },
  {
   "cell_type": "code",
   "execution_count": 9,
   "outputs": [],
   "source": [
    "ratings = pd.read_csv('data/ratings.csv')\n",
    "\n",
    "movies = pd.read_csv('data/movies.csv')"
   ],
   "metadata": {
    "collapsed": false,
    "ExecuteTime": {
     "end_time": "2023-11-10T21:01:09.956987100Z",
     "start_time": "2023-11-10T21:01:01.906462900Z"
    }
   },
   "id": "5487906597395541"
  },
  {
   "cell_type": "code",
   "execution_count": 10,
   "outputs": [
    {
     "name": "stdout",
     "output_type": "stream",
     "text": [
      "Number of ratings: 25000095\n",
      "Number of unique movieId's: 59047\n",
      "Number of unique users: 162541\n",
      "Average number of ratings per user: 153.81\n",
      "Average number of ratings per movie: 423.39\n"
     ]
    }
   ],
   "source": [
    "n_ratings = len(ratings)\n",
    "n_movies = ratings['movieId'].nunique()\n",
    "n_users = ratings['userId'].nunique()\n",
    "\n",
    "print(f\"Number of ratings: {n_ratings}\")\n",
    "print(f\"Number of unique movieId's: {n_movies}\")\n",
    "print(f\"Number of unique users: {n_users}\")\n",
    "print(f\"Average number of ratings per user: {round(n_ratings/n_users, 2)}\")\n",
    "print(f\"Average number of ratings per movie: {round(n_ratings/n_movies, 2)}\")"
   ],
   "metadata": {
    "collapsed": false,
    "ExecuteTime": {
     "end_time": "2023-11-10T21:02:56.207481Z",
     "start_time": "2023-11-10T21:02:55.588847800Z"
    }
   },
   "id": "713872a32d152ebd"
  },
  {
   "cell_type": "code",
   "execution_count": 11,
   "outputs": [
    {
     "name": "stderr",
     "output_type": "stream",
     "text": [
      "C:\\Users\\rolan\\AppData\\Local\\Temp\\ipykernel_30216\\2656267757.py:1: FutureWarning: \n",
      "\n",
      "Passing `palette` without assigning `hue` is deprecated and will be removed in v0.14.0. Assign the `x` variable to `hue` and set `legend=False` for the same effect.\n",
      "\n",
      "  sns.countplot(x=\"rating\", data=ratings, palette=\"viridis\")\n"
     ]
    },
    {
     "data": {
      "text/plain": "<Figure size 640x480 with 1 Axes>",
      "image/png": "[encoded data removed]"
     },
     "metadata": {},
     "output_type": "display_data"
    }
   ],
   "source": [
    "#What is the distribution of movie ratings\n",
    "sns.countplot(x=\"rating\", data=ratings, palette=\"viridis\")\n",
    "plt.title(\"Distribution of movie ratings\", fontsize=14)\n",
    "plt.show()"
   ],
   "metadata": {
    "collapsed": false,
    "ExecuteTime": {
     "end_time": "2023-11-10T21:09:53.107304500Z",
     "start_time": "2023-11-10T21:09:01.124694500Z"
    }
   },
   "id": "cf5cc9a005d0ac9e"
  },
  {
   "cell_type": "code",
   "execution_count": 12,
   "outputs": [
    {
     "name": "stdout",
     "output_type": "stream",
     "text": [
      "Mean global rating: 3.53.\n",
      "Mean rating per user: 3.68.\n"
     ]
    }
   ],
   "source": [
    "print(f\"Mean global rating: {round(ratings['rating'].mean(),2)}.\")\n",
    "\n",
    "mean_ratings = ratings.groupby('userId')['rating'].mean()\n",
    "print(f\"Mean rating per user: {round(mean_ratings.mean(),2)}.\")"
   ],
   "metadata": {
    "collapsed": false,
    "ExecuteTime": {
     "end_time": "2023-11-10T21:11:56.296086600Z",
     "start_time": "2023-11-10T21:11:54.809461600Z"
    }
   },
   "id": "197dff54125bf5d2"
  },
  {
   "cell_type": "code",
   "execution_count": 13,
   "outputs": [
    {
     "data": {
      "text/plain": "title\nForrest Gump (1994)                          81491\nShawshank Redemption, The (1994)             81482\nPulp Fiction (1994)                          79672\nSilence of the Lambs, The (1991)             74127\nMatrix, The (1999)                           72674\nStar Wars: Episode IV - A New Hope (1977)    68717\nJurassic Park (1993)                         64144\nSchindler's List (1993)                      60411\nBraveheart (1995)                            59184\nFight Club (1999)                            58773\nName: count, dtype: int64"
     },
     "execution_count": 13,
     "metadata": {},
     "output_type": "execute_result"
    }
   ],
   "source": [
    "#Which movies are most frequently rated?\n",
    "movie_ratings = ratings.merge(movies, on='movieId')\n",
    "movie_ratings['title'].value_counts()[0:10]"
   ],
   "metadata": {
    "collapsed": false,
    "ExecuteTime": {
     "end_time": "2023-11-10T21:12:44.093377400Z",
     "start_time": "2023-11-10T21:12:34.535060300Z"
    }
   },
   "id": "4a0ea8d8f85acc4e"
  },
  {
   "cell_type": "code",
   "execution_count": 14,
   "outputs": [
    {
     "data": {
      "text/plain": "      movieId            title genres\n5693     5805  Besotted (2001)  Drama",
      "text/html": "<div>\n<style scoped>\n    .dataframe tbody tr th:only-of-type {\n        vertical-align: middle;\n    }\n\n    .dataframe tbody tr th {\n        vertical-align: top;\n    }\n\n    .dataframe thead th {\n        text-align: right;\n    }\n</style>\n<table border=\"1\" class=\"dataframe\">\n  <thead>\n    <tr style=\"text-align: right;\">\n      <th></th>\n      <th>movieId</th>\n      <th>title</th>\n      <th>genres</th>\n    </tr>\n  </thead>\n  <tbody>\n    <tr>\n      <th>5693</th>\n      <td>5805</td>\n      <td>Besotted (2001)</td>\n      <td>Drama</td>\n    </tr>\n  </tbody>\n</table>\n</div>"
     },
     "execution_count": 14,
     "metadata": {},
     "output_type": "execute_result"
    }
   ],
   "source": [
    "#What are the lowest and highest rated movies\n",
    "mean_ratings = ratings.groupby('movieId')[['rating']].mean()\n",
    "lowest_rated = mean_ratings['rating'].idxmin()\n",
    "movies[movies['movieId']==lowest_rated]"
   ],
   "metadata": {
    "collapsed": false,
    "ExecuteTime": {
     "end_time": "2023-11-10T21:18:50.040126500Z",
     "start_time": "2023-11-10T21:18:48.284511100Z"
    }
   },
   "id": "17ab4a3774fc8fb0"
  },
  {
   "cell_type": "code",
   "execution_count": 15,
   "outputs": [
    {
     "data": {
      "text/plain": "      movieId                                              title       genres\n9416    27914  Hijacking Catastrophe: 9/11, Fear & the Sellin...  Documentary",
      "text/html": "<div>\n<style scoped>\n    .dataframe tbody tr th:only-of-type {\n        vertical-align: middle;\n    }\n\n    .dataframe tbody tr th {\n        vertical-align: top;\n    }\n\n    .dataframe thead th {\n        text-align: right;\n    }\n</style>\n<table border=\"1\" class=\"dataframe\">\n  <thead>\n    <tr style=\"text-align: right;\">\n      <th></th>\n      <th>movieId</th>\n      <th>title</th>\n      <th>genres</th>\n    </tr>\n  </thead>\n  <tbody>\n    <tr>\n      <th>9416</th>\n      <td>27914</td>\n      <td>Hijacking Catastrophe: 9/11, Fear &amp; the Sellin...</td>\n      <td>Documentary</td>\n    </tr>\n  </tbody>\n</table>\n</div>"
     },
     "execution_count": 15,
     "metadata": {},
     "output_type": "execute_result"
    }
   ],
   "source": [
    "highest_rated = mean_ratings['rating'].idxmax()\n",
    "movies[movies['movieId'] == highest_rated]"
   ],
   "metadata": {
    "collapsed": false,
    "ExecuteTime": {
     "end_time": "2023-11-10T21:19:36.735188200Z",
     "start_time": "2023-11-10T21:19:36.663988600Z"
    }
   },
   "id": "9b27a4b67a370137"
  },
  {
   "cell_type": "code",
   "execution_count": 16,
   "outputs": [
    {
     "data": {
      "text/plain": "          userId  movieId  rating   timestamp\n19328266  125475    27914     5.0  1409649085",
      "text/html": "<div>\n<style scoped>\n    .dataframe tbody tr th:only-of-type {\n        vertical-align: middle;\n    }\n\n    .dataframe tbody tr th {\n        vertical-align: top;\n    }\n\n    .dataframe thead th {\n        text-align: right;\n    }\n</style>\n<table border=\"1\" class=\"dataframe\">\n  <thead>\n    <tr style=\"text-align: right;\">\n      <th></th>\n      <th>userId</th>\n      <th>movieId</th>\n      <th>rating</th>\n      <th>timestamp</th>\n    </tr>\n  </thead>\n  <tbody>\n    <tr>\n      <th>19328266</th>\n      <td>125475</td>\n      <td>27914</td>\n      <td>5.0</td>\n      <td>1409649085</td>\n    </tr>\n  </tbody>\n</table>\n</div>"
     },
     "execution_count": 16,
     "metadata": {},
     "output_type": "execute_result"
    }
   ],
   "source": [
    "ratings[ratings['movieId']==highest_rated]"
   ],
   "metadata": {
    "collapsed": false,
    "ExecuteTime": {
     "end_time": "2023-11-10T21:19:56.685500500Z",
     "start_time": "2023-11-10T21:19:56.600381400Z"
    }
   },
   "id": "eb2bb1242bffca31"
  },
  {
   "cell_type": "code",
   "execution_count": 17,
   "outputs": [
    {
     "data": {
      "text/plain": "         count      mean\nmovieId                 \n1        57309  3.893708\n2        24228  3.251527\n3        11804  3.142028\n4         2523  2.853547\n5        11714  3.058434",
      "text/html": "<div>\n<style scoped>\n    .dataframe tbody tr th:only-of-type {\n        vertical-align: middle;\n    }\n\n    .dataframe tbody tr th {\n        vertical-align: top;\n    }\n\n    .dataframe thead th {\n        text-align: right;\n    }\n</style>\n<table border=\"1\" class=\"dataframe\">\n  <thead>\n    <tr style=\"text-align: right;\">\n      <th></th>\n      <th>count</th>\n      <th>mean</th>\n    </tr>\n    <tr>\n      <th>movieId</th>\n      <th></th>\n      <th></th>\n    </tr>\n  </thead>\n  <tbody>\n    <tr>\n      <th>1</th>\n      <td>57309</td>\n      <td>3.893708</td>\n    </tr>\n    <tr>\n      <th>2</th>\n      <td>24228</td>\n      <td>3.251527</td>\n    </tr>\n    <tr>\n      <th>3</th>\n      <td>11804</td>\n      <td>3.142028</td>\n    </tr>\n    <tr>\n      <th>4</th>\n      <td>2523</td>\n      <td>2.853547</td>\n    </tr>\n    <tr>\n      <th>5</th>\n      <td>11714</td>\n      <td>3.058434</td>\n    </tr>\n  </tbody>\n</table>\n</div>"
     },
     "execution_count": 17,
     "metadata": {},
     "output_type": "execute_result"
    }
   ],
   "source": [
    "#Bayesian Average\n",
    "movie_stats = ratings.groupby('movieId')['rating'].agg(['count', 'mean'])\n",
    "movie_stats.head()"
   ],
   "metadata": {
    "collapsed": false,
    "ExecuteTime": {
     "end_time": "2023-11-10T21:22:12.332564900Z",
     "start_time": "2023-11-10T21:22:10.234471800Z"
    }
   },
   "id": "effde07a7bfb76a3"
  },
  {
   "cell_type": "code",
   "execution_count": 18,
   "outputs": [
    {
     "name": "stdout",
     "output_type": "stream",
     "text": [
      "Average number of ratings for a given movie: 423.39\n",
      "Average rating for a given movie: 3.07\n"
     ]
    }
   ],
   "source": [
    "C = movie_stats['count'].mean()\n",
    "m = movie_stats['mean'].mean()\n",
    "\n",
    "print(f\"Average number of ratings for a given movie: {C:.2f}\")\n",
    "print(f\"Average rating for a given movie: {m:.2f}\")\n",
    "\n",
    "def bayesian_avg(ratings):\n",
    "    bayesian_avg = (C*m+ratings.sum())/(C+ratings.count())\n",
    "    return round(bayesian_avg, 3)"
   ],
   "metadata": {
    "collapsed": false,
    "ExecuteTime": {
     "end_time": "2023-11-10T21:22:58.531307500Z",
     "start_time": "2023-11-10T21:22:58.494745Z"
    }
   },
   "id": "8f3382008fe7b8aa"
  },
  {
   "cell_type": "code",
   "execution_count": 19,
   "outputs": [
    {
     "data": {
      "text/plain": "3.08"
     },
     "execution_count": 19,
     "metadata": {},
     "output_type": "execute_result"
    }
   ],
   "source": [
    "lamerica = pd.Series([5, 5])\n",
    "bayesian_avg(lamerica)"
   ],
   "metadata": {
    "collapsed": false,
    "ExecuteTime": {
     "end_time": "2023-11-10T21:23:20.177245Z",
     "start_time": "2023-11-10T21:23:20.152745100Z"
    }
   },
   "id": "504926a29524e5ab"
  },
  {
   "cell_type": "code",
   "execution_count": 20,
   "outputs": [],
   "source": [
    "#Lamerica's average Bayesian rating is 3.5\n",
    "#Let's now apply bayesian_avg to all movies in our dataset\n",
    "bayesian_avg_ratings = ratings.groupby('movieId')['rating'].agg(bayesian_avg).reset_index()\n",
    "bayesian_avg_ratings.columns = ['movieId', 'bayesian_avg']\n",
    "movie_stats = movie_stats.merge(bayesian_avg_ratings, on='movieId')"
   ],
   "metadata": {
    "collapsed": false,
    "ExecuteTime": {
     "end_time": "2023-11-10T21:25:23.787026500Z",
     "start_time": "2023-11-10T21:25:18.839478900Z"
    }
   },
   "id": "59f2804f51a04b69"
  },
  {
   "cell_type": "code",
   "execution_count": 21,
   "outputs": [
    {
     "data": {
      "text/plain": "      movieId  count      mean  bayesian_avg                             title\n314       318  81482  4.413576         4.407  Shawshank Redemption, The (1994)\n840       858  52498  4.324336         4.314             Godfather, The (1972)\n49         50  55366  4.284353         4.275        Usual Suspects, The (1995)\n1190     1221  34188  4.261759         4.247    Godfather: Part II, The (1974)\n522       527  60411  4.247579         4.239           Schindler's List (1993)",
      "text/html": "<div>\n<style scoped>\n    .dataframe tbody tr th:only-of-type {\n        vertical-align: middle;\n    }\n\n    .dataframe tbody tr th {\n        vertical-align: top;\n    }\n\n    .dataframe thead th {\n        text-align: right;\n    }\n</style>\n<table border=\"1\" class=\"dataframe\">\n  <thead>\n    <tr style=\"text-align: right;\">\n      <th></th>\n      <th>movieId</th>\n      <th>count</th>\n      <th>mean</th>\n      <th>bayesian_avg</th>\n      <th>title</th>\n    </tr>\n  </thead>\n  <tbody>\n    <tr>\n      <th>314</th>\n      <td>318</td>\n      <td>81482</td>\n      <td>4.413576</td>\n      <td>4.407</td>\n      <td>Shawshank Redemption, The (1994)</td>\n    </tr>\n    <tr>\n      <th>840</th>\n      <td>858</td>\n      <td>52498</td>\n      <td>4.324336</td>\n      <td>4.314</td>\n      <td>Godfather, The (1972)</td>\n    </tr>\n    <tr>\n      <th>49</th>\n      <td>50</td>\n      <td>55366</td>\n      <td>4.284353</td>\n      <td>4.275</td>\n      <td>Usual Suspects, The (1995)</td>\n    </tr>\n    <tr>\n      <th>1190</th>\n      <td>1221</td>\n      <td>34188</td>\n      <td>4.261759</td>\n      <td>4.247</td>\n      <td>Godfather: Part II, The (1974)</td>\n    </tr>\n    <tr>\n      <th>522</th>\n      <td>527</td>\n      <td>60411</td>\n      <td>4.247579</td>\n      <td>4.239</td>\n      <td>Schindler's List (1993)</td>\n    </tr>\n  </tbody>\n</table>\n</div>"
     },
     "execution_count": 21,
     "metadata": {},
     "output_type": "execute_result"
    }
   ],
   "source": [
    "#This result makes much more sense since these movies are\n",
    "#critically acclaimed films\n",
    "movie_stats = movie_stats.merge(movies[['movieId', 'title']])\n",
    "movie_stats.sort_values('bayesian_avg', ascending=False).head()"
   ],
   "metadata": {
    "collapsed": false,
    "ExecuteTime": {
     "end_time": "2023-11-10T21:25:34.335422200Z",
     "start_time": "2023-11-10T21:25:34.263279200Z"
    }
   },
   "id": "e2a1d15d836622c7"
  },
  {
   "cell_type": "code",
   "execution_count": 22,
   "outputs": [
    {
     "data": {
      "text/plain": "       movieId  count      mean  bayesian_avg                     title\n3494      3593   4268  1.578374         1.713  Battlefield Earth (2000)\n6464      6587    758  1.214380         1.880              Gigli (2003)\n4669      4775    669  1.125561         1.880            Glitter (2001)\n11349    50798   1180  1.457203         1.883         Epic Movie (2007)\n9603     31698    633  1.232227         1.969    Son of the Mask (2005)",
      "text/html": "<div>\n<style scoped>\n    .dataframe tbody tr th:only-of-type {\n        vertical-align: middle;\n    }\n\n    .dataframe tbody tr th {\n        vertical-align: top;\n    }\n\n    .dataframe thead th {\n        text-align: right;\n    }\n</style>\n<table border=\"1\" class=\"dataframe\">\n  <thead>\n    <tr style=\"text-align: right;\">\n      <th></th>\n      <th>movieId</th>\n      <th>count</th>\n      <th>mean</th>\n      <th>bayesian_avg</th>\n      <th>title</th>\n    </tr>\n  </thead>\n  <tbody>\n    <tr>\n      <th>3494</th>\n      <td>3593</td>\n      <td>4268</td>\n      <td>1.578374</td>\n      <td>1.713</td>\n      <td>Battlefield Earth (2000)</td>\n    </tr>\n    <tr>\n      <th>6464</th>\n      <td>6587</td>\n      <td>758</td>\n      <td>1.214380</td>\n      <td>1.880</td>\n      <td>Gigli (2003)</td>\n    </tr>\n    <tr>\n      <th>4669</th>\n      <td>4775</td>\n      <td>669</td>\n      <td>1.125561</td>\n      <td>1.880</td>\n      <td>Glitter (2001)</td>\n    </tr>\n    <tr>\n      <th>11349</th>\n      <td>50798</td>\n      <td>1180</td>\n      <td>1.457203</td>\n      <td>1.883</td>\n      <td>Epic Movie (2007)</td>\n    </tr>\n    <tr>\n      <th>9603</th>\n      <td>31698</td>\n      <td>633</td>\n      <td>1.232227</td>\n      <td>1.969</td>\n      <td>Son of the Mask (2005)</td>\n    </tr>\n  </tbody>\n</table>\n</div>"
     },
     "execution_count": 22,
     "metadata": {},
     "output_type": "execute_result"
    }
   ],
   "source": [
    "movie_stats.sort_values('bayesian_avg', ascending=True).head()"
   ],
   "metadata": {
    "collapsed": false,
    "ExecuteTime": {
     "end_time": "2023-11-10T21:28:03.720624200Z",
     "start_time": "2023-11-10T21:28:03.651361800Z"
    }
   },
   "id": "566e650db899a08"
  },
  {
   "cell_type": "code",
   "execution_count": 23,
   "outputs": [
    {
     "data": {
      "text/plain": "   movieId                               title  \\\n0        1                    Toy Story (1995)   \n1        2                      Jumanji (1995)   \n2        3             Grumpier Old Men (1995)   \n3        4            Waiting to Exhale (1995)   \n4        5  Father of the Bride Part II (1995)   \n\n                                              genres  \n0  [Adventure, Animation, Children, Comedy, Fantasy]  \n1                     [Adventure, Children, Fantasy]  \n2                                  [Comedy, Romance]  \n3                           [Comedy, Drama, Romance]  \n4                                           [Comedy]  ",
      "text/html": "<div>\n<style scoped>\n    .dataframe tbody tr th:only-of-type {\n        vertical-align: middle;\n    }\n\n    .dataframe tbody tr th {\n        vertical-align: top;\n    }\n\n    .dataframe thead th {\n        text-align: right;\n    }\n</style>\n<table border=\"1\" class=\"dataframe\">\n  <thead>\n    <tr style=\"text-align: right;\">\n      <th></th>\n      <th>movieId</th>\n      <th>title</th>\n      <th>genres</th>\n    </tr>\n  </thead>\n  <tbody>\n    <tr>\n      <th>0</th>\n      <td>1</td>\n      <td>Toy Story (1995)</td>\n      <td>[Adventure, Animation, Children, Comedy, Fantasy]</td>\n    </tr>\n    <tr>\n      <th>1</th>\n      <td>2</td>\n      <td>Jumanji (1995)</td>\n      <td>[Adventure, Children, Fantasy]</td>\n    </tr>\n    <tr>\n      <th>2</th>\n      <td>3</td>\n      <td>Grumpier Old Men (1995)</td>\n      <td>[Comedy, Romance]</td>\n    </tr>\n    <tr>\n      <th>3</th>\n      <td>4</td>\n      <td>Waiting to Exhale (1995)</td>\n      <td>[Comedy, Drama, Romance]</td>\n    </tr>\n    <tr>\n      <th>4</th>\n      <td>5</td>\n      <td>Father of the Bride Part II (1995)</td>\n      <td>[Comedy]</td>\n    </tr>\n  </tbody>\n</table>\n</div>"
     },
     "execution_count": 23,
     "metadata": {},
     "output_type": "execute_result"
    }
   ],
   "source": [
    "#A Glimpse at Movie Genres\n",
    "movies['genres'] = movies['genres'].apply(lambda x: x.split(\"|\"))\n",
    "movies.head()"
   ],
   "metadata": {
    "collapsed": false,
    "ExecuteTime": {
     "end_time": "2023-11-10T21:29:27.527101400Z",
     "start_time": "2023-11-10T21:29:23.230290900Z"
    }
   },
   "id": "3b5722ab3e6a7264"
  },
  {
   "cell_type": "code",
   "execution_count": 24,
   "outputs": [
    {
     "name": "stdout",
     "output_type": "stream",
     "text": [
      "There are 20 genres.\n"
     ]
    },
    {
     "data": {
      "text/plain": "Counter({'Drama': 25606,\n         'Comedy': 16870,\n         'Thriller': 8654,\n         'Romance': 7719,\n         'Action': 7348,\n         'Horror': 5989,\n         'Documentary': 5605,\n         'Crime': 5319,\n         '(no genres listed)': 5062,\n         'Adventure': 4145,\n         'Sci-Fi': 3595,\n         'Children': 2935,\n         'Animation': 2929,\n         'Mystery': 2925,\n         'Fantasy': 2731,\n         'War': 1874,\n         'Western': 1399,\n         'Musical': 1054,\n         'Film-Noir': 353,\n         'IMAX': 195})"
     },
     "execution_count": 24,
     "metadata": {},
     "output_type": "execute_result"
    }
   ],
   "source": [
    "#How many movie genres are there?\n",
    "from collections import Counter\n",
    "\n",
    "genre_frequency = Counter(g for genres in movies['genres'] for g in genres)\n",
    "\n",
    "print(f\"There are {len(genre_frequency)} genres.\")\n",
    "\n",
    "genre_frequency"
   ],
   "metadata": {
    "collapsed": false,
    "ExecuteTime": {
     "end_time": "2023-11-10T21:30:35.893336100Z",
     "start_time": "2023-11-10T21:30:35.820246500Z"
    }
   },
   "id": "c6a6d2abf1888e2f"
  },
  {
   "cell_type": "code",
   "execution_count": 25,
   "outputs": [
    {
     "name": "stdout",
     "output_type": "stream",
     "text": [
      "The 5 most common genres: \n",
      " [('Drama', 25606), ('Comedy', 16870), ('Thriller', 8654), ('Romance', 7719), ('Action', 7348)]\n"
     ]
    }
   ],
   "source": [
    "print(\"The 5 most common genres: \\n\", genre_frequency.most_common(5))"
   ],
   "metadata": {
    "collapsed": false,
    "ExecuteTime": {
     "end_time": "2023-11-10T21:31:14.659957600Z",
     "start_time": "2023-11-10T21:31:14.631340100Z"
    }
   },
   "id": "a5db62fbedb0c508"
  },
  {
   "cell_type": "code",
   "execution_count": null,
   "outputs": [],
   "source": [],
   "metadata": {
    "collapsed": false
   },
   "id": "2401c833ce6c9459"
  },
  {
   "cell_type": "code",
   "execution_count": 26,
   "outputs": [
    {
     "data": {
      "text/plain": "<Figure size 640x480 with 1 Axes>",
      "image/png": "[encoded data removed]"
     },
     "metadata": {},
     "output_type": "display_data"
    }
   ],
   "source": [
    "#Let's also visualize genres popularity with a barplot\n",
    "genre_frequency_df = pd.DataFrame([genre_frequency]).T.reset_index()\n",
    "genre_frequency_df.columns = ['genre', 'count']\n",
    "\n",
    "sns.barplot(x='genre', y='count', data=genre_frequency_df.sort_values(by='count', ascending=False))\n",
    "plt.xticks(rotation=90)\n",
    "plt.show()"
   ],
   "metadata": {
    "collapsed": false,
    "ExecuteTime": {
     "end_time": "2023-11-10T21:32:30.743161400Z",
     "start_time": "2023-11-10T21:32:30.513196600Z"
    }
   },
   "id": "ad9a30e5767128a5"
  },
  {
   "cell_type": "code",
   "execution_count": null,
   "outputs": [],
   "source": [
    "#Data Pre-processing\n",
    "#We are going to use a technique called collaborative filtering to generate recommendations for users.\n",
    "#user-item matrix, \"utility\" matrix.\n",
    "#The beauty of collaborative filtering is that it does not require any information about the users or the movies user to generation recommendations"
   ],
   "metadata": {
    "collapsed": false
   },
   "id": "b90d7cebc510d8f5"
  },
  {
   "cell_type": "code",
   "execution_count": null,
   "outputs": [],
   "source": [
    "#The create_X() function outputs a sparse matrix X with four mapper dictionaries:\n",
    "#user_mapper: maps user id to user index\n",
    "#movie_mapper: maps movie id to movie index\n",
    "#user_inv_mapper: maps user index to user id\n",
    "#movie_inv_mapper: maps movie index to movie id"
   ],
   "metadata": {
    "collapsed": false
   },
   "id": "4b7f6ace6bdc6920"
  },
  {
   "cell_type": "code",
   "execution_count": 27,
   "outputs": [],
   "source": [
    "from scipy.sparse import csr_matrix\n",
    "\n",
    "def create_X(df):\n",
    "    \"\"\"\n",
    "    Generates a sparse matrix from ratings dataframe.\n",
    "    \n",
    "    Args:\n",
    "        df: pandas dataframe containing 3 columns (userId, movieId, rating)\n",
    "    \n",
    "    Returns:\n",
    "        X: sparse matrix\n",
    "        user_mapper: dict that maps user id's to user indices\n",
    "        user_inv_mapper: dict that maps user indices to user id's\n",
    "        movie_mapper: dict that maps movie id's to movie indices\n",
    "        movie_inv_mapper: dict that maps movie indices to movie id's\n",
    "    \"\"\"\n",
    "    M = df['userId'].nunique()\n",
    "    N = df['movieId'].nunique()\n",
    "\n",
    "    user_mapper = dict(zip(np.unique(df[\"userId\"]), list(range(M))))\n",
    "    movie_mapper = dict(zip(np.unique(df[\"movieId\"]), list(range(N))))\n",
    "    \n",
    "    user_inv_mapper = dict(zip(list(range(M)), np.unique(df[\"userId\"])))\n",
    "    movie_inv_mapper = dict(zip(list(range(N)), np.unique(df[\"movieId\"])))\n",
    "    \n",
    "    user_index = [user_mapper[i] for i in df['userId']]\n",
    "    item_index = [movie_mapper[i] for i in df['movieId']]\n",
    "\n",
    "    X = csr_matrix((df[\"rating\"], (user_index,item_index)), shape=(M,N))\n",
    "    \n",
    "    return X, user_mapper, movie_mapper, user_inv_mapper, movie_inv_mapper\n",
    "\n",
    "X, user_mapper, movie_mapper, user_inv_mapper, movie_inv_mapper = create_X(ratings)"
   ],
   "metadata": {
    "collapsed": false,
    "ExecuteTime": {
     "end_time": "2023-11-10T21:56:53.727156200Z",
     "start_time": "2023-11-10T21:56:16.038736100Z"
    }
   },
   "id": "7b25a714e01ac295"
  },
  {
   "cell_type": "code",
   "execution_count": 28,
   "outputs": [
    {
     "data": {
      "text/plain": "(162541, 59047)"
     },
     "execution_count": 28,
     "metadata": {},
     "output_type": "execute_result"
    }
   ],
   "source": [
    "X.shape"
   ],
   "metadata": {
    "collapsed": false,
    "ExecuteTime": {
     "end_time": "2023-11-10T21:57:12.771908Z",
     "start_time": "2023-11-10T21:57:12.727221300Z"
    }
   },
   "id": "7b26e9808d1b83dd"
  },
  {
   "cell_type": "code",
   "execution_count": null,
   "outputs": [],
   "source": [
    "#Evaluating sparsity\n",
    "#The number of stored(non-empty) elements in our matrix is equivalent to the number of ratings in our dataset"
   ],
   "metadata": {
    "collapsed": false
   },
   "id": "81e80294ba6a5c5f"
  },
  {
   "cell_type": "code",
   "execution_count": 29,
   "outputs": [
    {
     "name": "stdout",
     "output_type": "stream",
     "text": [
      "Matrix sparsity: 0.26%\n"
     ]
    }
   ],
   "source": [
    "n_total = X.shape[0]*X.shape[1]\n",
    "n_ratings = X.nnz\n",
    "sparsity = n_ratings/n_total\n",
    "print(f\"Matrix sparsity: {round(sparsity*100,2)}%\")"
   ],
   "metadata": {
    "collapsed": false,
    "ExecuteTime": {
     "end_time": "2023-11-10T22:02:11.425682500Z",
     "start_time": "2023-11-10T22:02:11.392470300Z"
    }
   },
   "id": "f9aa3c3c85daf33d"
  },
  {
   "cell_type": "code",
   "execution_count": 30,
   "outputs": [
    {
     "data": {
      "text/plain": "162541"
     },
     "execution_count": 30,
     "metadata": {},
     "output_type": "execute_result"
    }
   ],
   "source": [
    "n_ratings_per_user = X.getnnz(axis=1)\n",
    "len(n_ratings_per_user)"
   ],
   "metadata": {
    "collapsed": false,
    "ExecuteTime": {
     "end_time": "2023-11-10T22:02:56.202386800Z",
     "start_time": "2023-11-10T22:02:56.181591800Z"
    }
   },
   "id": "74312b77965b3968"
  },
  {
   "cell_type": "code",
   "execution_count": 31,
   "outputs": [
    {
     "name": "stdout",
     "output_type": "stream",
     "text": [
      "Most active user rated 32202 movies.\n",
      "Least active user rated 20 movies.\n"
     ]
    }
   ],
   "source": [
    "print(f\"Most active user rated {n_ratings_per_user.max()} movies.\")\n",
    "print(f\"Least active user rated {n_ratings_per_user.min()} movies.\")"
   ],
   "metadata": {
    "collapsed": false,
    "ExecuteTime": {
     "end_time": "2023-11-10T22:03:20.855945900Z",
     "start_time": "2023-11-10T22:03:20.823966200Z"
    }
   },
   "id": "bd26f8a9cbe84b9d"
  },
  {
   "cell_type": "code",
   "execution_count": 32,
   "outputs": [
    {
     "data": {
      "text/plain": "59047"
     },
     "execution_count": 32,
     "metadata": {},
     "output_type": "execute_result"
    }
   ],
   "source": [
    "n_ratings_per_movie = X.getnnz(axis=0)\n",
    "len(n_ratings_per_movie)"
   ],
   "metadata": {
    "collapsed": false,
    "ExecuteTime": {
     "end_time": "2023-11-10T22:03:36.182250900Z",
     "start_time": "2023-11-10T22:03:35.894632100Z"
    }
   },
   "id": "41e6bf4b79a7a695"
  },
  {
   "cell_type": "code",
   "execution_count": 33,
   "outputs": [
    {
     "name": "stdout",
     "output_type": "stream",
     "text": [
      "Most rated movie has 81491 ratings.\n",
      "Least rated movie has 1 ratings.\n"
     ]
    }
   ],
   "source": [
    "print(f\"Most rated movie has {n_ratings_per_movie.max()} ratings.\")\n",
    "print(f\"Least rated movie has {n_ratings_per_movie.min()} ratings.\")"
   ],
   "metadata": {
    "collapsed": false,
    "ExecuteTime": {
     "end_time": "2023-11-10T22:03:45.423605600Z",
     "start_time": "2023-11-10T22:03:45.370653200Z"
    }
   },
   "id": "fcef862849a295ec"
  },
  {
   "cell_type": "code",
   "execution_count": 34,
   "outputs": [
    {
     "name": "stderr",
     "output_type": "stream",
     "text": [
      "C:\\Users\\rolan\\AppData\\Local\\Temp\\ipykernel_30216\\81296992.py:3: FutureWarning: \n",
      "\n",
      "`shade` is now deprecated in favor of `fill`; setting `fill=True`.\n",
      "This will become an error in seaborn v0.14.0; please update your code.\n",
      "\n",
      "  sns.kdeplot(n_ratings_per_user, shade=True)\n",
      "C:\\Users\\rolan\\AppData\\Local\\Temp\\ipykernel_30216\\81296992.py:9: FutureWarning: \n",
      "\n",
      "`shade` is now deprecated in favor of `fill`; setting `fill=True`.\n",
      "This will become an error in seaborn v0.14.0; please update your code.\n",
      "\n",
      "  sns.kdeplot(n_ratings_per_movie, shade=True)\n"
     ]
    },
    {
     "data": {
      "text/plain": "<Figure size 1600x400 with 2 Axes>",
      "image/png": "[encoded data removed]"
     },
     "metadata": {},
     "output_type": "display_data"
    }
   ],
   "source": [
    "plt.figure(figsize=(16,4))\n",
    "plt.subplot(1,2,1)\n",
    "sns.kdeplot(n_ratings_per_user, shade=True)\n",
    "plt.xlim(0)\n",
    "plt.title(\"Number of Ratings Per User\", fontsize=14)\n",
    "plt.xlabel(\"number of ratings per user\")\n",
    "plt.ylabel(\"density\")\n",
    "plt.subplot(1,2,2)\n",
    "sns.kdeplot(n_ratings_per_movie, shade=True)\n",
    "plt.xlim(0)\n",
    "plt.title(\"Number of Ratings Per Movie\", fontsize=14)\n",
    "plt.xlabel(\"number of ratings per movie\")\n",
    "plt.ylabel(\"density\")\n",
    "plt.show()"
   ],
   "metadata": {
    "collapsed": false,
    "ExecuteTime": {
     "end_time": "2023-11-10T22:04:05.556102700Z",
     "start_time": "2023-11-10T22:04:01.427155500Z"
    }
   },
   "id": "8dac1f34f31980db"
  },
  {
   "cell_type": "code",
   "execution_count": 35,
   "outputs": [],
   "source": [
    "#Item-item recommendations with K-Nearest Neighbors\n",
    "from sklearn.neighbors import NearestNeighbors\n",
    "\n",
    "def find_similar_movies(movie_id, X, movie_mapper, movie_inv_mapper, k, metric='cosine'):\n",
    "    \"\"\"\n",
    "    Finds k-nearest neighbours for a given movie id.\n",
    "    \n",
    "    Args:\n",
    "        movie_id: id of the movie of interest\n",
    "        X: user-item utility matrix\n",
    "        k: number of similar movies to retrieve\n",
    "        metric: distance metric for kNN calculations\n",
    "    \n",
    "    Output: returns list of k similar movie ID's\n",
    "    \"\"\"\n",
    "    X = X.T\n",
    "    neighbour_ids = []\n",
    "    \n",
    "    movie_ind = movie_mapper[movie_id]\n",
    "    movie_vec = X[movie_ind]\n",
    "    if isinstance(movie_vec, (np.ndarray)):\n",
    "        movie_vec = movie_vec.reshape(1,-1)\n",
    "    # use k+1 since kNN output includes the movieId of interest\n",
    "    kNN = NearestNeighbors(n_neighbors=k+1, algorithm=\"brute\", metric=metric)\n",
    "    kNN.fit(X)\n",
    "    neighbour = kNN.kneighbors(movie_vec, return_distance=False)\n",
    "    for i in range(0,k):\n",
    "        n = neighbour.item(i)\n",
    "        neighbour_ids.append(movie_inv_mapper[n])\n",
    "    neighbour_ids.pop(0)\n",
    "    return neighbour_ids"
   ],
   "metadata": {
    "collapsed": false,
    "ExecuteTime": {
     "end_time": "2023-11-10T22:09:10.360888800Z",
     "start_time": "2023-11-10T22:07:57.884149300Z"
    }
   },
   "id": "71e700285bf9dd6a"
  },
  {
   "cell_type": "code",
   "execution_count": 36,
   "outputs": [
    {
     "data": {
      "text/plain": "[260, 3114, 1270, 356, 480, 1210, 780, 364, 588]"
     },
     "execution_count": 36,
     "metadata": {},
     "output_type": "execute_result"
    }
   ],
   "source": [
    "similar_movies = find_similar_movies(1, X, movie_mapper, movie_inv_mapper, k=10)\n",
    "similar_movies"
   ],
   "metadata": {
    "collapsed": false,
    "ExecuteTime": {
     "end_time": "2023-11-10T22:09:29.623145600Z",
     "start_time": "2023-11-10T22:09:25.423345300Z"
    }
   },
   "id": "86f29df0403d317f"
  },
  {
   "cell_type": "code",
   "execution_count": null,
   "outputs": [],
   "source": [
    "#find_similar_movies() takes in a movieId and x matrix, and outputs a list of k movies that are similar to the movieId of interest"
   ],
   "metadata": {
    "collapsed": false
   },
   "id": "c2f4bbfeb732457b"
  },
  {
   "cell_type": "code",
   "execution_count": null,
   "outputs": [],
   "source": [
    "#To make things easier we will create a dictionary that maps movieId to title"
   ],
   "metadata": {
    "collapsed": false
   },
   "id": "aac6efd970d3d76a"
  },
  {
   "cell_type": "code",
   "execution_count": 37,
   "outputs": [
    {
     "name": "stdout",
     "output_type": "stream",
     "text": [
      "Because you watched Toy Story (1995):\n",
      "Star Wars: Episode IV - A New Hope (1977)\n",
      "Toy Story 2 (1999)\n",
      "Back to the Future (1985)\n",
      "Forrest Gump (1994)\n",
      "Jurassic Park (1993)\n",
      "Star Wars: Episode VI - Return of the Jedi (1983)\n",
      "Independence Day (a.k.a. ID4) (1996)\n",
      "Lion King, The (1994)\n",
      "Aladdin (1992)\n"
     ]
    }
   ],
   "source": [
    "movie_titles = dict(zip(movies['movieId'], movies['title']))\n",
    "\n",
    "movie_id = 1\n",
    "\n",
    "similar_movies = find_similar_movies(movie_id, X, movie_mapper, movie_inv_mapper, metric='cosine', k=10)\n",
    "movie_title = movie_titles[movie_id]\n",
    "\n",
    "print(f\"Because you watched {movie_title}:\")\n",
    "for i in similar_movies:\n",
    "    print(movie_titles[i])"
   ],
   "metadata": {
    "collapsed": false,
    "ExecuteTime": {
     "end_time": "2023-11-10T22:11:53.188966600Z",
     "start_time": "2023-11-10T22:11:51.031345100Z"
    }
   },
   "id": "d71e52cd4a87def7"
  },
  {
   "cell_type": "code",
   "execution_count": null,
   "outputs": [],
   "source": [
    "#Let's play around with kNN distance metric and see what results we would get if we use \"manhattan\" or \"euclidean\" instead of \"cosine\"."
   ],
   "metadata": {
    "collapsed": false
   },
   "id": "8bd98b6a5c1c04be"
  },
  {
   "cell_type": "code",
   "execution_count": 38,
   "outputs": [
    {
     "name": "stdout",
     "output_type": "stream",
     "text": [
      "Because you watched Toy Story (1995):\n",
      "Toy Story 2 (1999)\n",
      "Independence Day (a.k.a. ID4) (1996)\n",
      "Willy Wonka & the Chocolate Factory (1971)\n",
      "Bug's Life, A (1998)\n",
      "Mission: Impossible (1996)\n",
      "Aladdin (1992)\n",
      "Twister (1996)\n",
      "Monsters, Inc. (2001)\n",
      "Men in Black (a.k.a. MIB) (1997)\n"
     ]
    }
   ],
   "source": [
    "movie_id = 1\n",
    "\n",
    "similar_movies = find_similar_movies(movie_id, X, movie_mapper, movie_inv_mapper, metric='euclidean', k=10)\n",
    "movie_title = movie_titles[movie_id]\n",
    "\n",
    "print(f\"Because you watched {movie_title}:\")\n",
    "for i in similar_movies:\n",
    "    print(movie_titles[i])"
   ],
   "metadata": {
    "collapsed": false,
    "ExecuteTime": {
     "end_time": "2023-11-10T22:20:12.611802Z",
     "start_time": "2023-11-10T22:14:36.909854400Z"
    }
   },
   "id": "5b9d3eba79eae46b"
  },
  {
   "cell_type": "code",
   "execution_count": 39,
   "outputs": [
    {
     "name": "stdout",
     "output_type": "stream",
     "text": [
      "Because you watched Toy Story (1995):\n",
      "Toy Story 2 (1999)\n",
      "Willy Wonka & the Chocolate Factory (1971)\n",
      "Bug's Life, A (1998)\n",
      "Monsters, Inc. (2001)\n",
      "Mission: Impossible (1996)\n",
      "Finding Nemo (2003)\n",
      "Lion King, The (1994)\n",
      "Men in Black (a.k.a. MIB) (1997)\n",
      "Independence Day (a.k.a. ID4) (1996)\n"
     ]
    }
   ],
   "source": [
    "movie_id = 1\n",
    "\n",
    "similar_movies = find_similar_movies(movie_id, X, movie_mapper, movie_inv_mapper, metric='manhattan', k=10)\n",
    "movie_title = movie_titles[movie_id]\n",
    "\n",
    "print(f\"Because you watched {movie_title}:\")\n",
    "for i in similar_movies:\n",
    "    print(movie_titles[i])"
   ],
   "metadata": {
    "collapsed": false,
    "ExecuteTime": {
     "end_time": "2023-11-10T22:20:28.234222800Z",
     "start_time": "2023-11-10T22:20:24.822830600Z"
    }
   },
   "id": "69cdf76eea6f0c24"
  },
  {
   "cell_type": "code",
   "execution_count": null,
   "outputs": [],
   "source": [
    "#Handling the cold-start problem\n",
    "#Collaborative filtering relies solely on user-item interactions within the utility matrix. The issue with this approach is that brand new users or items with no iteractions get excluded from the recommendation system. This is called the **cold start problem**. Content-based filtering is a way to handle this problem by generating recommendations based on user and item features.\n",
    "\n",
    "#First, we need to convert the `genres` column into binary features. Each genre will have its own column in the dataframe, and will be populated with 0 or 1."
   ],
   "metadata": {
    "collapsed": false
   },
   "id": "e2b9812cc973d3fb"
  },
  {
   "cell_type": "code",
   "execution_count": 40,
   "outputs": [
    {
     "name": "stdout",
     "output_type": "stream",
     "text": [
      "There are 62423 unique movies in our movies dataset.\n"
     ]
    }
   ],
   "source": [
    "n_movies = movies['movieId'].nunique()\n",
    "print(f\"There are {n_movies} unique movies in our movies dataset.\")"
   ],
   "metadata": {
    "collapsed": false,
    "ExecuteTime": {
     "end_time": "2023-11-10T22:30:27.896998Z",
     "start_time": "2023-11-10T22:30:27.832927400Z"
    }
   },
   "id": "5e5ae61bf12839cd"
  },
  {
   "cell_type": "code",
   "execution_count": 41,
   "outputs": [],
   "source": [
    "genres = set(g for G in movies['genres'] for g in G)\n",
    "\n",
    "for g in genres:\n",
    "    movies[g] = movies.genres.transform(lambda x: int(g in x))\n",
    "    \n",
    "movie_genres = movies.drop(columns=['movieId', 'title','genres'])"
   ],
   "metadata": {
    "collapsed": false,
    "ExecuteTime": {
     "end_time": "2023-11-10T22:30:51.050016600Z",
     "start_time": "2023-11-10T22:30:49.548644600Z"
    }
   },
   "id": "be3252a6959542d8"
  },
  {
   "cell_type": "code",
   "execution_count": 42,
   "outputs": [
    {
     "data": {
      "text/plain": "   Action  Documentary  Children  Mystery  Thriller  Sci-Fi  Animation  \\\n0       0            0         1        0         0       0          1   \n1       0            0         1        0         0       0          0   \n2       0            0         0        0         0       0          0   \n3       0            0         0        0         0       0          0   \n4       0            0         0        0         0       0          0   \n\n   (no genres listed)  Romance  Drama  War  Horror  Fantasy  Comedy  \\\n0                   0        0      0    0       0        1       1   \n1                   0        0      0    0       0        1       0   \n2                   0        1      0    0       0        0       1   \n3                   0        1      1    0       0        0       1   \n4                   0        0      0    0       0        0       1   \n\n   Film-Noir  IMAX  Adventure  Musical  Crime  Western  \n0          0     0          1        0      0        0  \n1          0     0          1        0      0        0  \n2          0     0          0        0      0        0  \n3          0     0          0        0      0        0  \n4          0     0          0        0      0        0  ",
      "text/html": "<div>\n<style scoped>\n    .dataframe tbody tr th:only-of-type {\n        vertical-align: middle;\n    }\n\n    .dataframe tbody tr th {\n        vertical-align: top;\n    }\n\n    .dataframe thead th {\n        text-align: right;\n    }\n</style>\n<table border=\"1\" class=\"dataframe\">\n  <thead>\n    <tr style=\"text-align: right;\">\n      <th></th>\n      <th>Action</th>\n      <th>Documentary</th>\n      <th>Children</th>\n      <th>Mystery</th>\n      <th>Thriller</th>\n      <th>Sci-Fi</th>\n      <th>Animation</th>\n      <th>(no genres listed)</th>\n      <th>Romance</th>\n      <th>Drama</th>\n      <th>War</th>\n      <th>Horror</th>\n      <th>Fantasy</th>\n      <th>Comedy</th>\n      <th>Film-Noir</th>\n      <th>IMAX</th>\n      <th>Adventure</th>\n      <th>Musical</th>\n      <th>Crime</th>\n      <th>Western</th>\n    </tr>\n  </thead>\n  <tbody>\n    <tr>\n      <th>0</th>\n      <td>0</td>\n      <td>0</td>\n      <td>1</td>\n      <td>0</td>\n      <td>0</td>\n      <td>0</td>\n      <td>1</td>\n      <td>0</td>\n      <td>0</td>\n      <td>0</td>\n      <td>0</td>\n      <td>0</td>\n      <td>1</td>\n      <td>1</td>\n      <td>0</td>\n      <td>0</td>\n      <td>1</td>\n      <td>0</td>\n      <td>0</td>\n      <td>0</td>\n    </tr>\n    <tr>\n      <th>1</th>\n      <td>0</td>\n      <td>0</td>\n      <td>1</td>\n      <td>0</td>\n      <td>0</td>\n      <td>0</td>\n      <td>0</td>\n      <td>0</td>\n      <td>0</td>\n      <td>0</td>\n      <td>0</td>\n      <td>0</td>\n      <td>1</td>\n      <td>0</td>\n      <td>0</td>\n      <td>0</td>\n      <td>1</td>\n      <td>0</td>\n      <td>0</td>\n      <td>0</td>\n    </tr>\n    <tr>\n      <th>2</th>\n      <td>0</td>\n      <td>0</td>\n      <td>0</td>\n      <td>0</td>\n      <td>0</td>\n      <td>0</td>\n      <td>0</td>\n      <td>0</td>\n      <td>1</td>\n      <td>0</td>\n      <td>0</td>\n      <td>0</td>\n      <td>0</td>\n      <td>1</td>\n      <td>0</td>\n      <td>0</td>\n      <td>0</td>\n      <td>0</td>\n      <td>0</td>\n      <td>0</td>\n    </tr>\n    <tr>\n      <th>3</th>\n      <td>0</td>\n      <td>0</td>\n      <td>0</td>\n      <td>0</td>\n      <td>0</td>\n      <td>0</td>\n      <td>0</td>\n      <td>0</td>\n      <td>1</td>\n      <td>1</td>\n      <td>0</td>\n      <td>0</td>\n      <td>0</td>\n      <td>1</td>\n      <td>0</td>\n      <td>0</td>\n      <td>0</td>\n      <td>0</td>\n      <td>0</td>\n      <td>0</td>\n    </tr>\n    <tr>\n      <th>4</th>\n      <td>0</td>\n      <td>0</td>\n      <td>0</td>\n      <td>0</td>\n      <td>0</td>\n      <td>0</td>\n      <td>0</td>\n      <td>0</td>\n      <td>0</td>\n      <td>0</td>\n      <td>0</td>\n      <td>0</td>\n      <td>0</td>\n      <td>1</td>\n      <td>0</td>\n      <td>0</td>\n      <td>0</td>\n      <td>0</td>\n      <td>0</td>\n      <td>0</td>\n    </tr>\n  </tbody>\n</table>\n</div>"
     },
     "execution_count": 42,
     "metadata": {},
     "output_type": "execute_result"
    }
   ],
   "source": [
    "movie_genres.head()"
   ],
   "metadata": {
    "collapsed": false,
    "ExecuteTime": {
     "end_time": "2023-11-10T22:30:59.650225900Z",
     "start_time": "2023-11-10T22:30:59.594891100Z"
    }
   },
   "id": "7edeed7b2d7a50fd"
  },
  {
   "cell_type": "code",
   "execution_count": 43,
   "outputs": [
    {
     "name": "stdout",
     "output_type": "stream",
     "text": [
      "Dimensions of our genres cosine similarity matrix: (62423, 62423)\n"
     ]
    }
   ],
   "source": [
    "from sklearn.metrics.pairwise import cosine_similarity\n",
    "\n",
    "cosine_sim = cosine_similarity(movie_genres, movie_genres)\n",
    "print(f\"Dimensions of our genres cosine similarity matrix: {cosine_sim.shape}\")"
   ],
   "metadata": {
    "collapsed": false,
    "ExecuteTime": {
     "end_time": "2023-11-10T22:34:05.547693500Z",
     "start_time": "2023-11-10T22:31:36.253752600Z"
    }
   },
   "id": "1f764bb7019f038e"
  },
  {
   "cell_type": "code",
   "execution_count": null,
   "outputs": [],
   "source": [
    "#as expected after passing movie_genres dataframe into the cosine_similarity() function, we get a cosine similarity matrix of shape(n_movies, n_movies)"
   ],
   "metadata": {
    "collapsed": false
   },
   "id": "c84a035479c8f1ca"
  },
  {
   "cell_type": "code",
   "execution_count": 44,
   "outputs": [
    {
     "name": "stderr",
     "output_type": "stream",
     "text": [
      "C:\\Users\\rolan\\Desktop\\4.class\\Bitirme odevi\\recommendation_movie\\venv\\Lib\\site-packages\\fuzzywuzzy\\fuzz.py:11: UserWarning: Using slow pure-python SequenceMatcher. Install python-Levenshtein to remove this warning\n",
      "  warnings.warn('Using slow pure-python SequenceMatcher. Install python-Levenshtein to remove this warning')\n"
     ]
    },
    {
     "data": {
      "text/plain": "'Wolf (1994)'"
     },
     "execution_count": 44,
     "metadata": {},
     "output_type": "execute_result"
    }
   ],
   "source": [
    "#Creating a movie finder function\n",
    "from fuzzywuzzy import process\n",
    "\n",
    "def movie_finder(title):\n",
    "    all_titles = movies['title'].tolist()\n",
    "    closest_match = process.extractOne(title, all_titles)\n",
    "    return closest_match[0]\n",
    "\n",
    "#example\n",
    "title_movie = movie_finder('Wall street')\n",
    "title_movie"
   ],
   "metadata": {
    "collapsed": false,
    "ExecuteTime": {
     "end_time": "2023-11-10T22:45:48.650570300Z",
     "start_time": "2023-11-10T22:45:38.165059800Z"
    }
   },
   "id": "2491b3288430f4a8"
  },
  {
   "cell_type": "code",
   "execution_count": 46,
   "outputs": [
    {
     "data": {
      "text/plain": "'Jumanji (1995)'"
     },
     "execution_count": 46,
     "metadata": {},
     "output_type": "execute_result"
    }
   ],
   "source": [
    "title_movie = movie_finder('juminji')\n",
    "title_movie"
   ],
   "metadata": {
    "collapsed": false,
    "ExecuteTime": {
     "end_time": "2023-11-10T22:49:01.115503500Z",
     "start_time": "2023-11-10T22:48:17.708544Z"
    }
   },
   "id": "c3890a11e5b4261e"
  },
  {
   "cell_type": "code",
   "execution_count": 47,
   "outputs": [
    {
     "name": "stdout",
     "output_type": "stream",
     "text": [
      "Movie index for Jumanji: 1\n"
     ]
    }
   ],
   "source": [
    "movie_idx = dict(zip(movies['title'], list(movies.index)))\n",
    "idx = movie_idx[title_movie]\n",
    "print(f\"Movie index for Jumanji: {idx}\")"
   ],
   "metadata": {
    "collapsed": false,
    "ExecuteTime": {
     "end_time": "2023-11-10T22:49:29.244129600Z",
     "start_time": "2023-11-10T22:49:29.114453700Z"
    }
   },
   "id": "9d4ce8c3dcf5ee31"
  },
  {
   "cell_type": "code",
   "execution_count": 48,
   "outputs": [],
   "source": [
    "n_recommendations=10\n",
    "sim_scores = list(enumerate(cosine_sim[idx]))\n",
    "sim_scores = sorted(sim_scores, key=lambda x: x[1], reverse=True)\n",
    "sim_scores = sim_scores[1:(n_recommendations+1)]\n",
    "similar_movies = [i[0] for i in sim_scores]"
   ],
   "metadata": {
    "collapsed": false,
    "ExecuteTime": {
     "end_time": "2023-11-10T22:49:47.785903500Z",
     "start_time": "2023-11-10T22:49:47.649946800Z"
    }
   },
   "id": "abf7572481d5351b"
  },
  {
   "cell_type": "code",
   "execution_count": 49,
   "outputs": [
    {
     "name": "stdout",
     "output_type": "stream",
     "text": [
      "Because you watched Jumanji (1995):\n"
     ]
    },
    {
     "data": {
      "text/plain": "59                     Indian in the Cupboard, The (1995)\n124                     NeverEnding Story III, The (1994)\n986                       Escape to Witch Mountain (1975)\n1954            Darby O'Gill and the Little People (1959)\n2003                                  Return to Oz (1985)\n2071                        NeverEnding Story, The (1984)\n2072    NeverEnding Story II: The Next Chapter, The (1...\n2308                        Santa Claus: The Movie (1985)\n4790    Harry Potter and the Sorcerer's Stone (a.k.a. ...\n9557                            Magic in the Water (1995)\nName: title, dtype: object"
     },
     "execution_count": 49,
     "metadata": {},
     "output_type": "execute_result"
    }
   ],
   "source": [
    "print(f\"Because you watched {title_movie}:\")\n",
    "movies['title'].iloc[similar_movies]"
   ],
   "metadata": {
    "collapsed": false,
    "ExecuteTime": {
     "end_time": "2023-11-10T22:50:09.154807Z",
     "start_time": "2023-11-10T22:50:09.044901600Z"
    }
   },
   "id": "2ea03ccc6737fb05"
  },
  {
   "cell_type": "code",
   "execution_count": 50,
   "outputs": [],
   "source": [
    "#recommender function\n",
    "def get_content_based_recommendations(title_string, n_recommendations=10):\n",
    "    title = movie_finder(title_string)\n",
    "    idx = movie_idx[title]\n",
    "    sim_scores = list(enumerate(cosine_sim[idx]))\n",
    "    sim_scores = sorted(sim_scores, key=lambda x: x[1], reverse=True)\n",
    "    sim_scores = sim_scores[1:(n_recommendations+1)]\n",
    "    similar_movies = [i[0] for i in sim_scores]\n",
    "    print(f\"Because you watched {title}:\")\n",
    "    print(movies['title'].iloc[similar_movies])"
   ],
   "metadata": {
    "collapsed": false,
    "ExecuteTime": {
     "end_time": "2023-11-10T22:53:03.639938200Z",
     "start_time": "2023-11-10T22:53:03.528952800Z"
    }
   },
   "id": "2818105ba3fd27a0"
  },
  {
   "cell_type": "code",
   "execution_count": 51,
   "outputs": [
    {
     "name": "stdout",
     "output_type": "stream",
     "text": [
      "Because you watched Toy Story (1995):\n",
      "2203                                       Antz (1998)\n",
      "3021                                Toy Story 2 (1999)\n",
      "3653    Adventures of Rocky and Bullwinkle, The (2000)\n",
      "3912                  Emperor's New Groove, The (2000)\n",
      "4780                             Monsters, Inc. (2001)\n",
      "Name: title, dtype: object\n"
     ]
    }
   ],
   "source": [
    "get_content_based_recommendations('toy story', 5)"
   ],
   "metadata": {
    "collapsed": false,
    "ExecuteTime": {
     "end_time": "2023-11-10T22:53:59.734864100Z",
     "start_time": "2023-11-10T22:53:15.463847300Z"
    }
   },
   "id": "54d3d39c8287e2df"
  },
  {
   "cell_type": "code",
   "execution_count": 56,
   "outputs": [
    {
     "data": {
      "text/plain": "(162541, 59047)"
     },
     "execution_count": 56,
     "metadata": {},
     "output_type": "execute_result"
    }
   ],
   "source": [
    "X.shape"
   ],
   "metadata": {
    "collapsed": false,
    "ExecuteTime": {
     "end_time": "2023-11-10T22:58:34.466692700Z",
     "start_time": "2023-11-10T22:58:34.369528300Z"
    }
   },
   "id": "afa5311b8a0ad7b2"
  },
  {
   "cell_type": "code",
   "execution_count": null,
   "outputs": [],
   "source": [],
   "metadata": {
    "collapsed": false
   },
   "id": "5968b2c584dd9fe9"
  }
 ],
 "metadata": {
  "kernelspec": {
   "display_name": "Python 3",
   "language": "python",
   "name": "python3"
  },
  "language_info": {
   "codemirror_mode": {
    "name": "ipython",
    "version": 2
   },
   "file_extension": ".py",
   "mimetype": "text/x-python",
   "name": "python",
   "nbconvert_exporter": "python",
   "pygments_lexer": "ipython2",
   "version": "2.7.6"
  }
 },
 "nbformat": 4,
 "nbformat_minor": 5
}
