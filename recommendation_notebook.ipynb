{
 "cells": [
  {
   "cell_type": "code",
   "execution_count": 1,
   "id": "initial_id",
   "metadata": {
    "collapsed": true,
    "ExecuteTime": {
     "end_time": "2024-01-10T14:54:37.716210500Z",
     "start_time": "2024-01-10T14:54:37.702687Z"
    }
   },
   "outputs": [],
   "source": [
    "import numpy as np\n",
    "import pandas as pd\n",
    "import matplotlib.pyplot as plt\n",
    "import seaborn as sns"
   ]
  },
  {
   "cell_type": "code",
   "execution_count": 2,
   "outputs": [],
   "source": [
    "ratings = pd.read_csv('data/ratings.csv')\n",
    "\n",
    "movies = pd.read_csv('data/movies.csv')"
   ],
   "metadata": {
    "collapsed": false,
    "ExecuteTime": {
     "end_time": "2024-01-10T14:54:54.910126500Z",
     "start_time": "2024-01-10T14:54:46.748617Z"
    }
   },
   "id": "5487906597395541"
  },
  {
   "cell_type": "code",
   "execution_count": 5,
   "outputs": [
    {
     "name": "stdout",
     "output_type": "stream",
     "text": [
      "Number of ratings: 25000095\n",
      "Number of unique movieId's: 59047\n",
      "Number of unique users: 162541\n",
      "Average number of ratings per user: 153.81\n",
      "Average number of ratings per movie: 423.39\n"
     ]
    }
   ],
   "source": [
    "n_ratings = len(ratings)\n",
    "n_movies = ratings['movieId'].nunique()\n",
    "n_users = ratings['userId'].nunique()\n",
    "\n",
    "print(f\"Number of ratings: {n_ratings}\")\n",
    "print(f\"Number of unique movieId's: {n_movies}\")\n",
    "print(f\"Number of unique users: {n_users}\")\n",
    "print(f\"Average number of ratings per user: {round(n_ratings/n_users, 2)}\")\n",
    "print(f\"Average number of ratings per movie: {round(n_ratings/n_movies, 2)}\")"
   ],
   "metadata": {
    "collapsed": false,
    "ExecuteTime": {
     "end_time": "2024-01-10T13:15:28.110342800Z",
     "start_time": "2024-01-10T13:15:27.435115900Z"
    }
   },
   "id": "713872a32d152ebd"
  },
  {
   "cell_type": "code",
   "execution_count": 5,
   "outputs": [
    {
     "name": "stderr",
     "output_type": "stream",
     "text": [
      "C:\\Users\\rolan\\AppData\\Local\\Temp\\ipykernel_11432\\1142040825.py:2: FutureWarning: \n",
      "\n",
      "Passing `palette` without assigning `hue` is deprecated and will be removed in v0.14.0. Assign the `x` variable to `hue` and set `legend=False` for the same effect.\n",
      "\n",
      "  sns.countplot(x=\"rating\", data=ratings, palette=\"viridis\")\n"
     ]
    },
    {
     "data": {
      "text/plain": "<Figure size 640x480 with 1 Axes>",
      "image/png": "[encoded data removed]"
     },
     "metadata": {},
     "output_type": "display_data"
    }
   ],
   "source": [
    "#What is the distribution of movie ratings\n",
    "sns.countplot(x=\"rating\", data=ratings, palette=\"viridis\")\n",
    "plt.title(\"Distribution of movie ratings\", fontsize=14)\n",
    "plt.show()"
   ],
   "metadata": {
    "collapsed": false,
    "ExecuteTime": {
     "end_time": "2024-01-04T11:32:35.597612500Z",
     "start_time": "2024-01-04T11:31:32.225497300Z"
    }
   },
   "id": "cf5cc9a005d0ac9e"
  },
  {
   "cell_type": "code",
   "execution_count": 6,
   "outputs": [
    {
     "name": "stdout",
     "output_type": "stream",
     "text": [
      "Mean global rating: 3.53.\n",
      "Mean rating per user: 3.68.\n"
     ]
    }
   ],
   "source": [
    "print(f\"Mean global rating: {round(ratings['rating'].mean(),2)}.\")\n",
    "\n",
    "mean_ratings = ratings.groupby('userId')['rating'].mean()\n",
    "print(f\"Mean rating per user: {round(mean_ratings.mean(),2)}.\")"
   ],
   "metadata": {
    "collapsed": false,
    "ExecuteTime": {
     "end_time": "2024-01-04T11:32:55.723655700Z",
     "start_time": "2024-01-04T11:32:54.311404900Z"
    }
   },
   "id": "197dff54125bf5d2"
  },
  {
   "cell_type": "code",
   "execution_count": 6,
   "outputs": [
    {
     "data": {
      "text/plain": "title\nForrest Gump (1994)                          81491\nShawshank Redemption, The (1994)             81482\nPulp Fiction (1994)                          79672\nSilence of the Lambs, The (1991)             74127\nMatrix, The (1999)                           72674\nStar Wars: Episode IV - A New Hope (1977)    68717\nJurassic Park (1993)                         64144\nSchindler's List (1993)                      60411\nBraveheart (1995)                            59184\nFight Club (1999)                            58773\nName: count, dtype: int64"
     },
     "execution_count": 6,
     "metadata": {},
     "output_type": "execute_result"
    }
   ],
   "source": [
    "#Which movies are most frequently rated?\n",
    "movie_ratings = ratings.merge(movies, on='movieId')\n",
    "movie_ratings['title'].value_counts()[0:10]"
   ],
   "metadata": {
    "collapsed": false,
    "ExecuteTime": {
     "end_time": "2024-01-10T13:15:40.026682400Z",
     "start_time": "2024-01-10T13:15:34.156676700Z"
    }
   },
   "id": "4a0ea8d8f85acc4e"
  },
  {
   "cell_type": "code",
   "execution_count": 8,
   "outputs": [
    {
     "data": {
      "text/plain": "      movieId            title genres\n5693     5805  Besotted (2001)  Drama",
      "text/html": "<div>\n<style scoped>\n    .dataframe tbody tr th:only-of-type {\n        vertical-align: middle;\n    }\n\n    .dataframe tbody tr th {\n        vertical-align: top;\n    }\n\n    .dataframe thead th {\n        text-align: right;\n    }\n</style>\n<table border=\"1\" class=\"dataframe\">\n  <thead>\n    <tr style=\"text-align: right;\">\n      <th></th>\n      <th>movieId</th>\n      <th>title</th>\n      <th>genres</th>\n    </tr>\n  </thead>\n  <tbody>\n    <tr>\n      <th>5693</th>\n      <td>5805</td>\n      <td>Besotted (2001)</td>\n      <td>Drama</td>\n    </tr>\n  </tbody>\n</table>\n</div>"
     },
     "execution_count": 8,
     "metadata": {},
     "output_type": "execute_result"
    }
   ],
   "source": [
    "#What are the lowest and highest rated movies\n",
    "mean_ratings = ratings.groupby('movieId')[['rating']].mean()\n",
    "lowest_rated = mean_ratings['rating'].idxmin()\n",
    "movies[movies['movieId']==lowest_rated]"
   ],
   "metadata": {
    "collapsed": false,
    "ExecuteTime": {
     "end_time": "2024-01-04T11:33:12.378377300Z",
     "start_time": "2024-01-04T11:33:11.532797800Z"
    }
   },
   "id": "17ab4a3774fc8fb0"
  },
  {
   "cell_type": "code",
   "execution_count": 9,
   "outputs": [
    {
     "data": {
      "text/plain": "      movieId                                              title       genres\n9416    27914  Hijacking Catastrophe: 9/11, Fear & the Sellin...  Documentary",
      "text/html": "<div>\n<style scoped>\n    .dataframe tbody tr th:only-of-type {\n        vertical-align: middle;\n    }\n\n    .dataframe tbody tr th {\n        vertical-align: top;\n    }\n\n    .dataframe thead th {\n        text-align: right;\n    }\n</style>\n<table border=\"1\" class=\"dataframe\">\n  <thead>\n    <tr style=\"text-align: right;\">\n      <th></th>\n      <th>movieId</th>\n      <th>title</th>\n      <th>genres</th>\n    </tr>\n  </thead>\n  <tbody>\n    <tr>\n      <th>9416</th>\n      <td>27914</td>\n      <td>Hijacking Catastrophe: 9/11, Fear &amp; the Sellin...</td>\n      <td>Documentary</td>\n    </tr>\n  </tbody>\n</table>\n</div>"
     },
     "execution_count": 9,
     "metadata": {},
     "output_type": "execute_result"
    }
   ],
   "source": [
    "highest_rated = mean_ratings['rating'].idxmax()\n",
    "movies[movies['movieId'] == highest_rated]"
   ],
   "metadata": {
    "collapsed": false,
    "ExecuteTime": {
     "end_time": "2024-01-04T11:33:18.439008900Z",
     "start_time": "2024-01-04T11:33:18.394541100Z"
    }
   },
   "id": "9b27a4b67a370137"
  },
  {
   "cell_type": "code",
   "execution_count": 10,
   "outputs": [
    {
     "data": {
      "text/plain": "          userId  movieId  rating   timestamp\n19328266  125475    27914     5.0  1409649085",
      "text/html": "<div>\n<style scoped>\n    .dataframe tbody tr th:only-of-type {\n        vertical-align: middle;\n    }\n\n    .dataframe tbody tr th {\n        vertical-align: top;\n    }\n\n    .dataframe thead th {\n        text-align: right;\n    }\n</style>\n<table border=\"1\" class=\"dataframe\">\n  <thead>\n    <tr style=\"text-align: right;\">\n      <th></th>\n      <th>userId</th>\n      <th>movieId</th>\n      <th>rating</th>\n      <th>timestamp</th>\n    </tr>\n  </thead>\n  <tbody>\n    <tr>\n      <th>19328266</th>\n      <td>125475</td>\n      <td>27914</td>\n      <td>5.0</td>\n      <td>1409649085</td>\n    </tr>\n  </tbody>\n</table>\n</div>"
     },
     "execution_count": 10,
     "metadata": {},
     "output_type": "execute_result"
    }
   ],
   "source": [
    "ratings[ratings['movieId']==highest_rated]"
   ],
   "metadata": {
    "collapsed": false,
    "ExecuteTime": {
     "end_time": "2024-01-04T11:33:22.740775700Z",
     "start_time": "2024-01-04T11:33:22.696548Z"
    }
   },
   "id": "eb2bb1242bffca31"
  },
  {
   "cell_type": "code",
   "execution_count": 11,
   "outputs": [
    {
     "data": {
      "text/plain": "         count      mean\nmovieId                 \n1        57309  3.893708\n2        24228  3.251527\n3        11804  3.142028\n4         2523  2.853547\n5        11714  3.058434",
      "text/html": "<div>\n<style scoped>\n    .dataframe tbody tr th:only-of-type {\n        vertical-align: middle;\n    }\n\n    .dataframe tbody tr th {\n        vertical-align: top;\n    }\n\n    .dataframe thead th {\n        text-align: right;\n    }\n</style>\n<table border=\"1\" class=\"dataframe\">\n  <thead>\n    <tr style=\"text-align: right;\">\n      <th></th>\n      <th>count</th>\n      <th>mean</th>\n    </tr>\n    <tr>\n      <th>movieId</th>\n      <th></th>\n      <th></th>\n    </tr>\n  </thead>\n  <tbody>\n    <tr>\n      <th>1</th>\n      <td>57309</td>\n      <td>3.893708</td>\n    </tr>\n    <tr>\n      <th>2</th>\n      <td>24228</td>\n      <td>3.251527</td>\n    </tr>\n    <tr>\n      <th>3</th>\n      <td>11804</td>\n      <td>3.142028</td>\n    </tr>\n    <tr>\n      <th>4</th>\n      <td>2523</td>\n      <td>2.853547</td>\n    </tr>\n    <tr>\n      <th>5</th>\n      <td>11714</td>\n      <td>3.058434</td>\n    </tr>\n  </tbody>\n</table>\n</div>"
     },
     "execution_count": 11,
     "metadata": {},
     "output_type": "execute_result"
    }
   ],
   "source": [
    "#Bayesian Average\n",
    "movie_stats = ratings.groupby('movieId')['rating'].agg(['count', 'mean'])\n",
    "movie_stats.head()"
   ],
   "metadata": {
    "collapsed": false,
    "ExecuteTime": {
     "end_time": "2024-01-04T11:33:27.604670400Z",
     "start_time": "2024-01-04T11:33:26.805572800Z"
    }
   },
   "id": "effde07a7bfb76a3"
  },
  {
   "cell_type": "code",
   "execution_count": 7,
   "outputs": [
    {
     "ename": "NameError",
     "evalue": "name 'movie_stats' is not defined",
     "output_type": "error",
     "traceback": [
      "\u001B[1;31m---------------------------------------------------------------------------\u001B[0m",
      "\u001B[1;31mNameError\u001B[0m                                 Traceback (most recent call last)",
      "Cell \u001B[1;32mIn[7], line 1\u001B[0m\n\u001B[1;32m----> 1\u001B[0m C \u001B[38;5;241m=\u001B[39m \u001B[43mmovie_stats\u001B[49m[\u001B[38;5;124m'\u001B[39m\u001B[38;5;124mcount\u001B[39m\u001B[38;5;124m'\u001B[39m]\u001B[38;5;241m.\u001B[39mmean()\n\u001B[0;32m      2\u001B[0m m \u001B[38;5;241m=\u001B[39m movie_stats[\u001B[38;5;124m'\u001B[39m\u001B[38;5;124mmean\u001B[39m\u001B[38;5;124m'\u001B[39m]\u001B[38;5;241m.\u001B[39mmean()\n\u001B[0;32m      4\u001B[0m \u001B[38;5;28mprint\u001B[39m(\u001B[38;5;124mf\u001B[39m\u001B[38;5;124m\"\u001B[39m\u001B[38;5;124mAverage number of ratings for a given movie: \u001B[39m\u001B[38;5;132;01m{\u001B[39;00mC\u001B[38;5;132;01m:\u001B[39;00m\u001B[38;5;124m.2f\u001B[39m\u001B[38;5;132;01m}\u001B[39;00m\u001B[38;5;124m\"\u001B[39m)\n",
      "\u001B[1;31mNameError\u001B[0m: name 'movie_stats' is not defined"
     ]
    }
   ],
   "source": [
    "C = movie_stats['count'].mean()\n",
    "m = movie_stats['mean'].mean()\n",
    "\n",
    "print(f\"Average number of ratings for a given movie: {C:.2f}\")\n",
    "print(f\"Average rating for a given movie: {m:.2f}\")\n",
    "\n",
    "def bayesian_avg(ratings):\n",
    "    bayesian_avg = (C*m+ratings.sum())/(C+ratings.count())\n",
    "    return round(bayesian_avg, 3)"
   ],
   "metadata": {
    "collapsed": false,
    "ExecuteTime": {
     "end_time": "2024-01-10T13:15:44.187665500Z",
     "start_time": "2024-01-10T13:15:44.159362200Z"
    }
   },
   "id": "8f3382008fe7b8aa"
  },
  {
   "cell_type": "code",
   "execution_count": 13,
   "outputs": [
    {
     "data": {
      "text/plain": "3.08"
     },
     "execution_count": 13,
     "metadata": {},
     "output_type": "execute_result"
    }
   ],
   "source": [
    "lamerica = pd.Series([5, 5])\n",
    "bayesian_avg(lamerica)"
   ],
   "metadata": {
    "collapsed": false,
    "ExecuteTime": {
     "end_time": "2024-01-04T11:38:23.711145600Z",
     "start_time": "2024-01-04T11:38:23.679388300Z"
    }
   },
   "id": "504926a29524e5ab"
  },
  {
   "cell_type": "code",
   "execution_count": 14,
   "outputs": [],
   "source": [
    "#Lamerica's average Bayesian rating is 3.5\n",
    "#Let's now apply bayesian_avg to all movies in our dataset\n",
    "bayesian_avg_ratings = ratings.groupby('movieId')['rating'].agg(bayesian_avg).reset_index()\n",
    "bayesian_avg_ratings.columns = ['movieId', 'bayesian_avg']\n",
    "movie_stats = movie_stats.merge(bayesian_avg_ratings, on='movieId')"
   ],
   "metadata": {
    "collapsed": false,
    "ExecuteTime": {
     "end_time": "2024-01-04T11:38:31.025101200Z",
     "start_time": "2024-01-04T11:38:26.328998300Z"
    }
   },
   "id": "59f2804f51a04b69"
  },
  {
   "cell_type": "code",
   "execution_count": 15,
   "outputs": [
    {
     "data": {
      "text/plain": "      movieId  count      mean  bayesian_avg                             title\n314       318  81482  4.413576         4.407  Shawshank Redemption, The (1994)\n840       858  52498  4.324336         4.314             Godfather, The (1972)\n49         50  55366  4.284353         4.275        Usual Suspects, The (1995)\n1190     1221  34188  4.261759         4.247    Godfather: Part II, The (1974)\n522       527  60411  4.247579         4.239           Schindler's List (1993)",
      "text/html": "<div>\n<style scoped>\n    .dataframe tbody tr th:only-of-type {\n        vertical-align: middle;\n    }\n\n    .dataframe tbody tr th {\n        vertical-align: top;\n    }\n\n    .dataframe thead th {\n        text-align: right;\n    }\n</style>\n<table border=\"1\" class=\"dataframe\">\n  <thead>\n    <tr style=\"text-align: right;\">\n      <th></th>\n      <th>movieId</th>\n      <th>count</th>\n      <th>mean</th>\n      <th>bayesian_avg</th>\n      <th>title</th>\n    </tr>\n  </thead>\n  <tbody>\n    <tr>\n      <th>314</th>\n      <td>318</td>\n      <td>81482</td>\n      <td>4.413576</td>\n      <td>4.407</td>\n      <td>Shawshank Redemption, The (1994)</td>\n    </tr>\n    <tr>\n      <th>840</th>\n      <td>858</td>\n      <td>52498</td>\n      <td>4.324336</td>\n      <td>4.314</td>\n      <td>Godfather, The (1972)</td>\n    </tr>\n    <tr>\n      <th>49</th>\n      <td>50</td>\n      <td>55366</td>\n      <td>4.284353</td>\n      <td>4.275</td>\n      <td>Usual Suspects, The (1995)</td>\n    </tr>\n    <tr>\n      <th>1190</th>\n      <td>1221</td>\n      <td>34188</td>\n      <td>4.261759</td>\n      <td>4.247</td>\n      <td>Godfather: Part II, The (1974)</td>\n    </tr>\n    <tr>\n      <th>522</th>\n      <td>527</td>\n      <td>60411</td>\n      <td>4.247579</td>\n      <td>4.239</td>\n      <td>Schindler's List (1993)</td>\n    </tr>\n  </tbody>\n</table>\n</div>"
     },
     "execution_count": 15,
     "metadata": {},
     "output_type": "execute_result"
    }
   ],
   "source": [
    "#This result makes much more sense since these movies are\n",
    "#critically acclaimed films\n",
    "movie_stats = movie_stats.merge(movies[['movieId', 'title']])\n",
    "movie_stats.sort_values('bayesian_avg', ascending=False).head()"
   ],
   "metadata": {
    "collapsed": false,
    "ExecuteTime": {
     "end_time": "2024-01-04T11:38:33.209461500Z",
     "start_time": "2024-01-04T11:38:33.130749500Z"
    }
   },
   "id": "e2a1d15d836622c7"
  },
  {
   "cell_type": "code",
   "execution_count": 16,
   "outputs": [
    {
     "data": {
      "text/plain": "       movieId  count      mean  bayesian_avg                     title\n3494      3593   4268  1.578374         1.713  Battlefield Earth (2000)\n6464      6587    758  1.214380         1.880              Gigli (2003)\n4669      4775    669  1.125561         1.880            Glitter (2001)\n11349    50798   1180  1.457203         1.883         Epic Movie (2007)\n9603     31698    633  1.232227         1.969    Son of the Mask (2005)",
      "text/html": "<div>\n<style scoped>\n    .dataframe tbody tr th:only-of-type {\n        vertical-align: middle;\n    }\n\n    .dataframe tbody tr th {\n        vertical-align: top;\n    }\n\n    .dataframe thead th {\n        text-align: right;\n    }\n</style>\n<table border=\"1\" class=\"dataframe\">\n  <thead>\n    <tr style=\"text-align: right;\">\n      <th></th>\n      <th>movieId</th>\n      <th>count</th>\n      <th>mean</th>\n      <th>bayesian_avg</th>\n      <th>title</th>\n    </tr>\n  </thead>\n  <tbody>\n    <tr>\n      <th>3494</th>\n      <td>3593</td>\n      <td>4268</td>\n      <td>1.578374</td>\n      <td>1.713</td>\n      <td>Battlefield Earth (2000)</td>\n    </tr>\n    <tr>\n      <th>6464</th>\n      <td>6587</td>\n      <td>758</td>\n      <td>1.214380</td>\n      <td>1.880</td>\n      <td>Gigli (2003)</td>\n    </tr>\n    <tr>\n      <th>4669</th>\n      <td>4775</td>\n      <td>669</td>\n      <td>1.125561</td>\n      <td>1.880</td>\n      <td>Glitter (2001)</td>\n    </tr>\n    <tr>\n      <th>11349</th>\n      <td>50798</td>\n      <td>1180</td>\n      <td>1.457203</td>\n      <td>1.883</td>\n      <td>Epic Movie (2007)</td>\n    </tr>\n    <tr>\n      <th>9603</th>\n      <td>31698</td>\n      <td>633</td>\n      <td>1.232227</td>\n      <td>1.969</td>\n      <td>Son of the Mask (2005)</td>\n    </tr>\n  </tbody>\n</table>\n</div>"
     },
     "execution_count": 16,
     "metadata": {},
     "output_type": "execute_result"
    }
   ],
   "source": [
    "movie_stats.sort_values('bayesian_avg', ascending=True).head()"
   ],
   "metadata": {
    "collapsed": false,
    "ExecuteTime": {
     "end_time": "2024-01-04T11:38:36.137422400Z",
     "start_time": "2024-01-04T11:38:36.104856Z"
    }
   },
   "id": "566e650db899a08"
  },
  {
   "cell_type": "code",
   "execution_count": 17,
   "outputs": [
    {
     "data": {
      "text/plain": "   movieId                               title  \\\n0        1                    Toy Story (1995)   \n1        2                      Jumanji (1995)   \n2        3             Grumpier Old Men (1995)   \n3        4            Waiting to Exhale (1995)   \n4        5  Father of the Bride Part II (1995)   \n\n                                              genres  \n0  [Adventure, Animation, Children, Comedy, Fantasy]  \n1                     [Adventure, Children, Fantasy]  \n2                                  [Comedy, Romance]  \n3                           [Comedy, Drama, Romance]  \n4                                           [Comedy]  ",
      "text/html": "<div>\n<style scoped>\n    .dataframe tbody tr th:only-of-type {\n        vertical-align: middle;\n    }\n\n    .dataframe tbody tr th {\n        vertical-align: top;\n    }\n\n    .dataframe thead th {\n        text-align: right;\n    }\n</style>\n<table border=\"1\" class=\"dataframe\">\n  <thead>\n    <tr style=\"text-align: right;\">\n      <th></th>\n      <th>movieId</th>\n      <th>title</th>\n      <th>genres</th>\n    </tr>\n  </thead>\n  <tbody>\n    <tr>\n      <th>0</th>\n      <td>1</td>\n      <td>Toy Story (1995)</td>\n      <td>[Adventure, Animation, Children, Comedy, Fantasy]</td>\n    </tr>\n    <tr>\n      <th>1</th>\n      <td>2</td>\n      <td>Jumanji (1995)</td>\n      <td>[Adventure, Children, Fantasy]</td>\n    </tr>\n    <tr>\n      <th>2</th>\n      <td>3</td>\n      <td>Grumpier Old Men (1995)</td>\n      <td>[Comedy, Romance]</td>\n    </tr>\n    <tr>\n      <th>3</th>\n      <td>4</td>\n      <td>Waiting to Exhale (1995)</td>\n      <td>[Comedy, Drama, Romance]</td>\n    </tr>\n    <tr>\n      <th>4</th>\n      <td>5</td>\n      <td>Father of the Bride Part II (1995)</td>\n      <td>[Comedy]</td>\n    </tr>\n  </tbody>\n</table>\n</div>"
     },
     "execution_count": 17,
     "metadata": {},
     "output_type": "execute_result"
    }
   ],
   "source": [
    "#A Glimpse at Movie Genres\n",
    "movies['genres'] = movies['genres'].apply(lambda x: x.split(\"|\"))\n",
    "movies.head()"
   ],
   "metadata": {
    "collapsed": false,
    "ExecuteTime": {
     "end_time": "2024-01-04T11:38:38.681663200Z",
     "start_time": "2024-01-04T11:38:38.372813500Z"
    }
   },
   "id": "3b5722ab3e6a7264"
  },
  {
   "cell_type": "code",
   "execution_count": 18,
   "outputs": [
    {
     "name": "stdout",
     "output_type": "stream",
     "text": [
      "There are 20 genres.\n"
     ]
    },
    {
     "data": {
      "text/plain": "Counter({'Drama': 25606,\n         'Comedy': 16870,\n         'Thriller': 8654,\n         'Romance': 7719,\n         'Action': 7348,\n         'Horror': 5989,\n         'Documentary': 5605,\n         'Crime': 5319,\n         '(no genres listed)': 5062,\n         'Adventure': 4145,\n         'Sci-Fi': 3595,\n         'Children': 2935,\n         'Animation': 2929,\n         'Mystery': 2925,\n         'Fantasy': 2731,\n         'War': 1874,\n         'Western': 1399,\n         'Musical': 1054,\n         'Film-Noir': 353,\n         'IMAX': 195})"
     },
     "execution_count": 18,
     "metadata": {},
     "output_type": "execute_result"
    }
   ],
   "source": [
    "#How many movie genres are there?\n",
    "from collections import Counter\n",
    "\n",
    "genre_frequency = Counter(g for genres in movies['genres'] for g in genres)\n",
    "\n",
    "print(f\"There are {len(genre_frequency)} genres.\")\n",
    "\n",
    "genre_frequency"
   ],
   "metadata": {
    "collapsed": false,
    "ExecuteTime": {
     "end_time": "2024-01-04T11:38:42.519213Z",
     "start_time": "2024-01-04T11:38:42.456250900Z"
    }
   },
   "id": "c6a6d2abf1888e2f"
  },
  {
   "cell_type": "code",
   "execution_count": 19,
   "outputs": [
    {
     "name": "stdout",
     "output_type": "stream",
     "text": [
      "The 5 most common genres: \n",
      " [('Drama', 25606), ('Comedy', 16870), ('Thriller', 8654), ('Romance', 7719), ('Action', 7348)]\n"
     ]
    }
   ],
   "source": [
    "print(\"The 5 most common genres: \\n\", genre_frequency.most_common(5))"
   ],
   "metadata": {
    "collapsed": false,
    "ExecuteTime": {
     "end_time": "2024-01-04T11:38:45.746674300Z",
     "start_time": "2024-01-04T11:38:45.730523300Z"
    }
   },
   "id": "a5db62fbedb0c508"
  },
  {
   "cell_type": "code",
   "execution_count": null,
   "outputs": [],
   "source": [],
   "metadata": {
    "collapsed": false
   },
   "id": "2401c833ce6c9459"
  },
  {
   "cell_type": "code",
   "execution_count": 20,
   "outputs": [
    {
     "data": {
      "text/plain": "<Figure size 640x480 with 1 Axes>",
      "image/png": "[encoded data removed]"
     },
     "metadata": {},
     "output_type": "display_data"
    }
   ],
   "source": [
    "#Let's also visualize genres popularity with a barplot\n",
    "genre_frequency_df = pd.DataFrame([genre_frequency]).T.reset_index()\n",
    "genre_frequency_df.columns = ['genre', 'count']\n",
    "\n",
    "sns.barplot(x='genre', y='count', data=genre_frequency_df.sort_values(by='count', ascending=False))\n",
    "plt.xticks(rotation=90)\n",
    "plt.show()"
   ],
   "metadata": {
    "collapsed": false,
    "ExecuteTime": {
     "end_time": "2024-01-04T11:38:50.695917800Z",
     "start_time": "2024-01-04T11:38:50.481088200Z"
    }
   },
   "id": "ad9a30e5767128a5"
  },
  {
   "cell_type": "code",
   "execution_count": null,
   "outputs": [],
   "source": [
    "#Data Pre-processing\n",
    "#We are going to use a technique called collaborative filtering to generate recommendations for users.\n",
    "#user-item matrix, \"utility\" matrix.\n",
    "#The beauty of collaborative filtering is that it does not require any information about the users or the movies user to generation recommendations"
   ],
   "metadata": {
    "collapsed": false
   },
   "id": "b90d7cebc510d8f5"
  },
  {
   "cell_type": "code",
   "execution_count": null,
   "outputs": [],
   "source": [
    "#The create_X() function outputs a sparse matrix X with four mapper dictionaries:\n",
    "#user_mapper: maps user id to user index\n",
    "#movie_mapper: maps movie id to movie index\n",
    "#user_inv_mapper: maps user index to user id\n",
    "#movie_inv_mapper: maps movie index to movie id"
   ],
   "metadata": {
    "collapsed": false
   },
   "id": "4b7f6ace6bdc6920"
  },
  {
   "cell_type": "code",
   "execution_count": 10,
   "outputs": [],
   "source": [
    "from scipy.sparse import csr_matrix\n",
    "\n",
    "def create_X(df):\n",
    "    \"\"\"\n",
    "    Generates a sparse matrix from ratings dataframe.\n",
    "    \n",
    "    Args:\n",
    "        df: pandas dataframe containing 3 columns (userId, movieId, rating)\n",
    "    \n",
    "    Returns:\n",
    "        X: sparse matrix\n",
    "        user_mapper: dict that maps user id's to user indices\n",
    "        user_inv_mapper: dict that maps user indices to user id's\n",
    "        movie_mapper: dict that maps movie id's to movie indices\n",
    "        movie_inv_mapper: dict that maps movie indices to movie id's\n",
    "    \"\"\"\n",
    "    M = df['userId'].nunique()\n",
    "    N = df['movieId'].nunique()\n",
    "\n",
    "    user_mapper = dict(zip(np.unique(df[\"userId\"]), list(range(M))))\n",
    "    movie_mapper = dict(zip(np.unique(df[\"movieId\"]), list(range(N))))\n",
    "    \n",
    "    user_inv_mapper = dict(zip(list(range(M)), np.unique(df[\"userId\"])))\n",
    "    movie_inv_mapper = dict(zip(list(range(N)), np.unique(df[\"movieId\"])))\n",
    "    \n",
    "    user_index = [user_mapper[i] for i in df['userId']]\n",
    "    item_index = [movie_mapper[i] for i in df['movieId']]\n",
    "\n",
    "    X = csr_matrix((df[\"rating\"], (user_index,item_index)), shape=(M,N))\n",
    "    \n",
    "    return X, user_mapper, movie_mapper, user_inv_mapper, movie_inv_mapper\n",
    "\n",
    "X, user_mapper, movie_mapper, user_inv_mapper, movie_inv_mapper = create_X(ratings)"
   ],
   "metadata": {
    "collapsed": false,
    "ExecuteTime": {
     "end_time": "2024-01-10T15:11:29.711701200Z",
     "start_time": "2024-01-10T15:11:08.005982900Z"
    }
   },
   "id": "7b25a714e01ac295"
  },
  {
   "cell_type": "code",
   "execution_count": 12,
   "outputs": [],
   "source": [
    "from pickle import dump\n",
    "# Save the X_matrix in the same folder\n",
    "dump(user_mapper, open('user_mapper.pkl', 'wb'))\n",
    "dump(user_mapper, open('user_inv_mapper.pkl', 'wb'))"
   ],
   "metadata": {
    "collapsed": false,
    "ExecuteTime": {
     "end_time": "2024-01-10T15:13:13.810219700Z",
     "start_time": "2024-01-10T15:13:12.659443400Z"
    }
   },
   "id": "2eccf7a8542f21ab"
  },
  {
   "cell_type": "code",
   "execution_count": 22,
   "outputs": [
    {
     "data": {
      "text/plain": "(162541, 59047)"
     },
     "execution_count": 22,
     "metadata": {},
     "output_type": "execute_result"
    }
   ],
   "source": [
    "X.shape"
   ],
   "metadata": {
    "collapsed": false,
    "ExecuteTime": {
     "end_time": "2024-01-04T11:39:25.174669400Z",
     "start_time": "2024-01-04T11:39:25.150320800Z"
    }
   },
   "id": "7b26e9808d1b83dd"
  },
  {
   "cell_type": "code",
   "execution_count": null,
   "outputs": [],
   "source": [
    "#Evaluating sparsity\n",
    "#The number of stored(non-empty) elements in our matrix is equivalent to the number of ratings in our dataset"
   ],
   "metadata": {
    "collapsed": false
   },
   "id": "81e80294ba6a5c5f"
  },
  {
   "cell_type": "code",
   "execution_count": 23,
   "outputs": [
    {
     "name": "stdout",
     "output_type": "stream",
     "text": [
      "Matrix sparsity: 0.26%\n"
     ]
    }
   ],
   "source": [
    "n_total = X.shape[0]*X.shape[1]\n",
    "n_ratings = X.nnz\n",
    "sparsity = n_ratings/n_total\n",
    "print(f\"Matrix sparsity: {round(sparsity*100,2)}%\")"
   ],
   "metadata": {
    "collapsed": false,
    "ExecuteTime": {
     "end_time": "2024-01-04T11:39:28.081369300Z",
     "start_time": "2024-01-04T11:39:28.074797500Z"
    }
   },
   "id": "f9aa3c3c85daf33d"
  },
  {
   "cell_type": "code",
   "execution_count": 24,
   "outputs": [
    {
     "data": {
      "text/plain": "162541"
     },
     "execution_count": 24,
     "metadata": {},
     "output_type": "execute_result"
    }
   ],
   "source": [
    "n_ratings_per_user = X.getnnz(axis=1)\n",
    "len(n_ratings_per_user)"
   ],
   "metadata": {
    "collapsed": false,
    "ExecuteTime": {
     "end_time": "2024-01-04T11:39:31.376714100Z",
     "start_time": "2024-01-04T11:39:31.345125600Z"
    }
   },
   "id": "74312b77965b3968"
  },
  {
   "cell_type": "code",
   "execution_count": 25,
   "outputs": [
    {
     "name": "stdout",
     "output_type": "stream",
     "text": [
      "Most active user rated 32202 movies.\n",
      "Least active user rated 20 movies.\n"
     ]
    }
   ],
   "source": [
    "print(f\"Most active user rated {n_ratings_per_user.max()} movies.\")\n",
    "print(f\"Least active user rated {n_ratings_per_user.min()} movies.\")"
   ],
   "metadata": {
    "collapsed": false,
    "ExecuteTime": {
     "end_time": "2024-01-04T11:39:33.064547900Z",
     "start_time": "2024-01-04T11:39:33.032952800Z"
    }
   },
   "id": "bd26f8a9cbe84b9d"
  },
  {
   "cell_type": "code",
   "execution_count": 26,
   "outputs": [
    {
     "data": {
      "text/plain": "59047"
     },
     "execution_count": 26,
     "metadata": {},
     "output_type": "execute_result"
    }
   ],
   "source": [
    "n_ratings_per_movie = X.getnnz(axis=0)\n",
    "len(n_ratings_per_movie)"
   ],
   "metadata": {
    "collapsed": false,
    "ExecuteTime": {
     "end_time": "2024-01-04T11:39:34.780685200Z",
     "start_time": "2024-01-04T11:39:34.611022200Z"
    }
   },
   "id": "41e6bf4b79a7a695"
  },
  {
   "cell_type": "code",
   "execution_count": 27,
   "outputs": [
    {
     "name": "stdout",
     "output_type": "stream",
     "text": [
      "Most rated movie has 81491 ratings.\n",
      "Least rated movie has 1 ratings.\n"
     ]
    }
   ],
   "source": [
    "print(f\"Most rated movie has {n_ratings_per_movie.max()} ratings.\")\n",
    "print(f\"Least rated movie has {n_ratings_per_movie.min()} ratings.\")"
   ],
   "metadata": {
    "collapsed": false,
    "ExecuteTime": {
     "end_time": "2024-01-04T11:39:37.809846600Z",
     "start_time": "2024-01-04T11:39:37.793934300Z"
    }
   },
   "id": "fcef862849a295ec"
  },
  {
   "cell_type": "code",
   "execution_count": 28,
   "outputs": [
    {
     "name": "stderr",
     "output_type": "stream",
     "text": [
      "C:\\Users\\rolan\\AppData\\Local\\Temp\\ipykernel_11432\\81296992.py:3: FutureWarning: \n",
      "\n",
      "`shade` is now deprecated in favor of `fill`; setting `fill=True`.\n",
      "This will become an error in seaborn v0.14.0; please update your code.\n",
      "\n",
      "  sns.kdeplot(n_ratings_per_user, shade=True)\n",
      "C:\\Users\\rolan\\AppData\\Local\\Temp\\ipykernel_11432\\81296992.py:9: FutureWarning: \n",
      "\n",
      "`shade` is now deprecated in favor of `fill`; setting `fill=True`.\n",
      "This will become an error in seaborn v0.14.0; please update your code.\n",
      "\n",
      "  sns.kdeplot(n_ratings_per_movie, shade=True)\n"
     ]
    },
    {
     "data": {
      "text/plain": "<Figure size 1600x400 with 2 Axes>",
      "image/png": "[encoded data removed]"
     },
     "metadata": {},
     "output_type": "display_data"
    }
   ],
   "source": [
    "plt.figure(figsize=(16,4))\n",
    "plt.subplot(1,2,1)\n",
    "sns.kdeplot(n_ratings_per_user, shade=True)\n",
    "plt.xlim(0)\n",
    "plt.title(\"Number of Ratings Per User\", fontsize=14)\n",
    "plt.xlabel(\"number of ratings per user\")\n",
    "plt.ylabel(\"density\")\n",
    "plt.subplot(1,2,2)\n",
    "sns.kdeplot(n_ratings_per_movie, shade=True)\n",
    "plt.xlim(0)\n",
    "plt.title(\"Number of Ratings Per Movie\", fontsize=14)\n",
    "plt.xlabel(\"number of ratings per movie\")\n",
    "plt.ylabel(\"density\")\n",
    "plt.show()"
   ],
   "metadata": {
    "collapsed": false,
    "ExecuteTime": {
     "end_time": "2024-01-04T11:39:41.008781400Z",
     "start_time": "2024-01-04T11:39:40.209831700Z"
    }
   },
   "id": "8dac1f34f31980db"
  },
  {
   "cell_type": "code",
   "execution_count": 15,
   "outputs": [],
   "source": [
    "#Item-item recommendations with K-Nearest Neighbors\n",
    "from sklearn.neighbors import NearestNeighbors\n",
    "\n",
    "def find_similar_movies(movie_id, X, movie_mapper, movie_inv_mapper, k, metric='cosine'):\n",
    "    \"\"\"\n",
    "    Finds k-nearest neighbours for a given movie id.\n",
    "    \n",
    "    Args:\n",
    "        movie_id: id of the movie of interest\n",
    "        X: user-item utility matrix\n",
    "        k: number of similar movies to retrieve\n",
    "        metric: distance metric for kNN calculations\n",
    "    \n",
    "    Output: returns list of k similar movie ID's\n",
    "    \"\"\"\n",
    "    X = X.T\n",
    "    neighbour_ids = []\n",
    "    \n",
    "    movie_ind = movie_mapper[movie_id]\n",
    "    movie_vec = X[movie_ind]\n",
    "    if isinstance(movie_vec, (np.ndarray)):\n",
    "        movie_vec = movie_vec.reshape(1,-1)\n",
    "    # use k+1 since kNN output includes the movieId of interest\n",
    "    kNN = NearestNeighbors(n_neighbors=k+1, algorithm=\"brute\", metric=metric)\n",
    "    kNN.fit(X)\n",
    "    neighbour = kNN.kneighbors(movie_vec, return_distance=False)\n",
    "    for i in range(0,k):\n",
    "        n = neighbour.item(i)\n",
    "        neighbour_ids.append(movie_inv_mapper[n])\n",
    "    neighbour_ids.pop(0)\n",
    "    return neighbour_ids"
   ],
   "metadata": {
    "collapsed": false,
    "ExecuteTime": {
     "end_time": "2024-01-10T15:18:49.862800400Z",
     "start_time": "2024-01-10T15:18:49.697858400Z"
    }
   },
   "id": "71e700285bf9dd6a"
  },
  {
   "cell_type": "code",
   "execution_count": 11,
   "outputs": [],
   "source": [
    "from pickle import dump\n",
    "# Save the X_matrix in the same folder\n",
    "dump(X, open('X_matrix.pkl', 'wb'))\n",
    "\n",
    "# Save the movie_inv_mapper in the same folder\n",
    "dump(movie_inv_mapper, open('movie_inv_mapper.pkl', 'wb'))\n",
    "\n",
    "dump(movie_mapper, open('movie_mapper.pkl', 'wb'))"
   ],
   "metadata": {
    "collapsed": false,
    "ExecuteTime": {
     "end_time": "2024-01-10T13:32:23.652113900Z",
     "start_time": "2024-01-10T13:32:22.257186300Z"
    }
   },
   "id": "72cf2f27d9a6f84c"
  },
  {
   "cell_type": "code",
   "execution_count": 76,
   "outputs": [
    {
     "data": {
      "text/plain": "<1x59047 sparse matrix of type '<class 'numpy.float64'>'\n\twith 70 stored elements in Compressed Sparse Row format>"
     },
     "execution_count": 76,
     "metadata": {},
     "output_type": "execute_result"
    }
   ],
   "source": [
    "movie_ind = movie_mapper[1]\n",
    "movie_vec = X[movie_ind]\n",
    "if isinstance(movie_vec, (np.ndarray)):\n",
    "        movie_vec = movie_vec.reshape(1,-1)\n",
    "movie_vec"
   ],
   "metadata": {
    "collapsed": false,
    "ExecuteTime": {
     "end_time": "2024-01-04T13:55:03.515968Z",
     "start_time": "2024-01-04T13:55:03.479499800Z"
    }
   },
   "id": "88276e4c4a9c83f6"
  },
  {
   "cell_type": "code",
   "execution_count": 18,
   "outputs": [
    {
     "data": {
      "text/plain": "[1, 919, 1097, 780, 260, 736, 1197, 648, 1210]"
     },
     "execution_count": 18,
     "metadata": {},
     "output_type": "execute_result"
    }
   ],
   "source": [
    "similar_movies = find_similar_movies(1073, X, movie_mapper, movie_inv_mapper, k=10)\n",
    "similar_movies"
   ],
   "metadata": {
    "collapsed": false,
    "ExecuteTime": {
     "end_time": "2024-01-10T15:19:33.309445Z",
     "start_time": "2024-01-10T15:19:30.119028300Z"
    }
   },
   "id": "86f29df0403d317f"
  },
  {
   "cell_type": "code",
   "execution_count": 22,
   "outputs": [
    {
     "data": {
      "text/plain": "movieId    62423\ntitle      62325\ngenres      1639\n               2\nt              2\nv              2\nm              2\n)              2\nS              2\nN              2\nD              2\nc              2\n-              2\nF              2\nI              2\nW              2\ny              2\ni              2\nC              2\nM              2\ne              2\n|              2\nd              2\n(              2\nl              2\nH              2\ng              2\nh              2\ns              2\nX              2\nn              2\nu              2\nA              2\no              2\nR              2\nr              2\nT              2\na              2\ndtype: int64"
     },
     "execution_count": 22,
     "metadata": {},
     "output_type": "execute_result"
    }
   ],
   "source": [
    "movies.nunique()"
   ],
   "metadata": {
    "collapsed": false,
    "ExecuteTime": {
     "end_time": "2024-01-10T15:20:52.628903700Z",
     "start_time": "2024-01-10T15:20:52.553310600Z"
    }
   },
   "id": "e1f18829dc9e4c3c"
  },
  {
   "cell_type": "code",
   "execution_count": 77,
   "outputs": [],
   "source": [
    "movie_ind_pred = movie_mapper[260]\n",
    "movie_vec_pred = X[movie_ind_pred]\n",
    "if isinstance(movie_vec_pred, (np.ndarray)):\n",
    "        movie_vec_pred = movie_vec_pred.reshape(1,-1)"
   ],
   "metadata": {
    "collapsed": false,
    "ExecuteTime": {
     "end_time": "2024-01-04T13:55:27.304361300Z",
     "start_time": "2024-01-04T13:55:27.254740100Z"
    }
   },
   "id": "bfd913393df5106b"
  },
  {
   "cell_type": "code",
   "execution_count": 82,
   "outputs": [],
   "source": [
    "movie_ind_pred1 = movie_mapper[1210]\n",
    "movie_vec_pred1 = X[movie_ind_pred]\n",
    "if isinstance(movie_vec_pred1, (np.ndarray)):\n",
    "        movie_vec_pred1 = movie_vec_pred.reshape(1,-1)"
   ],
   "metadata": {
    "collapsed": false,
    "ExecuteTime": {
     "end_time": "2024-01-04T14:02:22.946155400Z",
     "start_time": "2024-01-04T14:02:22.914142100Z"
    }
   },
   "id": "9b97ecd6b2327020"
  },
  {
   "cell_type": "code",
   "execution_count": 83,
   "outputs": [
    {
     "name": "stdout",
     "output_type": "stream",
     "text": [
      "Mean Squared Error (MSE): 0.034023743797314\n"
     ]
    }
   ],
   "source": [
    "from sklearn.metrics import mean_squared_error\n",
    "# Calculate MSE\n",
    "mse = mean_squared_error(movie_vec.toarray(), movie_vec_pred1.toarray())\n",
    "print(f'Mean Squared Error (MSE): {mse}')"
   ],
   "metadata": {
    "collapsed": false,
    "ExecuteTime": {
     "end_time": "2024-01-04T14:02:25.830019Z",
     "start_time": "2024-01-04T14:02:25.814229100Z"
    }
   },
   "id": "6963e7b0828f02b0"
  },
  {
   "cell_type": "code",
   "execution_count": null,
   "outputs": [],
   "source": [
    "#find_similar_movies() takes in a movieId and x matrix, and outputs a list of k movies that are similar to the movieId of interest"
   ],
   "metadata": {
    "collapsed": false
   },
   "id": "c2f4bbfeb732457b"
  },
  {
   "cell_type": "code",
   "execution_count": null,
   "outputs": [],
   "source": [
    "#To make things easier we will create a dictionary that maps movieId to title"
   ],
   "metadata": {
    "collapsed": false
   },
   "id": "aac6efd970d3d76a"
  },
  {
   "cell_type": "code",
   "execution_count": 7,
   "outputs": [
    {
     "name": "stdout",
     "output_type": "stream",
     "text": [
      "Because you watched Toy Story (1995):\n",
      "Star Wars: Episode IV - A New Hope (1977)\n",
      "Toy Story 2 (1999)\n",
      "Back to the Future (1985)\n",
      "Forrest Gump (1994)\n",
      "Jurassic Park (1993)\n",
      "Star Wars: Episode VI - Return of the Jedi (1983)\n",
      "Independence Day (a.k.a. ID4) (1996)\n",
      "Lion King, The (1994)\n",
      "Aladdin (1992)\n"
     ]
    }
   ],
   "source": [
    "movie_titles = dict(zip(movies['movieId'], movies['title']))\n",
    "\n",
    "movie_id = 1\n",
    "\n",
    "similar_movies = find_similar_movies(1, X, movie_mapper, movie_inv_mapper, metric='cosine', k=10)\n",
    "movie_title = movie_titles[movie_id]\n",
    "\n",
    "print(f\"Because you watched {movie_title}:\")\n",
    "for i in similar_movies:\n",
    "    print(movie_titles[i])"
   ],
   "metadata": {
    "collapsed": false,
    "ExecuteTime": {
     "end_time": "2024-01-10T14:08:17.259107800Z",
     "start_time": "2024-01-10T14:08:15.049261400Z"
    }
   },
   "id": "d71e52cd4a87def7"
  },
  {
   "cell_type": "code",
   "execution_count": null,
   "outputs": [],
   "source": [],
   "metadata": {
    "collapsed": false
   },
   "id": "6beb3730aba36fd5"
  },
  {
   "cell_type": "code",
   "execution_count": null,
   "outputs": [],
   "source": [
    "similar_movies = find_similar_movies(1, X, movie_mapper, movie_inv_mapper, metric='euclidean', k=10)\n",
    "similar_movies"
   ],
   "metadata": {
    "collapsed": false,
    "is_executing": true,
    "ExecuteTime": {
     "start_time": "2024-01-10T13:48:14.525285800Z"
    }
   },
   "id": "7e9b4132d9d90d94"
  },
  {
   "cell_type": "code",
   "execution_count": null,
   "outputs": [],
   "source": [
    "similar_movies = find_similar_movies(1, X, movie_mapper, movie_inv_mapper, metric='manhattan', k=10)\n",
    "similar_movies"
   ],
   "metadata": {
    "collapsed": false,
    "is_executing": true
   },
   "id": "63fc8c0c9b935e13"
  },
  {
   "cell_type": "code",
   "execution_count": null,
   "outputs": [],
   "source": [
    "#Let's play around with kNN distance metric and see what results we would get if we use \"manhattan\" or \"euclidean\" instead of \"cosine\"."
   ],
   "metadata": {
    "collapsed": false
   },
   "id": "8bd98b6a5c1c04be"
  },
  {
   "cell_type": "code",
   "execution_count": 32,
   "outputs": [
    {
     "name": "stdout",
     "output_type": "stream",
     "text": [
      "Because you watched Toy Story (1995):\n",
      "Toy Story 2 (1999)\n",
      "Independence Day (a.k.a. ID4) (1996)\n",
      "Willy Wonka & the Chocolate Factory (1971)\n",
      "Bug's Life, A (1998)\n",
      "Mission: Impossible (1996)\n",
      "Aladdin (1992)\n",
      "Twister (1996)\n",
      "Monsters, Inc. (2001)\n",
      "Men in Black (a.k.a. MIB) (1997)\n"
     ]
    }
   ],
   "source": [
    "movie_id = 1\n",
    "\n",
    "similar_movies = find_similar_movies(movie_id, X, movie_mapper, movie_inv_mapper, metric='euclidean', k=10)\n",
    "movie_title = movie_titles[movie_id]\n",
    "\n",
    "print(f\"Because you watched {movie_title}:\")\n",
    "for i in similar_movies:\n",
    "    print(movie_titles[i])"
   ],
   "metadata": {
    "collapsed": false,
    "ExecuteTime": {
     "end_time": "2024-01-04T11:46:57.249516400Z",
     "start_time": "2024-01-04T11:40:00.591132800Z"
    }
   },
   "id": "5b9d3eba79eae46b"
  },
  {
   "cell_type": "code",
   "execution_count": 33,
   "outputs": [
    {
     "name": "stdout",
     "output_type": "stream",
     "text": [
      "Because you watched Toy Story (1995):\n",
      "Toy Story 2 (1999)\n",
      "Willy Wonka & the Chocolate Factory (1971)\n",
      "Bug's Life, A (1998)\n",
      "Monsters, Inc. (2001)\n",
      "Mission: Impossible (1996)\n",
      "Finding Nemo (2003)\n",
      "Lion King, The (1994)\n",
      "Men in Black (a.k.a. MIB) (1997)\n",
      "Independence Day (a.k.a. ID4) (1996)\n"
     ]
    }
   ],
   "source": [
    "movie_id = 1\n",
    "\n",
    "similar_movies = find_similar_movies(movie_id, X, movie_mapper, movie_inv_mapper, metric='manhattan', k=10)\n",
    "movie_title = movie_titles[movie_id]\n",
    "\n",
    "print(f\"Because you watched {movie_title}:\")\n",
    "for i in similar_movies:\n",
    "    print(movie_titles[i])"
   ],
   "metadata": {
    "collapsed": false,
    "ExecuteTime": {
     "end_time": "2024-01-04T11:46:59.962335800Z",
     "start_time": "2024-01-04T11:46:57.248225900Z"
    }
   },
   "id": "69cdf76eea6f0c24"
  },
  {
   "cell_type": "code",
   "execution_count": null,
   "outputs": [],
   "source": [
    "#Handling the cold-start problem\n",
    "#Collaborative filtering relies solely on user-item interactions within the utility matrix. The issue with this approach is that brand new users or items with no iteractions get excluded from the recommendation system. This is called the **cold start problem**. Content-based filtering is a way to handle this problem by generating recommendations based on user and item features.\n",
    "\n",
    "#First, we need to convert the `genres` column into binary features. Each genre will have its own column in the dataframe, and will be populated with 0 or 1."
   ],
   "metadata": {
    "collapsed": false
   },
   "id": "e2b9812cc973d3fb"
  },
  {
   "cell_type": "code",
   "execution_count": 34,
   "outputs": [
    {
     "name": "stdout",
     "output_type": "stream",
     "text": [
      "There are 62423 unique movies in our movies dataset.\n"
     ]
    }
   ],
   "source": [
    "n_movies = movies['movieId'].nunique()\n",
    "print(f\"There are {n_movies} unique movies in our movies dataset.\")"
   ],
   "metadata": {
    "collapsed": false,
    "ExecuteTime": {
     "end_time": "2024-01-04T11:47:17.515653900Z",
     "start_time": "2024-01-04T11:47:17.499040400Z"
    }
   },
   "id": "5e5ae61bf12839cd"
  },
  {
   "cell_type": "code",
   "execution_count": 3,
   "outputs": [],
   "source": [
    "genres = set(g for G in movies['genres'] for g in G)\n",
    "\n",
    "for g in genres:\n",
    "    movies[g] = movies.genres.transform(lambda x: int(g in x))\n",
    "    \n",
    "movie_genres = movies.drop(columns=['movieId', 'title','genres'])"
   ],
   "metadata": {
    "collapsed": false,
    "ExecuteTime": {
     "end_time": "2024-01-10T14:55:14.308342400Z",
     "start_time": "2024-01-10T14:55:12.403275800Z"
    }
   },
   "id": "be3252a6959542d8"
  },
  {
   "cell_type": "code",
   "execution_count": 9,
   "outputs": [],
   "source": [
    "from pickle import dump\n",
    "# Save the X_matrix in the same folder\n",
    "dump(movie_genres, open('movie_genres.pkl', 'wb'))"
   ],
   "metadata": {
    "collapsed": false,
    "ExecuteTime": {
     "end_time": "2024-01-10T14:16:38.975397300Z",
     "start_time": "2024-01-10T14:16:38.941469300Z"
    }
   },
   "id": "ac588f9917be4be"
  },
  {
   "cell_type": "code",
   "execution_count": 5,
   "outputs": [
    {
     "name": "stdout",
     "output_type": "stream",
     "text": [
      "Dimensions of our genres cosine similarity matrix: (62423, 62423)\n"
     ]
    }
   ],
   "source": [
    "from sklearn.metrics.pairwise import cosine_similarity\n",
    "\n",
    "cosine_sim = cosine_similarity(movie_genres, movie_genres)\n",
    "print(f\"Dimensions of our genres cosine similarity matrix: {cosine_sim.shape}\")"
   ],
   "metadata": {
    "collapsed": false,
    "ExecuteTime": {
     "end_time": "2024-01-10T14:58:28.273979700Z",
     "start_time": "2024-01-10T14:56:07.811477800Z"
    }
   },
   "id": "1f764bb7019f038e"
  },
  {
   "cell_type": "code",
   "execution_count": 9,
   "outputs": [
    {
     "ename": "MemoryError",
     "evalue": "Unable to allocate 28.8 GiB for an array with shape (3861819867,) and data type int64",
     "output_type": "error",
     "traceback": [
      "\u001B[1;31m---------------------------------------------------------------------------\u001B[0m",
      "\u001B[1;31mMemoryError\u001B[0m                               Traceback (most recent call last)",
      "Cell \u001B[1;32mIn[9], line 5\u001B[0m\n\u001B[0;32m      2\u001B[0m \u001B[38;5;28;01mfrom\u001B[39;00m \u001B[38;5;21;01msklearn\u001B[39;00m\u001B[38;5;21;01m.\u001B[39;00m\u001B[38;5;21;01mmetrics\u001B[39;00m\u001B[38;5;21;01m.\u001B[39;00m\u001B[38;5;21;01mpairwise\u001B[39;00m \u001B[38;5;28;01mimport\u001B[39;00m cosine_similarity\n\u001B[0;32m      4\u001B[0m sparse_movie_genres \u001B[38;5;241m=\u001B[39m csr_matrix(movie_genres)\n\u001B[1;32m----> 5\u001B[0m cosine_sim \u001B[38;5;241m=\u001B[39m \u001B[43mcosine_similarity\u001B[49m\u001B[43m(\u001B[49m\u001B[43msparse_movie_genres\u001B[49m\u001B[43m,\u001B[49m\u001B[43m \u001B[49m\u001B[43msparse_movie_genres\u001B[49m\u001B[43m)\u001B[49m\n",
      "File \u001B[1;32m~\\Desktop\\4.class\\Bitirme odevi\\recommendation_movie\\venv\\Lib\\site-packages\\sklearn\\utils\\_param_validation.py:214\u001B[0m, in \u001B[0;36mvalidate_params.<locals>.decorator.<locals>.wrapper\u001B[1;34m(*args, **kwargs)\u001B[0m\n\u001B[0;32m    208\u001B[0m \u001B[38;5;28;01mtry\u001B[39;00m:\n\u001B[0;32m    209\u001B[0m     \u001B[38;5;28;01mwith\u001B[39;00m config_context(\n\u001B[0;32m    210\u001B[0m         skip_parameter_validation\u001B[38;5;241m=\u001B[39m(\n\u001B[0;32m    211\u001B[0m             prefer_skip_nested_validation \u001B[38;5;129;01mor\u001B[39;00m global_skip_validation\n\u001B[0;32m    212\u001B[0m         )\n\u001B[0;32m    213\u001B[0m     ):\n\u001B[1;32m--> 214\u001B[0m         \u001B[38;5;28;01mreturn\u001B[39;00m \u001B[43mfunc\u001B[49m\u001B[43m(\u001B[49m\u001B[38;5;241;43m*\u001B[39;49m\u001B[43margs\u001B[49m\u001B[43m,\u001B[49m\u001B[43m \u001B[49m\u001B[38;5;241;43m*\u001B[39;49m\u001B[38;5;241;43m*\u001B[39;49m\u001B[43mkwargs\u001B[49m\u001B[43m)\u001B[49m\n\u001B[0;32m    215\u001B[0m \u001B[38;5;28;01mexcept\u001B[39;00m InvalidParameterError \u001B[38;5;28;01mas\u001B[39;00m e:\n\u001B[0;32m    216\u001B[0m     \u001B[38;5;66;03m# When the function is just a wrapper around an estimator, we allow\u001B[39;00m\n\u001B[0;32m    217\u001B[0m     \u001B[38;5;66;03m# the function to delegate validation to the estimator, but we replace\u001B[39;00m\n\u001B[0;32m    218\u001B[0m     \u001B[38;5;66;03m# the name of the estimator by the name of the function in the error\u001B[39;00m\n\u001B[0;32m    219\u001B[0m     \u001B[38;5;66;03m# message to avoid confusion.\u001B[39;00m\n\u001B[0;32m    220\u001B[0m     msg \u001B[38;5;241m=\u001B[39m re\u001B[38;5;241m.\u001B[39msub(\n\u001B[0;32m    221\u001B[0m         \u001B[38;5;124mr\u001B[39m\u001B[38;5;124m\"\u001B[39m\u001B[38;5;124mparameter of \u001B[39m\u001B[38;5;124m\\\u001B[39m\u001B[38;5;124mw+ must be\u001B[39m\u001B[38;5;124m\"\u001B[39m,\n\u001B[0;32m    222\u001B[0m         \u001B[38;5;124mf\u001B[39m\u001B[38;5;124m\"\u001B[39m\u001B[38;5;124mparameter of \u001B[39m\u001B[38;5;132;01m{\u001B[39;00mfunc\u001B[38;5;241m.\u001B[39m\u001B[38;5;18m__qualname__\u001B[39m\u001B[38;5;132;01m}\u001B[39;00m\u001B[38;5;124m must be\u001B[39m\u001B[38;5;124m\"\u001B[39m,\n\u001B[0;32m    223\u001B[0m         \u001B[38;5;28mstr\u001B[39m(e),\n\u001B[0;32m    224\u001B[0m     )\n",
      "File \u001B[1;32m~\\Desktop\\4.class\\Bitirme odevi\\recommendation_movie\\venv\\Lib\\site-packages\\sklearn\\metrics\\pairwise.py:1586\u001B[0m, in \u001B[0;36mcosine_similarity\u001B[1;34m(X, Y, dense_output)\u001B[0m\n\u001B[0;32m   1583\u001B[0m \u001B[38;5;28;01melse\u001B[39;00m:\n\u001B[0;32m   1584\u001B[0m     Y_normalized \u001B[38;5;241m=\u001B[39m normalize(Y, copy\u001B[38;5;241m=\u001B[39m\u001B[38;5;28;01mTrue\u001B[39;00m)\n\u001B[1;32m-> 1586\u001B[0m K \u001B[38;5;241m=\u001B[39m \u001B[43msafe_sparse_dot\u001B[49m\u001B[43m(\u001B[49m\u001B[43mX_normalized\u001B[49m\u001B[43m,\u001B[49m\u001B[43m \u001B[49m\u001B[43mY_normalized\u001B[49m\u001B[38;5;241;43m.\u001B[39;49m\u001B[43mT\u001B[49m\u001B[43m,\u001B[49m\u001B[43m \u001B[49m\u001B[43mdense_output\u001B[49m\u001B[38;5;241;43m=\u001B[39;49m\u001B[43mdense_output\u001B[49m\u001B[43m)\u001B[49m\n\u001B[0;32m   1588\u001B[0m \u001B[38;5;28;01mreturn\u001B[39;00m K\n",
      "File \u001B[1;32m~\\Desktop\\4.class\\Bitirme odevi\\recommendation_movie\\venv\\Lib\\site-packages\\sklearn\\utils\\extmath.py:192\u001B[0m, in \u001B[0;36msafe_sparse_dot\u001B[1;34m(a, b, dense_output)\u001B[0m\n\u001B[0;32m    190\u001B[0m         ret \u001B[38;5;241m=\u001B[39m np\u001B[38;5;241m.\u001B[39mdot(a, b)\n\u001B[0;32m    191\u001B[0m \u001B[38;5;28;01melse\u001B[39;00m:\n\u001B[1;32m--> 192\u001B[0m     ret \u001B[38;5;241m=\u001B[39m \u001B[43ma\u001B[49m\u001B[43m \u001B[49m\u001B[38;5;241;43m@\u001B[39;49m\u001B[43m \u001B[49m\u001B[43mb\u001B[49m\n\u001B[0;32m    194\u001B[0m \u001B[38;5;28;01mif\u001B[39;00m (\n\u001B[0;32m    195\u001B[0m     sparse\u001B[38;5;241m.\u001B[39missparse(a)\n\u001B[0;32m    196\u001B[0m     \u001B[38;5;129;01mand\u001B[39;00m sparse\u001B[38;5;241m.\u001B[39missparse(b)\n\u001B[0;32m    197\u001B[0m     \u001B[38;5;129;01mand\u001B[39;00m dense_output\n\u001B[0;32m    198\u001B[0m     \u001B[38;5;129;01mand\u001B[39;00m \u001B[38;5;28mhasattr\u001B[39m(ret, \u001B[38;5;124m\"\u001B[39m\u001B[38;5;124mtoarray\u001B[39m\u001B[38;5;124m\"\u001B[39m)\n\u001B[0;32m    199\u001B[0m ):\n\u001B[0;32m    200\u001B[0m     \u001B[38;5;28;01mreturn\u001B[39;00m ret\u001B[38;5;241m.\u001B[39mtoarray()\n",
      "File \u001B[1;32m~\\Desktop\\4.class\\Bitirme odevi\\recommendation_movie\\venv\\Lib\\site-packages\\scipy\\sparse\\_base.py:624\u001B[0m, in \u001B[0;36m_spbase.__matmul__\u001B[1;34m(self, other)\u001B[0m\n\u001B[0;32m    621\u001B[0m \u001B[38;5;28;01mif\u001B[39;00m isscalarlike(other):\n\u001B[0;32m    622\u001B[0m     \u001B[38;5;28;01mraise\u001B[39;00m \u001B[38;5;167;01mValueError\u001B[39;00m(\u001B[38;5;124m\"\u001B[39m\u001B[38;5;124mScalar operands are not allowed, \u001B[39m\u001B[38;5;124m\"\u001B[39m\n\u001B[0;32m    623\u001B[0m                      \u001B[38;5;124m\"\u001B[39m\u001B[38;5;124muse \u001B[39m\u001B[38;5;124m'\u001B[39m\u001B[38;5;124m*\u001B[39m\u001B[38;5;124m'\u001B[39m\u001B[38;5;124m instead\u001B[39m\u001B[38;5;124m\"\u001B[39m)\n\u001B[1;32m--> 624\u001B[0m \u001B[38;5;28;01mreturn\u001B[39;00m \u001B[38;5;28;43mself\u001B[39;49m\u001B[38;5;241;43m.\u001B[39;49m\u001B[43m_mul_dispatch\u001B[49m\u001B[43m(\u001B[49m\u001B[43mother\u001B[49m\u001B[43m)\u001B[49m\n",
      "File \u001B[1;32m~\\Desktop\\4.class\\Bitirme odevi\\recommendation_movie\\venv\\Lib\\site-packages\\scipy\\sparse\\_base.py:535\u001B[0m, in \u001B[0;36m_spbase._mul_dispatch\u001B[1;34m(self, other)\u001B[0m\n\u001B[0;32m    533\u001B[0m     \u001B[38;5;28;01mif\u001B[39;00m \u001B[38;5;28mself\u001B[39m\u001B[38;5;241m.\u001B[39mshape[\u001B[38;5;241m1\u001B[39m] \u001B[38;5;241m!=\u001B[39m other\u001B[38;5;241m.\u001B[39mshape[\u001B[38;5;241m0\u001B[39m]:\n\u001B[0;32m    534\u001B[0m         \u001B[38;5;28;01mraise\u001B[39;00m \u001B[38;5;167;01mValueError\u001B[39;00m(\u001B[38;5;124m'\u001B[39m\u001B[38;5;124mdimension mismatch\u001B[39m\u001B[38;5;124m'\u001B[39m)\n\u001B[1;32m--> 535\u001B[0m     \u001B[38;5;28;01mreturn\u001B[39;00m \u001B[38;5;28;43mself\u001B[39;49m\u001B[38;5;241;43m.\u001B[39;49m\u001B[43m_mul_sparse_matrix\u001B[49m\u001B[43m(\u001B[49m\u001B[43mother\u001B[49m\u001B[43m)\u001B[49m\n\u001B[0;32m    537\u001B[0m \u001B[38;5;66;03m# If it's a list or whatever, treat it like an array\u001B[39;00m\n\u001B[0;32m    538\u001B[0m other_a \u001B[38;5;241m=\u001B[39m np\u001B[38;5;241m.\u001B[39masanyarray(other)\n",
      "File \u001B[1;32m~\\Desktop\\4.class\\Bitirme odevi\\recommendation_movie\\venv\\Lib\\site-packages\\scipy\\sparse\\_compressed.py:528\u001B[0m, in \u001B[0;36m_cs_matrix._mul_sparse_matrix\u001B[1;34m(self, other)\u001B[0m\n\u001B[0;32m    523\u001B[0m idx_dtype \u001B[38;5;241m=\u001B[39m \u001B[38;5;28mself\u001B[39m\u001B[38;5;241m.\u001B[39m_get_index_dtype((\u001B[38;5;28mself\u001B[39m\u001B[38;5;241m.\u001B[39mindptr, \u001B[38;5;28mself\u001B[39m\u001B[38;5;241m.\u001B[39mindices,\n\u001B[0;32m    524\u001B[0m                              other\u001B[38;5;241m.\u001B[39mindptr, other\u001B[38;5;241m.\u001B[39mindices),\n\u001B[0;32m    525\u001B[0m                             maxval\u001B[38;5;241m=\u001B[39mnnz)\n\u001B[0;32m    527\u001B[0m indptr \u001B[38;5;241m=\u001B[39m np\u001B[38;5;241m.\u001B[39mempty(major_axis \u001B[38;5;241m+\u001B[39m \u001B[38;5;241m1\u001B[39m, dtype\u001B[38;5;241m=\u001B[39midx_dtype)\n\u001B[1;32m--> 528\u001B[0m indices \u001B[38;5;241m=\u001B[39m \u001B[43mnp\u001B[49m\u001B[38;5;241;43m.\u001B[39;49m\u001B[43mempty\u001B[49m\u001B[43m(\u001B[49m\u001B[43mnnz\u001B[49m\u001B[43m,\u001B[49m\u001B[43m \u001B[49m\u001B[43mdtype\u001B[49m\u001B[38;5;241;43m=\u001B[39;49m\u001B[43midx_dtype\u001B[49m\u001B[43m)\u001B[49m\n\u001B[0;32m    529\u001B[0m data \u001B[38;5;241m=\u001B[39m np\u001B[38;5;241m.\u001B[39mempty(nnz, dtype\u001B[38;5;241m=\u001B[39mupcast(\u001B[38;5;28mself\u001B[39m\u001B[38;5;241m.\u001B[39mdtype, other\u001B[38;5;241m.\u001B[39mdtype))\n\u001B[0;32m    531\u001B[0m fn \u001B[38;5;241m=\u001B[39m \u001B[38;5;28mgetattr\u001B[39m(_sparsetools, \u001B[38;5;28mself\u001B[39m\u001B[38;5;241m.\u001B[39mformat \u001B[38;5;241m+\u001B[39m \u001B[38;5;124m'\u001B[39m\u001B[38;5;124m_matmat\u001B[39m\u001B[38;5;124m'\u001B[39m)\n",
      "\u001B[1;31mMemoryError\u001B[0m: Unable to allocate 28.8 GiB for an array with shape (3861819867,) and data type int64"
     ]
    }
   ],
   "source": [
    "from scipy.sparse import csr_matrix\n",
    "from sklearn.metrics.pairwise import cosine_similarity\n",
    "\n",
    "sparse_movie_genres = csr_matrix(movie_genres)\n",
    "cosine_sim = cosine_similarity(sparse_movie_genres, sparse_movie_genres)"
   ],
   "metadata": {
    "collapsed": false,
    "ExecuteTime": {
     "end_time": "2024-01-10T15:06:28.875809800Z",
     "start_time": "2024-01-10T15:06:02.329817700Z"
    }
   },
   "id": "f95858edd9e130d6"
  },
  {
   "cell_type": "code",
   "execution_count": 7,
   "outputs": [
    {
     "ename": "MemoryError",
     "evalue": "",
     "output_type": "error",
     "traceback": [
      "\u001B[1;31m---------------------------------------------------------------------------\u001B[0m",
      "\u001B[1;31mMemoryError\u001B[0m                               Traceback (most recent call last)",
      "Cell \u001B[1;32mIn[7], line 2\u001B[0m\n\u001B[0;32m      1\u001B[0m \u001B[38;5;28;01mfrom\u001B[39;00m \u001B[38;5;21;01mpickle\u001B[39;00m \u001B[38;5;28;01mimport\u001B[39;00m dump\n\u001B[1;32m----> 2\u001B[0m \u001B[43mdump\u001B[49m\u001B[43m(\u001B[49m\u001B[43mcosine_sim\u001B[49m\u001B[43m,\u001B[49m\u001B[43m \u001B[49m\u001B[38;5;28;43mopen\u001B[39;49m\u001B[43m(\u001B[49m\u001B[38;5;124;43m'\u001B[39;49m\u001B[38;5;124;43mcosine_sim.pkl\u001B[39;49m\u001B[38;5;124;43m'\u001B[39;49m\u001B[43m,\u001B[49m\u001B[43m \u001B[49m\u001B[38;5;124;43m'\u001B[39;49m\u001B[38;5;124;43mwb\u001B[39;49m\u001B[38;5;124;43m'\u001B[39;49m\u001B[43m)\u001B[49m\u001B[43m)\u001B[49m\n",
      "\u001B[1;31mMemoryError\u001B[0m: "
     ]
    }
   ],
   "source": [
    "from pickle import dump\n",
    "dump(cosine_sim, open('cosine_sim.pkl', 'wb'))"
   ],
   "metadata": {
    "collapsed": false,
    "ExecuteTime": {
     "end_time": "2024-01-10T14:58:58.382071600Z",
     "start_time": "2024-01-10T14:58:58.277037700Z"
    }
   },
   "id": "8ba9a2561f1976a8"
  },
  {
   "cell_type": "code",
   "execution_count": 36,
   "outputs": [
    {
     "data": {
      "text/plain": "   Adventure  Crime  Horror  Sci-Fi  Romance  Musical  IMAX  Children  \\\n0          1      0       0       0        0        0     0         1   \n1          1      0       0       0        0        0     0         1   \n2          0      0       0       0        1        0     0         0   \n3          0      0       0       0        1        0     0         0   \n4          0      0       0       0        0        0     0         0   \n\n   Western  Animation  Drama  Action  War  Fantasy  (no genres listed)  \\\n0        0          1      0       0    0        1                   0   \n1        0          0      0       0    0        1                   0   \n2        0          0      0       0    0        0                   0   \n3        0          0      1       0    0        0                   0   \n4        0          0      0       0    0        0                   0   \n\n   Comedy  Documentary  Mystery  Thriller  Film-Noir  \n0       1            0        0         0          0  \n1       0            0        0         0          0  \n2       1            0        0         0          0  \n3       1            0        0         0          0  \n4       1            0        0         0          0  ",
      "text/html": "<div>\n<style scoped>\n    .dataframe tbody tr th:only-of-type {\n        vertical-align: middle;\n    }\n\n    .dataframe tbody tr th {\n        vertical-align: top;\n    }\n\n    .dataframe thead th {\n        text-align: right;\n    }\n</style>\n<table border=\"1\" class=\"dataframe\">\n  <thead>\n    <tr style=\"text-align: right;\">\n      <th></th>\n      <th>Adventure</th>\n      <th>Crime</th>\n      <th>Horror</th>\n      <th>Sci-Fi</th>\n      <th>Romance</th>\n      <th>Musical</th>\n      <th>IMAX</th>\n      <th>Children</th>\n      <th>Western</th>\n      <th>Animation</th>\n      <th>Drama</th>\n      <th>Action</th>\n      <th>War</th>\n      <th>Fantasy</th>\n      <th>(no genres listed)</th>\n      <th>Comedy</th>\n      <th>Documentary</th>\n      <th>Mystery</th>\n      <th>Thriller</th>\n      <th>Film-Noir</th>\n    </tr>\n  </thead>\n  <tbody>\n    <tr>\n      <th>0</th>\n      <td>1</td>\n      <td>0</td>\n      <td>0</td>\n      <td>0</td>\n      <td>0</td>\n      <td>0</td>\n      <td>0</td>\n      <td>1</td>\n      <td>0</td>\n      <td>1</td>\n      <td>0</td>\n      <td>0</td>\n      <td>0</td>\n      <td>1</td>\n      <td>0</td>\n      <td>1</td>\n      <td>0</td>\n      <td>0</td>\n      <td>0</td>\n      <td>0</td>\n    </tr>\n    <tr>\n      <th>1</th>\n      <td>1</td>\n      <td>0</td>\n      <td>0</td>\n      <td>0</td>\n      <td>0</td>\n      <td>0</td>\n      <td>0</td>\n      <td>1</td>\n      <td>0</td>\n      <td>0</td>\n      <td>0</td>\n      <td>0</td>\n      <td>0</td>\n      <td>1</td>\n      <td>0</td>\n      <td>0</td>\n      <td>0</td>\n      <td>0</td>\n      <td>0</td>\n      <td>0</td>\n    </tr>\n    <tr>\n      <th>2</th>\n      <td>0</td>\n      <td>0</td>\n      <td>0</td>\n      <td>0</td>\n      <td>1</td>\n      <td>0</td>\n      <td>0</td>\n      <td>0</td>\n      <td>0</td>\n      <td>0</td>\n      <td>0</td>\n      <td>0</td>\n      <td>0</td>\n      <td>0</td>\n      <td>0</td>\n      <td>1</td>\n      <td>0</td>\n      <td>0</td>\n      <td>0</td>\n      <td>0</td>\n    </tr>\n    <tr>\n      <th>3</th>\n      <td>0</td>\n      <td>0</td>\n      <td>0</td>\n      <td>0</td>\n      <td>1</td>\n      <td>0</td>\n      <td>0</td>\n      <td>0</td>\n      <td>0</td>\n      <td>0</td>\n      <td>1</td>\n      <td>0</td>\n      <td>0</td>\n      <td>0</td>\n      <td>0</td>\n      <td>1</td>\n      <td>0</td>\n      <td>0</td>\n      <td>0</td>\n      <td>0</td>\n    </tr>\n    <tr>\n      <th>4</th>\n      <td>0</td>\n      <td>0</td>\n      <td>0</td>\n      <td>0</td>\n      <td>0</td>\n      <td>0</td>\n      <td>0</td>\n      <td>0</td>\n      <td>0</td>\n      <td>0</td>\n      <td>0</td>\n      <td>0</td>\n      <td>0</td>\n      <td>0</td>\n      <td>0</td>\n      <td>1</td>\n      <td>0</td>\n      <td>0</td>\n      <td>0</td>\n      <td>0</td>\n    </tr>\n  </tbody>\n</table>\n</div>"
     },
     "execution_count": 36,
     "metadata": {},
     "output_type": "execute_result"
    }
   ],
   "source": [
    "movie_genres.head()"
   ],
   "metadata": {
    "collapsed": false,
    "ExecuteTime": {
     "start_time": "2024-01-04T11:47:23.201472200Z"
    }
   },
   "id": "7edeed7b2d7a50fd"
  },
  {
   "cell_type": "code",
   "execution_count": null,
   "outputs": [],
   "source": [
    "#as expected after passing movie_genres dataframe into the cosine_similarity() function, we get a cosine similarity matrix of shape(n_movies, n_movies)"
   ],
   "metadata": {
    "collapsed": false
   },
   "id": "c84a035479c8f1ca"
  },
  {
   "cell_type": "code",
   "execution_count": 4,
   "outputs": [
    {
     "name": "stderr",
     "output_type": "stream",
     "text": [
      "C:\\Users\\rolan\\Desktop\\4.class\\Bitirme odevi\\recommendation_movie\\venv\\Lib\\site-packages\\fuzzywuzzy\\fuzz.py:11: UserWarning: Using slow pure-python SequenceMatcher. Install python-Levenshtein to remove this warning\n",
      "  warnings.warn('Using slow pure-python SequenceMatcher. Install python-Levenshtein to remove this warning')\n"
     ]
    },
    {
     "data": {
      "text/plain": "'Top Gun (1986)'"
     },
     "execution_count": 4,
     "metadata": {},
     "output_type": "execute_result"
    }
   ],
   "source": [
    "#Creating a movie finder function\n",
    "from fuzzywuzzy import process\n",
    "\n",
    "def movie_finder(title):\n",
    "    all_titles = movies['title'].tolist()\n",
    "    closest_match = process.extractOne(title, all_titles)\n",
    "    return closest_match[0]\n",
    "\n",
    "#example\n",
    "title_movie = movie_finder('Top gun')\n",
    "title_movie"
   ],
   "metadata": {
    "collapsed": false,
    "ExecuteTime": {
     "end_time": "2024-01-10T14:55:40.147518300Z",
     "start_time": "2024-01-10T14:55:23.911447700Z"
    }
   },
   "id": "2491b3288430f4a8"
  },
  {
   "cell_type": "code",
   "execution_count": 39,
   "outputs": [
    {
     "data": {
      "text/plain": "'Jumanji (1995)'"
     },
     "execution_count": 39,
     "metadata": {},
     "output_type": "execute_result"
    }
   ],
   "source": [
    "title_movie = movie_finder('juminji')\n",
    "title_movie"
   ],
   "metadata": {
    "collapsed": false,
    "ExecuteTime": {
     "end_time": "2024-01-04T11:50:24.449139300Z",
     "start_time": "2024-01-04T11:50:13.664000100Z"
    }
   },
   "id": "c3890a11e5b4261e"
  },
  {
   "cell_type": "code",
   "execution_count": 25,
   "outputs": [
    {
     "name": "stdout",
     "output_type": "stream",
     "text": [
      "Movie index for Jumanji: 0\n"
     ]
    },
    {
     "data": {
      "text/plain": "{'Toy Story (1995)': 0,\n 'Jumanji (1995)': 1,\n 'Grumpier Old Men (1995)': 2,\n 'Waiting to Exhale (1995)': 3,\n 'Father of the Bride Part II (1995)': 4,\n 'Heat (1995)': 5,\n 'Sabrina (1995)': 6,\n 'Tom and Huck (1995)': 7,\n 'Sudden Death (1995)': 8,\n 'GoldenEye (1995)': 9,\n 'American President, The (1995)': 10,\n 'Dracula: Dead and Loving It (1995)': 11,\n 'Balto (1995)': 12,\n 'Nixon (1995)': 13,\n 'Cutthroat Island (1995)': 14,\n 'Casino (1995)': 15,\n 'Sense and Sensibility (1995)': 16,\n 'Four Rooms (1995)': 17,\n 'Ace Ventura: When Nature Calls (1995)': 18,\n 'Money Train (1995)': 19,\n 'Get Shorty (1995)': 20,\n 'Copycat (1995)': 21,\n 'Assassins (1995)': 22,\n 'Powder (1995)': 23,\n 'Leaving Las Vegas (1995)': 24,\n 'Othello (1995)': 25,\n 'Now and Then (1995)': 26,\n 'Persuasion (1995)': 27,\n 'City of Lost Children, The (Cité des enfants perdus, La) (1995)': 28,\n 'Shanghai Triad (Yao a yao yao dao waipo qiao) (1995)': 29,\n 'Dangerous Minds (1995)': 30,\n 'Twelve Monkeys (a.k.a. 12 Monkeys) (1995)': 31,\n 'Wings of Courage (1995)': 32,\n 'Babe (1995)': 33,\n 'Carrington (1995)': 34,\n 'Dead Man Walking (1995)': 35,\n 'Across the Sea of Time (1995)': 36,\n 'It Takes Two (1995)': 37,\n 'Clueless (1995)': 38,\n 'Cry, the Beloved Country (1995)': 39,\n 'Richard III (1995)': 40,\n 'Dead Presidents (1995)': 41,\n 'Restoration (1995)': 42,\n 'Mortal Kombat (1995)': 43,\n 'To Die For (1995)': 44,\n 'How to Make an American Quilt (1995)': 45,\n 'Seven (a.k.a. Se7en) (1995)': 46,\n 'Pocahontas (1995)': 47,\n 'When Night Is Falling (1995)': 48,\n 'Usual Suspects, The (1995)': 49,\n 'Guardian Angel (1994)': 50,\n 'Mighty Aphrodite (1995)': 51,\n 'Lamerica (1994)': 52,\n 'Big Green, The (1995)': 53,\n 'Georgia (1995)': 54,\n 'Kids of the Round Table (1995)': 55,\n 'Home for the Holidays (1995)': 56,\n 'Postman, The (Postino, Il) (1994)': 57,\n 'Confessional, The (Confessionnal, Le) (1995)': 58,\n 'Indian in the Cupboard, The (1995)': 59,\n 'Eye for an Eye (1996)': 60,\n \"Mr. Holland's Opus (1995)\": 61,\n \"Don't Be a Menace to South Central While Drinking Your Juice in the Hood (1996)\": 62,\n 'Two if by Sea (1996)': 63,\n 'Bio-Dome (1996)': 64,\n 'Lawnmower Man 2: Beyond Cyberspace (1996)': 65,\n 'Two Bits (1995)': 66,\n 'French Twist (Gazon maudit) (1995)': 67,\n 'Friday (1995)': 68,\n 'From Dusk Till Dawn (1996)': 69,\n 'Fair Game (1995)': 70,\n 'Kicking and Screaming (1995)': 71,\n 'Misérables, Les (1995)': 72,\n 'Bed of Roses (1996)': 73,\n 'Big Bully (1996)': 74,\n 'Screamers (1995)': 75,\n 'Nico Icon (1995)': 76,\n 'Crossing Guard, The (1995)': 77,\n 'Juror, The (1996)': 78,\n 'White Balloon, The (Badkonake sefid) (1995)': 79,\n \"Things to Do in Denver When You're Dead (1995)\": 80,\n \"Antonia's Line (Antonia) (1995)\": 81,\n 'Once Upon a Time... When We Were Colored (1995)': 82,\n 'Last Summer in the Hamptons (1995)': 83,\n 'Angels and Insects (1995)': 84,\n 'White Squall (1996)': 85,\n 'Dunston Checks In (1996)': 86,\n 'Black Sheep (1996)': 87,\n 'Nick of Time (1995)': 88,\n 'The Journey of August King (1995)': 89,\n 'Mary Reilly (1996)': 90,\n 'Vampire in Brooklyn (1995)': 91,\n 'Beautiful Girls (1996)': 92,\n 'Broken Arrow (1996)': 93,\n 'In the Bleak Midwinter (1995)': 94,\n 'Hate (Haine, La) (1995)': 95,\n 'Shopping (1994)': 96,\n 'Heidi Fleiss: Hollywood Madam (1995)': 97,\n 'City Hall (1996)': 98,\n 'Bottle Rocket (1996)': 99,\n 'Mr. Wrong (1996)': 100,\n 'Unforgettable (1996)': 101,\n 'Happy Gilmore (1996)': 102,\n 'Bridges of Madison County, The (1995)': 103,\n 'Nobody Loves Me (Keiner liebt mich) (1994)': 104,\n 'Muppet Treasure Island (1996)': 105,\n 'Catwalk (1996)': 106,\n 'Headless Body in Topless Bar (1995)': 107,\n 'Braveheart (1995)': 108,\n 'Taxi Driver (1976)': 109,\n 'Rumble in the Bronx (Hont faan kui) (1995)': 110,\n 'Before and After (1996)': 111,\n \"Margaret's Museum (1995)\": 112,\n 'Happiness Is in the Field (Bonheur est dans le pré, Le) (1995)': 113,\n 'Anne Frank Remembered (1995)': 114,\n \"Young Poisoner's Handbook, The (1995)\": 115,\n 'If Lucy Fell (1996)': 116,\n 'Steal Big, Steal Little (1995)': 117,\n 'Race the Sun (1996)': 118,\n 'Boys of St. Vincent, The (1992)': 119,\n 'Boomerang (1992)': 120,\n 'Chungking Express (Chung Hing sam lam) (1994)': 121,\n \"Star Maker, The (Uomo delle stelle, L') (1995)\": 122,\n 'Flirting With Disaster (1996)': 123,\n 'NeverEnding Story III, The (1994)': 124,\n 'Silences of the Palace, The (Saimt el Qusur) (1994)': 125,\n \"Jupiter's Wife (1994)\": 126,\n 'Pie in the Sky (1996)': 127,\n 'Angela (1995)': 128,\n 'Frankie Starlight (1995)': 129,\n 'Jade (1995)': 130,\n 'Nueba Yol (1995)': 131,\n 'Sonic Outlaws (1995)': 132,\n 'Down Periscope (1996)': 133,\n 'From the Journals of Jean Seberg (1995)': 134,\n 'Man of the Year (1995)': 135,\n 'Neon Bible, The (1995)': 136,\n 'Target (1995)': 137,\n 'Up Close and Personal (1996)': 138,\n 'Birdcage, The (1996)': 139,\n 'Shadows (Cienie) (1988)': 140,\n 'Gospa (1995)': 141,\n 'Brothers McMullen, The (1995)': 142,\n 'Bad Boys (1995)': 143,\n 'Amazing Panda Adventure, The (1995)': 144,\n 'Basketball Diaries, The (1995)': 145,\n 'Awfully Big Adventure, An (1995)': 146,\n 'Amateur (1994)': 147,\n 'Apollo 13 (1995)': 148,\n 'Rob Roy (1995)': 149,\n 'Addiction, The (1995)': 150,\n 'Batman Forever (1995)': 151,\n 'Beauty of the Day (Belle de jour) (1967)': 152,\n 'Beyond Rangoon (1995)': 153,\n 'Blue in the Face (1995)': 154,\n 'Canadian Bacon (1995)': 155,\n 'Casper (1995)': 156,\n 'Clockers (1995)': 157,\n 'Congo (1995)': 158,\n 'Crimson Tide (1995)': 159,\n 'Crumb (1994)': 160,\n 'Desperado (1995)': 161,\n 'Devil in a Blue Dress (1995)': 162,\n 'Die Hard: With a Vengeance (1995)': 163,\n 'Doom Generation, The (1995)': 164,\n 'Feast of July (1995)': 165,\n 'First Knight (1995)': 166,\n 'Free Willy 2: The Adventure Home (1995)': 167,\n 'Hackers (1995)': 168,\n 'Jeffrey (1995)': 169,\n 'Johnny Mnemonic (1995)': 170,\n 'Judge Dredd (1995)': 171,\n 'Jury Duty (1995)': 172,\n 'Kids (1995)': 173,\n 'Living in Oblivion (1995)': 174,\n 'Lord of Illusions (1995)': 175,\n 'Love & Human Remains (1993)': 176,\n 'Mad Love (1995)': 177,\n 'Mallrats (1995)': 178,\n 'Mighty Morphin Power Rangers: The Movie (1995)': 179,\n 'Moonlight and Valentino (1995)': 180,\n 'Mute Witness (1994)': 181,\n 'Nadja (1994)': 182,\n 'Net, The (1995)': 183,\n 'Nine Months (1995)': 184,\n 'Party Girl (1995)': 185,\n 'Prophecy, The (1995)': 186,\n 'Reckless (1995)': 187,\n 'Safe (1995)': 188,\n 'Scarlet Letter, The (1995)': 189,\n 'The Show (1995)': 190,\n 'Showgirls (1995)': 191,\n 'Smoke (1995)': 192,\n 'Something to Talk About (1995)': 193,\n 'Species (1995)': 194,\n 'Stars Fell on Henrietta, The (1995)': 195,\n 'Strange Days (1995)': 196,\n 'Umbrellas of Cherbourg, The (Parapluies de Cherbourg, Les) (1964)': 197,\n 'Tie That Binds, The (1995)': 198,\n 'Three Wishes (1995)': 199,\n 'Total Eclipse (1995)': 200,\n 'To Wong Foo, Thanks for Everything! Julie Newmar (1995)': 201,\n 'Under Siege 2: Dark Territory (1995)': 202,\n 'Unstrung Heroes (1995)': 203,\n 'Unzipped (1995)': 204,\n 'Walk in the Clouds, A (1995)': 205,\n 'Waterworld (1995)': 206,\n \"White Man's Burden (1995)\": 207,\n 'Wild Bill (1995)': 208,\n 'Browning Version, The (1994)': 209,\n 'Bushwhacked (1995)': 210,\n 'Burnt by the Sun (Utomlyonnye solntsem) (1994)': 211,\n 'Before the Rain (Pred dozhdot) (1994)': 212,\n 'Before Sunrise (1995)': 213,\n 'Billy Madison (1995)': 214,\n 'Babysitter, The (1995)': 215,\n 'Boys on the Side (1995)': 216,\n 'Cure, The (1995)': 217,\n 'Castle Freak (1995)': 218,\n 'Circle of Friends (1995)': 219,\n 'Clerks (1994)': 220,\n 'Don Juan DeMarco (1995)': 221,\n 'Disclosure (1994)': 222,\n 'Dream Man (1995)': 223,\n 'Drop Zone (1994)': 224,\n 'Destiny Turns on the Radio (1995)': 225,\n 'Death and the Maiden (1994)': 226,\n 'Dolores Claiborne (1995)': 227,\n 'Dumb & Dumber (Dumb and Dumber) (1994)': 228,\n 'Eat Drink Man Woman (Yin shi nan nu) (1994)': 229,\n 'Exotica (1994)': 230,\n 'Exit to Eden (1994)': 231,\n 'Ed Wood (1994)': 232,\n 'French Kiss (1995)': 233,\n 'Forget Paris (1995)': 234,\n 'Far From Home: The Adventures of Yellow Dog (1995)': 235,\n 'Goofy Movie, A (1995)': 236,\n 'Hideaway (1995)': 237,\n 'Fluke (1995)': 238,\n 'Farinelli: il castrato (1994)': 239,\n 'Gordy (1995)': 240,\n 'Gumby: The Movie (1995)': 241,\n 'The Glass Shield (1994)': 242,\n 'Hoop Dreams (1994)': 243,\n 'Heavenly Creatures (1994)': 244,\n 'Houseguest (1994)': 245,\n 'Immortal Beloved (1994)': 246,\n 'Heavyweights (Heavy Weights) (1995)': 247,\n 'Hunted, The (1995)': 248,\n 'I.Q. (1994)': 249,\n 'Interview with the Vampire: The Vampire Chronicles (1994)': 250,\n 'Jefferson in Paris (1995)': 251,\n 'Jerky Boys, The (1995)': 252,\n 'Junior (1994)': 253,\n 'Just Cause (1995)': 254,\n \"Kid in King Arthur's Court, A (1995)\": 255,\n 'Kiss of Death (1995)': 256,\n 'Star Wars: Episode IV - A New Hope (1977)': 257,\n 'Little Women (1994)': 258,\n 'Little Princess, A (1995)': 259,\n 'Ladybird Ladybird (1994)': 260,\n \"Enfer, L' (1994)\": 261,\n 'Like Water for Chocolate (Como agua para chocolate) (1992)': 262,\n 'Legends of the Fall (1994)': 263,\n 'Major Payne (1995)': 264,\n 'Little Odessa (1994)': 265,\n 'My Crazy Life (Mi vida loca) (1993)': 266,\n 'Love Affair (1994)': 267,\n 'Losing Isaiah (1995)': 268,\n 'Madness of King George, The (1994)': 269,\n \"Mary Shelley's Frankenstein (Frankenstein) (1994)\": 270,\n 'Man of the House (1995)': 271,\n 'Mixed Nuts (1994)': 272,\n 'Milk Money (1994)': 273,\n 'Miracle on 34th Street (1994)': 274,\n 'Miami Rhapsody (1995)': 275,\n 'My Family (1995)': 276,\n 'Murder in the First (1995)': 277,\n \"Nobody's Fool (1994)\": 278,\n 'Nell (1994)': 279,\n 'New Jersey Drive (1995)': 280,\n 'New York Cop (Nyû Yôku no koppu) (1993)': 281,\n 'Beyond Bedlam (1993)': 282,\n 'Nemesis 2: Nebula (1995)': 283,\n 'Nina Takes a Lover (1994)': 284,\n 'Natural Born Killers (1994)': 285,\n 'Only You (1994)': 286,\n 'Once Were Warriors (1994)': 287,\n 'Outbreak (1995)': 288,\n 'Léon: The Professional (a.k.a. The Professional) (Léon) (1994)': 289,\n 'Perez Family, The (1995)': 290,\n \"Pyromaniac's Love Story, A (1995)\": 291,\n 'Pulp Fiction (1994)': 292,\n 'Panther (1995)': 293,\n 'Pushing Hands (Tui shou) (1992)': 294,\n 'Priest (1994)': 295,\n 'Quiz Show (1994)': 296,\n 'Picture Bride (Bijo photo) (1994)': 297,\n 'Queen Margot (Reine Margot, La) (1994)': 298,\n 'Quick and the Dead, The (1995)': 299,\n 'Roommates (1995)': 300,\n 'Ready to Wear (Pret-A-Porter) (1994)': 301,\n 'Three Colors: Red (Trois couleurs: Rouge) (1994)': 302,\n 'Three Colors: Blue (Trois couleurs: Bleu) (1993)': 303,\n 'Three Colors: White (Trzy kolory: Bialy) (1994)': 304,\n 'Red Firecracker, Green Firecracker (Pao Da Shuang Deng) (1994)': 305,\n 'Rent-a-Kid (1995)': 306,\n 'Relative Fear (1994)': 307,\n 'Stuart Saves His Family (1995)': 308,\n 'Swan Princess, The (1994)': 309,\n 'Secret of Roan Inish, The (1994)': 310,\n 'Specialist, The (1994)': 311,\n 'Stargate (1994)': 312,\n 'Santa Clause, The (1994)': 313,\n 'Shawshank Redemption, The (1994)': 314,\n 'Shallow Grave (1994)': 315,\n 'Suture (1993)': 316,\n 'Strawberry and Chocolate (Fresa y chocolate) (1993)': 317,\n 'Swimming with Sharks (1995)': 318,\n 'Sum of Us, The (1994)': 319,\n \"National Lampoon's Senior Trip (1995)\": 320,\n 'To Live (Huozhe) (1994)': 321,\n 'Tank Girl (1995)': 322,\n 'Tales from the Crypt Presents: Demon Knight (1995)': 323,\n 'Star Trek: Generations (1994)': 324,\n 'Tales from the Hood (1995)': 325,\n 'Tom & Viv (1994)': 326,\n 'Village of the Damned (1995)': 327,\n 'Tommy Boy (1995)': 328,\n 'Vanya on 42nd Street (1994)': 329,\n 'Underneath (1995)': 330,\n 'Walking Dead, The (1995)': 331,\n \"What's Eating Gilbert Grape (1993)\": 332,\n 'Virtuosity (1995)': 333,\n 'While You Were Sleeping (1995)': 334,\n 'War, The (1994)': 335,\n 'Double Happiness (1994)': 336,\n \"Muriel's Wedding (1994)\": 337,\n 'Baby-Sitters Club, The (1995)': 338,\n 'Ace Ventura: Pet Detective (1994)': 339,\n 'Adventures of Priscilla, Queen of the Desert, The (1994)': 340,\n 'Backbeat (1993)': 341,\n 'Bitter Moon (1992)': 342,\n 'Bullets Over Broadway (1994)': 343,\n 'Clear and Present Danger (1994)': 344,\n 'Client, The (1994)': 345,\n 'Corrina, Corrina (1994)': 346,\n 'Crooklyn (1994)': 347,\n 'Crow, The (1994)': 348,\n 'Cobb (1994)': 349,\n 'Flintstones, The (1994)': 350,\n 'Forrest Gump (1994)': 351,\n 'Four Weddings and a Funeral (1994)': 352,\n 'Higher Learning (1995)': 353,\n 'I Like It Like That (1994)': 354,\n 'I Love Trouble (1994)': 355,\n 'It Could Happen to You (1994)': 356,\n 'Jungle Book, The (1994)': 357,\n 'Wonderful, Horrible Life of Leni Riefenstahl, The (Macht der Bilder: Leni Riefenstahl, Die) (1993)': 358,\n 'Lion King, The (1994)': 359,\n 'Little Buddha (1993)': 360,\n \"Wes Craven's New Nightmare (Nightmare on Elm Street Part 7: Freddy's Finale, A) (1994)\": 361,\n 'Mask, The (1994)': 362,\n 'Maverick (1994)': 363,\n 'Mrs. Parker and the Vicious Circle (1994)': 364,\n 'Naked Gun 33 1/3: The Final Insult (1994)': 365,\n 'Paper, The (1994)': 366,\n 'Reality Bites (1994)': 367,\n 'Red Rock West (1992)': 368,\n 'Richie Rich (1994)': 369,\n 'Safe Passage (1994)': 370,\n 'River Wild, The (1994)': 371,\n 'Speed (1994)': 372,\n 'Speechless (1994)': 373,\n 'Timecop (1994)': 374,\n 'True Lies (1994)': 375,\n 'When a Man Loves a Woman (1994)': 376,\n 'Wolf (1994)': 377,\n 'Wyatt Earp (1994)': 378,\n 'Bad Company (1995)': 379,\n 'Man of No Importance, A (1994)': 380,\n 'S.F.W. (1994)': 381,\n 'Low Down Dirty Shame, A (1994)': 382,\n 'Boys Life (1995)': 383,\n 'Colonel Chabert, Le (1994)': 384,\n 'Faster Pussycat! Kill! Kill! (1965)': 385,\n \"Jason's Lyric (1994)\": 386,\n 'Secret Adventures of Tom Thumb, The (1993)': 387,\n 'Street Fighter (1994)': 388,\n 'Coldblooded (1995)': 389,\n 'Desert Winds (1995)': 390,\n 'Fall Time (1995)': 391,\n 'Fear, The (1995)': 392,\n 'Frank and Ollie (1995)': 393,\n 'Girl in the Cadillac (1995)': 394,\n 'Homage (1995)': 395,\n 'Mirage (1995)': 396,\n 'Open Season (1996)': 397,\n 'Two Crimes (Dos crímenes) (1995)': 398,\n 'Brother Minister: The Assassination of Malcolm X (1994)': 399,\n 'Highlander III: The Sorcerer (a.k.a. Highlander: The Final Dimension) (1994)': 400,\n 'Federal Hill (1994)': 401,\n 'In the Mouth of Madness (1995)': 402,\n '8 Seconds (1994)': 403,\n 'Above the Rim (1994)': 404,\n 'Addams Family Values (1993)': 405,\n 'Martin Lawrence: You So Crazy (1994)': 406,\n 'Age of Innocence, The (1993)': 407,\n 'Airheads (1994)': 408,\n 'Air Up There, The (1994)': 409,\n 'Another Stakeout (1993)': 410,\n 'Bad Girls (1994)': 411,\n 'Barcelona (1994)': 412,\n 'Being Human (1993)': 413,\n 'Beverly Hillbillies, The (1993)': 414,\n 'Beverly Hills Cop III (1994)': 415,\n 'Black Beauty (1994)': 416,\n 'Blink (1994)': 417,\n 'Blown Away (1994)': 418,\n 'Blue Chips (1994)': 419,\n 'Blue Sky (1994)': 420,\n 'Body Snatchers (1993)': 421,\n 'Boxing Helena (1993)': 422,\n 'Bronx Tale, A (1993)': 423,\n 'Cabin Boy (1994)': 424,\n 'Calendar Girl (1993)': 425,\n \"Carlito's Way (1993)\": 426,\n \"City Slickers II: The Legend of Curly's Gold (1994)\": 427,\n 'Clean Slate (1994)': 428,\n 'Cliffhanger (1993)': 429,\n 'Coneheads (1993)': 430,\n 'Color of Night (1994)': 431,\n 'Cops and Robbersons (1994)': 432,\n 'Cowboy Way, The (1994)': 433,\n 'Dangerous Game (1993)': 434,\n 'Dave (1993)': 435,\n 'Dazed and Confused (1993)': 436,\n 'Demolition Man (1993)': 437,\n 'Endless Summer 2, The (1994)': 438,\n 'Even Cowgirls Get the Blues (1993)': 439,\n 'Fatal Instinct (1993)': 440,\n 'Farewell My Concubine (Ba wang bie ji) (1993)': 441,\n 'Favor, The (1994)': 442,\n 'Fearless (1993)': 443,\n 'Fear of a Black Hat (1994)': 444,\n 'With Honors (1994)': 445,\n 'Flesh and Bone (1993)': 446,\n \"Widows' Peak (1994)\": 447,\n 'For Love or Money (1993)': 448,\n 'Firm, The (1993)': 449,\n 'Free Willy (1993)': 450,\n 'Fresh (1994)': 451,\n 'Fugitive, The (1993)': 452,\n 'Geronimo: An American Legend (1993)': 453,\n 'Getaway, The (1994)': 454,\n 'Getting Even with Dad (1994)': 455,\n 'Go Fish (1994)': 456,\n 'Good Man in Africa, A (1994)': 457,\n 'Guilty as Sin (1993)': 458,\n 'Hard Target (1993)': 459,\n 'Heaven & Earth (1993)': 460,\n 'Hot Shots! Part Deux (1993)': 461,\n 'Live Nude Girls (1995)': 462,\n 'Englishman Who Went Up a Hill But Came Down a Mountain, The (1995)': 463,\n 'House of the Spirits, The (1993)': 464,\n 'House Party 3 (1994)': 465,\n 'Hudsucker Proxy, The (1994)': 466,\n \"I'll Do Anything (1994)\": 467,\n 'In the Army Now (1994)': 468,\n 'In the Line of Fire (1993)': 469,\n 'In the Name of the Father (1993)': 470,\n 'Inkwell, The (1994)': 471,\n \"What's Love Got to Do with It? (1993)\": 472,\n 'Jimmy Hollywood (1994)': 473,\n 'Judgment Night (1993)': 474,\n 'Jurassic Park (1993)': 475,\n 'Kalifornia (1993)': 476,\n 'Killing Zoe (1994)': 477,\n 'King of the Hill (1993)': 478,\n 'Lassie (1994)': 479,\n 'Last Action Hero (1993)': 480,\n 'Life with Mikey (1993)': 481,\n 'Lightning Jack (1994)': 482,\n 'M. Butterfly (1993)': 483,\n 'Made in America (1993)': 484,\n 'Malice (1993)': 485,\n 'Man Without a Face, The (1993)': 486,\n 'Manhattan Murder Mystery (1993)': 487,\n 'Menace II Society (1993)': 488,\n 'Executive Decision (1996)': 489,\n 'In the Realm of the Senses (Ai no corrida) (1976)': 490,\n 'What Happened Was... (1994)': 491,\n 'Much Ado About Nothing (1993)': 492,\n 'Mr. Jones (1993)': 493,\n 'Mr. Wonderful (1993)': 494,\n 'Mrs. Doubtfire (1993)': 495,\n 'Naked (1993)': 496,\n 'Next Karate Kid, The (1994)': 497,\n 'New Age, The (1994)': 498,\n 'No Escape (1994)': 499,\n 'North (1994)': 500,\n 'Orlando (1992)': 501,\n 'Perfect World, A (1993)': 502,\n 'Philadelphia (1993)': 503,\n 'Piano, The (1993)': 504,\n 'Poetic Justice (1993)': 505,\n 'Program, The (1993)': 506,\n 'Puppet Masters, The (1994)': 507,\n 'Radioland Murders (1994)': 508,\n 'Ref, The (1994)': 509,\n 'Remains of the Day, The (1993)': 510,\n 'Renaissance Man (1994)': 511,\n 'Rising Sun (1993)': 512,\n 'Road to Wellville, The (1994)': 513,\n 'RoboCop 3 (1993)': 514,\n 'Robin Hood: Men in Tights (1993)': 515,\n 'Romeo Is Bleeding (1993)': 516,\n 'Romper Stomper (1992)': 517,\n 'Ruby in Paradise (1993)': 518,\n 'Rudy (1993)': 519,\n 'Saint of Fort Washington, The (1993)': 520,\n 'Savage Nights (Nuits fauves, Les) (1992)': 521,\n \"Schindler's List (1993)\": 522,\n 'Scout, The (1994)': 523,\n 'Searching for Bobby Fischer (1993)': 524,\n 'Second Best (1994)': 525,\n 'Secret Garden, The (1993)': 526,\n 'Serial Mom (1994)': 527,\n 'Shadow, The (1994)': 528,\n 'Shadowlands (1993)': 529,\n 'Short Cuts (1993)': 530,\n 'Simple Twist of Fate, A (1994)': 531,\n 'Sirens (1994)': 532,\n 'Six Degrees of Separation (1993)': 533,\n 'Sleepless in Seattle (1993)': 534,\n 'Sliver (1993)': 535,\n 'Blade Runner (1982)': 536,\n 'Son in Law (1993)': 537,\n 'So I Married an Axe Murderer (1993)': 538,\n 'Striking Distance (1993)': 539,\n 'Super Mario Bros. (1993)': 540,\n 'Surviving the Game (1994)': 541,\n 'Terminal Velocity (1994)': 542,\n 'Thirty-Two Short Films About Glenn Gould (1993)': 543,\n 'Threesome (1994)': 544,\n 'Nightmare Before Christmas, The (1993)': 545,\n 'Three Musketeers, The (1993)': 546,\n 'Tombstone (1993)': 547,\n 'Trial by Jury (1994)': 548,\n 'True Romance (1993)': 549,\n 'War Room, The (1993)': 550,\n 'Pagemaster, The (1994)': 551,\n 'Paris, France (1993)': 552,\n 'Beans of Egypt, Maine, The (1994)': 553,\n 'Killer (Bulletproof Heart) (1994)': 554,\n 'Welcome to the Dollhouse (1995)': 555,\n 'Germinal (1993)': 556,\n 'Chasers (1994)': 557,\n 'Cronos (1993)': 558,\n 'Naked in New York (1994)': 559,\n 'Kika (1993)': 560,\n 'Bhaji on the Beach (1993)': 561,\n 'Little Big League (1994)': 562,\n 'Slingshot, The (Kådisbellan) (1993)': 563,\n 'Wedding Gift, The (1994)': 564,\n 'Foreign Student (1994)': 565,\n 'Ciao, Professore! (Io speriamo che me la cavo) (1992)': 566,\n 'Spanking the Monkey (1994)': 567,\n 'Little Rascals, The (1994)': 568,\n 'Fausto (1993)': 569,\n 'Andre (1994)': 570,\n 'Escort, The (Scorta, La) (1993)': 571,\n 'Princess Caraboo (1994)': 572,\n 'Celluloid Closet, The (1995)': 573,\n 'Métisse (Café au Lait) (1993)': 574,\n 'Dear Diary (Caro Diario) (1994)': 575,\n \"I Don't Want to Talk About It (De eso no se habla) (1993)\": 576,\n 'Brady Bunch Movie, The (1995)': 577,\n 'Home Alone (1990)': 578,\n 'Ghost (1990)': 579,\n 'Aladdin (1992)': 22286,\n 'Terminator 2: Judgment Day (1991)': 581,\n 'Dances with Wolves (1990)': 582,\n 'Tough and Deadly (1995)': 583,\n 'Batman (1989)': 584,\n 'Silence of the Lambs, The (1991)': 585,\n 'Snow White and the Seven Dwarfs (1937)': 586,\n 'Beauty and the Beast (1991)': 587,\n 'Pinocchio (1940)': 588,\n 'Pretty Woman (1990)': 589,\n 'Window to Paris (Okno v Parizh) (1994)': 590,\n 'Wild Bunch, The (1969)': 591,\n 'Love and a .45 (1994)': 592,\n \"Wooden Man's Bride, The (Yan shen) (1994)\": 593,\n 'Great Day in Harlem, A (1994)': 594,\n 'Bye Bye, Love (1995)': 595,\n 'Criminals (1996)': 596,\n 'One Fine Day (1996)': 597,\n 'Candyman: Farewell to the Flesh (1995)': 598,\n 'Century (1993)': 599,\n 'Fargo (1996)': 600,\n 'Homeward Bound II: Lost in San Francisco (1996)': 601,\n 'Heavy Metal (1981)': 602,\n 'Hellraiser: Bloodline (1996)': 603,\n 'Pallbearer, The (1996)': 604,\n 'Jane Eyre (1996)': 605,\n 'Loaded (1994)': 606,\n 'Bread and Chocolate (Pane e cioccolata) (1973)': 607,\n 'Aristocats, The (1970)': 608,\n 'Flower of My Secret, The (La flor de mi secreto) (1995)': 609,\n 'Two Much (1995)': 610,\n 'Ed (1996)': 611,\n 'Scream of Stone (Cerro Torre: Schrei aus Stein) (1991)': 612,\n 'My Favorite Season (1993)': 613,\n 'Modern Affair, A (1995)': 614,\n 'Asfour Stah (1990)': 615,\n 'Thin Line Between Love and Hate, A (1996)': 616,\n 'Last Supper, The (1995)': 617,\n 'Primal Fear (1996)': 618,\n 'Rude (1995)': 619,\n 'Carried Away (1996)': 620,\n 'All Dogs Go to Heaven 2 (1996)': 621,\n 'Land and Freedom (Tierra y libertad) (1995)': 622,\n 'Denise Calls Up (1995)': 623,\n 'Theodore Rex (1995)': 624,\n 'Family Thing, A (1996)': 625,\n 'Frisk (1995)': 626,\n 'Sgt. Bilko (1996)': 627,\n 'Jack and Sarah (1995)': 628,\n 'Girl 6 (1996)': 629,\n 'Diabolique (1996)': 630,\n 'Little Indian, Big City (Un indien dans la ville) (1994)': 631,\n 'Roula (1995)': 632,\n 'Peanuts - Die Bank zahlt alles (1996)': 633,\n 'Happy Weekend (1996)': 634,\n 'Nelly & Monsieur Arnaud (1995)': 635,\n 'Courage Under Fire (1996)': 636,\n 'Mission: Impossible (1996)': 637,\n 'Cold Fever (Á köldum klaka) (1995)': 638,\n 'Moll Flanders (1996)': 639,\n 'Superweib, Das (1996)': 640,\n '301, 302 (301/302) (1995)': 641,\n 'Dragonheart (1996)': 642,\n 'And Nobody Weeps for Me (Und keiner weint mir nach) (1996)': 643,\n \"My Mother's Courage (Mutters Courage) (1995)\": 644,\n 'Eddie (1996)': 645,\n 'Yankee Zulu (1994)': 646,\n \"Billy's Holiday (1995)\": 647,\n 'Purple Noon (Plein soleil) (1960)': 648,\n 'August (1996)': 649,\n 'James and the Giant Peach (1996)': 650,\n 'Fear (1996)': 651,\n 'Kids in the Hall: Brain Candy (1996)': 652,\n 'Faithful (1996)': 653,\n 'Underground (1995)': 654,\n 'All Things Fair (Lust och fägring stor) (1995)': 655,\n 'Bloodsport 2 (a.k.a. Bloodsport II: The Next Kumite) (1996)': 656,\n 'Song of the Little Road (Pather Panchali) (1955)': 657,\n 'World of Apu, The (Apur Sansar) (1959)': 658,\n 'Mystery Science Theater 3000: The Movie (1996)': 659,\n 'Tarantella (1995)': 660,\n 'Space Jam (1996)': 661,\n 'Barbarella (1968)': 662,\n 'Hostile Intentions (1994)': 663,\n 'They Bite (1996)': 664,\n 'Some Folks Call It a Sling Blade (1993)': 665,\n 'Run of the Country, The (1995)': 666,\n 'Alphaville (Alphaville, une étrange aventure de Lemmy Caution) (1965)': 667,\n 'Coup de torchon (Clean Slate) (1981)': 668,\n 'Tigrero: A Film That Was Never Made (1994)': 669,\n \"Eye of Vichy, The (Oeil de Vichy, L') (1993)\": 670,\n 'Windows (1980)': 671,\n \"It's My Party (1996)\": 672,\n 'Country Life (1994)': 673,\n 'Operation Dumbo Drop (1995)': 674,\n 'Promise, The (Versprechen, Das) (1995)': 675,\n 'Mrs. Winterbourne (1996)': 676,\n 'Solo (1996)': 677,\n 'Under the Domim Tree (Etz Hadomim Tafus) (1994)': 678,\n 'Substitute, The (1996)': 679,\n 'True Crime (1996)': 680,\n 'Butterfly Kiss (1995)': 681,\n 'Feeling Minnesota (1996)': 682,\n 'Delta of Venus (1995)': 683,\n 'To Cross the Rubicon (1991)': 684,\n 'Angus (1995)': 685,\n 'Daens (1992)': 686,\n 'Faces (1968)': 687,\n 'Boys (1996)': 688,\n 'Quest, The (1996)': 689,\n 'Cosi (1996)': 690,\n 'Sunset Park (1996)': 691,\n 'Mulholland Falls (1996)': 692,\n 'Truth About Cats & Dogs, The (1996)': 693,\n 'Oliver & Company (1988)': 694,\n 'Celtic Pride (1996)': 695,\n 'Flipper (1996)': 696,\n 'Captives (1994)': 697,\n 'Of Love and Shadows (1994)': 698,\n 'Dead Man (1995)': 699,\n 'Horseman on the Roof, The (Hussard sur le toit, Le) (1995)': 700,\n 'Switchblade Sisters (1975)': 701,\n 'Mouth to Mouth (Boca a boca) (1995)': 702,\n 'Visitors, The (Visiteurs, Les) (1993)': 703,\n 'Multiplicity (1996)': 704,\n 'Wallace & Gromit: The Best of Aardman Animation (1996)': 705,\n 'Halfmoon (Paul Bowles - Halbmond) (1995)': 706,\n 'Haunted World of Edward D. Wood Jr., The (1996)': 707,\n 'Two Friends (1986)': 708,\n 'Craft, The (1996)': 709,\n 'Great White Hype, The (1996)': 710,\n 'Last Dance (1996)': 711,\n 'War Stories (1995)': 712,\n 'Cold Comfort Farm (1995)': 713,\n 'Institute Benjamenta, or This Dream People Call Human Life (1995)': 714,\n 'Low Life (1994)': 715,\n \"Heaven's Prisoners (1996)\": 716,\n 'Original Gangstas (1996)': 717,\n 'Rock, The (1996)': 718,\n 'Getting Away With Murder (1996)': 719,\n 'Cemetery Man (Dellamorte Dellamore) (1994)': 720,\n 'Twister (1996)': 721,\n 'Barb Wire (1996)': 722,\n 'Garçu, Le (1995)': 723,\n 'Honey Moon (Honigmond) (1996)': 724,\n 'Ghost in the Shell (Kôkaku kidôtai) (1995)': 725,\n 'Thinner (1996)': 726,\n 'Spy Hard (1996)': 727,\n 'Brothers in Trouble (1995)': 728,\n 'Wallace & Gromit: A Close Shave (1995)': 729,\n 'Force of Evil (1948)': 730,\n 'Stupids, The (1996)': 731,\n 'Arrival, The (1996)': 732,\n 'Man from Down Under, The (1943)': 733,\n 'Dr. Strangelove or: How I Learned to Stop Worrying and Love the Bomb (1964)': 734,\n 'Careful (1992)': 735,\n 'Vermont Is For Lovers (1992)': 736,\n 'Month by the Lake, A (1995)': 737,\n 'Gold Diggers: The Secret of Bear Mountain (1995)': 738,\n 'Kim (1950)': 739,\n 'Carmen Miranda: Bananas Is My Business (1994)': 740,\n 'Ashes of Time (Dung che sai duk) (1994)': 741,\n 'Jar, The (Khomreh) (1992)': 742,\n 'Maya Lin: A Strong Clear Vision (1994)': 743,\n 'Stalingrad (1993)': 744,\n 'Phantom, The (1996)': 745,\n 'Striptease (1996)': 746,\n 'Last of the High Kings, The (a.k.a. Summer Fling) (1996)': 747,\n 'Heavy (1995)': 748,\n 'Jack (1996)': 749,\n 'I Shot Andy Warhol (1996)': 750,\n 'Grass Harp, The (1995)': 751,\n \"Someone Else's America (1995)\": 752,\n 'Marlene Dietrich: Shadow and Light (1996)': 753,\n 'Costa Brava (1946)': 754,\n 'Life Is Rosy (a.k.a. Life Is Beautiful) (Vie est belle, La) (1987)': 755,\n 'Quartier Mozart (1992)': 756,\n 'Touki Bouki (1973)': 757,\n \"Wend Kuuni (a.k.a. God's Gift) (1982)\": 758,\n 'Spirits of the Dead (1968)': 759,\n 'Babyfever (1994)': 760,\n \"Pharaoh's Army (1995)\": 761,\n 'Trainspotting (1996)': 762,\n \"'Til There Was You (1997)\": 763,\n 'Independence Day (a.k.a. ID4) (1996)': 764,\n 'Stealing Beauty (1996)': 765,\n 'Fan, The (1996)': 766,\n 'Hunchback of Notre Dame, The (1996)': 767,\n 'Cable Guy, The (1996)': 768,\n 'Kingpin (1996)': 769,\n 'Eraser (1996)': 770,\n 'Gate of Heavenly Peace, The (1995)': 771,\n 'Nutty Professor, The (1996)': 772,\n 'I, the Worst of All (Yo, la peor de todas) (1990)': 773,\n 'Unforgettable Summer, An (Un été inoubliable) (1994)': 774,\n 'Last Klezmer: Leopold Kozlowski, His Life and Music, The (1994)': 775,\n 'Hungarian Fairy Tale, A (Hol volt, hol nem volt) (1987)': 776,\n \"My Life and Times With Antonin Artaud (En compagnie d'Antonin Artaud) (1993)\": 777,\n 'Midnight Dancers (Sibak) (1994)': 778,\n 'Somebody to Love (1994)': 779,\n 'Very Natural Thing, A (1974)': 780,\n 'Old Lady Who Walked in the Sea, The (Vieille qui marchait dans la mer, La) (1991)': 781,\n 'Daylight (1996)': 782,\n 'Frighteners, The (1996)': 783,\n 'Lone Star (1996)': 784,\n 'Harriet the Spy (1996)': 785,\n 'Phenomenon (1996)': 786,\n 'Walking and Talking (1996)': 787,\n \"She's the One (1996)\": 788,\n 'Time to Kill, A (1996)': 789,\n 'American Buffalo (1996)': 790,\n 'Rendezvous in Paris (Rendez-vous de Paris, Les) (1995)': 791,\n 'Alaska (1996)': 792,\n 'Fled (1996)': 793,\n 'Kazaam (1996)': 794,\n 'Magic Hunter (Büvös vadász) (1994)': 795,\n 'Larger Than Life (1996)': 796,\n 'Boy Called Hate, A (1995)': 797,\n 'Power 98 (1996)': 798,\n 'Two Deaths (1995)': 799,\n 'Very Brady Sequel, A (1996)': 800,\n 'Stefano Quantestorie (1993)': 801,\n 'Death in the Garden (Mort en ce jardin, La) (1956)': 802,\n 'Crude Oasis, The (1995)': 803,\n 'Hedd Wyn (1992)': 804,\n 'Collector, The (La collectionneuse) (1967)': 805,\n 'Kaspar Hauser (1993)': 806,\n 'Regular Guys (Echte Kerle) (1996)': 807,\n 'Women Robbers (Diebinnen) (1995)': 808,\n 'Convent, The (O Convento) (1995)': 809,\n 'Adventures of Pinocchio, The (1996)': 810,\n \"Joe's Apartment (1996)\": 811,\n 'First Wives Club, The (1996)': 812,\n 'Stonewall (1995)': 813,\n 'Ransom (1996)': 814,\n 'High School High (1996)': 815,\n 'Phat Beach (1996)': 816,\n 'Foxfire (1996)': 817,\n 'Chain Reaction (1996)': 818,\n 'Matilda (1996)': 819,\n 'Emma (1996)': 820,\n 'Crow: City of Angels, The (1996)': 821,\n 'House Arrest (1996)': 822,\n 'Eyes Without a Face (Yeux sans visage, Les) (1959)': 823,\n 'Tales from the Crypt Presents: Bordello of Blood (1996)': 824,\n 'Lotto Land (1995)': 825,\n 'Story of Xinghua, The (Xinghua san yue tian) (1994)': 826,\n 'Day the Sun Turned Cold, The (Tianguo niezi) (1994)': 827,\n 'Flirt (1995)': 828,\n 'Big Squeeze, The (1996)': 829,\n 'Spitfire Grill, The (1996)': 830,\n 'Escape from L.A. (1996)': 831,\n 'Cyclo (Xich lo) (1995)': 832,\n 'Basquiat (1996)': 833,\n 'Tin Cup (1996)': 834,\n 'Dingo (1991)': 835,\n 'Ballad of Narayama, The (Narayama Bushiko) (1958)': 836,\n 'Every Other Weekend (Un week-end sur deux) (1990)': 837,\n 'Mille bolle blu (1993)': 838,\n 'Crows and Sparrows (Wuya yu maque) (1949)': 839,\n 'Godfather, The (1972)': 840,\n 'Hippie Revolution, The (1996)': 841,\n 'Maybe, Maybe Not (Bewegte Mann, Der) (1994)': 842,\n 'Supercop (Police Story 3: Supercop) (Jing cha gu shi III: Chao ji jing cha) (1992)': 843,\n 'Manny & Lo (1996)': 844,\n 'Wife, The (1995)': 845,\n 'Small Faces (1996)': 846,\n 'Bound (1996)': 847,\n 'Carpool (1996)': 848,\n 'Death in Brunswick (1991)': 849,\n 'Kansas City (1996)': 850,\n \"Gone Fishin' (1997)\": 851,\n \"Lover's Knot (1996)\": 852,\n \"Vive L'Amour (Ai qing wan sui) (1994)\": 853,\n 'Shadow of Angels (Schatten der Engel) (1976)': 854,\n 'Killer: A Journal of Murder (1995)': 855,\n 'Nothing to Lose (1994)': 856,\n 'Supercop 2 (Project S) (Chao ji ji hua) (1993)': 857,\n 'Girls Town (1996)': 858,\n 'Bye-Bye (1995)': 859,\n 'Relic, The (1997)': 860,\n 'Island of Dr. Moreau, The (1996)': 861,\n 'First Kid (1996)': 862,\n 'Trigger Effect, The (1996)': 863,\n 'Sweet Nothing (1996)': 864,\n 'Bogus (1996)': 865,\n 'Bulletproof (1996)': 866,\n 'Talk of Angels (1998)': 867,\n '1-900 (06) (1994)': 868,\n 'Baton Rouge (Bâton rouge) (1988)': 869,\n 'Halloween: The Curse of Michael Myers (Halloween 6: The Curse of Michael Myers) (1995)': 870,\n 'Twelfth Night (1996)': 871,\n 'Mother Night (1996)': 872,\n 'Liebelei (1933)': 873,\n 'Venice/Venice (1992)': 874,\n 'Wild Reeds (Les roseaux sauvages) (1994)': 875,\n 'For Whom the Bell Tolls (1943)': 876,\n 'Philadelphia Story, The (1940)': 877,\n \"Singin' in the Rain (1952)\": 878,\n 'American in Paris, An (1951)': 879,\n 'Funny Face (1957)': 880,\n \"Breakfast at Tiffany's (1961)\": 881,\n 'Vertigo (1958)': 882,\n 'Rear Window (1954)': 883,\n 'It Happened One Night (1934)': 884,\n 'Gaslight (1944)': 885,\n 'Gay Divorcee, The (1934)': 886,\n 'North by Northwest (1959)': 887,\n 'Apartment, The (1960)': 888,\n 'Some Like It Hot (1959)': 889,\n 'Charade (1963)': 890,\n 'Casablanca (1942)': 891,\n 'Maltese Falcon, The (1941)': 892,\n 'My Fair Lady (1964)': 893,\n 'Sabrina (1954)': 894,\n 'Roman Holiday (1953)': 895,\n 'Little Princess, The (1939)': 896,\n 'Meet Me in St. Louis (1944)': 897,\n 'Wizard of Oz, The (1939)': 898,\n 'Gone with the Wind (1939)': 899,\n 'My Favorite Year (1982)': 900,\n 'Sunset Blvd. (a.k.a. Sunset Boulevard) (1950)': 901,\n 'Citizen Kane (1941)': 902,\n '2001: A Space Odyssey (1968)': 903,\n 'Golden Earrings (1947)': 904,\n 'All About Eve (1950)': 905,\n 'Women, The (1939)': 906,\n 'Rebecca (1940)': 907,\n 'Foreign Correspondent (1940)': 908,\n 'Notorious (1946)': 909,\n 'Spellbound (1945)': 910,\n 'Affair to Remember, An (1957)': 911,\n 'To Catch a Thief (1955)': 912,\n 'Father of the Bride (1950)': 913,\n 'Band Wagon, The (1953)': 914,\n 'Ninotchka (1939)': 915,\n 'Love in the Afternoon (1957)': 916,\n 'Gigi (1958)': 917,\n 'Reluctant Debutante, The (1958)': 918,\n 'Adventures of Robin Hood, The (1938)': 919,\n 'Mark of Zorro, The (1940)': 920,\n 'Laura (1944)': 921,\n 'Ghost and Mrs. Muir, The (1947)': 922,\n 'Lost Horizon (1937)': 923,\n 'Top Hat (1935)': 924,\n 'To Be or Not to Be (1942)': 925,\n 'My Man Godfrey (1936)': 926,\n 'Giant (1956)': 927,\n 'East of Eden (1955)': 928,\n 'Thin Man, The (1934)': 929,\n 'His Girl Friday (1940)': 930,\n 'Around the World in 80 Days (1956)': 931,\n \"It's a Wonderful Life (1946)\": 932,\n 'Mr. Smith Goes to Washington (1939)': 933,\n 'Bringing Up Baby (1938)': 934,\n 'Penny Serenade (1941)': 935,\n 'Scarlet Letter, The (1926)': 936,\n 'Lady of Burlesque (1943)': 937,\n 'Of Human Bondage (1934)': 938,\n 'Angel on My Shoulder (1946)': 939,\n 'Little Lord Fauntleroy (1936)': 940,\n 'They Made Me a Criminal (1939)': 941,\n 'Inspector General, The (1949)': 942,\n 'Angel and the Badman (1947)': 943,\n '39 Steps, The (1935)': 944,\n 'A Walk in the Sun (1945)': 945,\n 'Outlaw, The (1943)': 946,\n 'Night of the Living Dead (1968)': 947,\n 'African Queen, The (1951)': 948,\n 'Beat the Devil (1953)': 949,\n 'Cat on a Hot Tin Roof (1958)': 950,\n 'Last Time I Saw Paris, The (1954)': 951,\n 'Meet John Doe (1941)': 952,\n 'Algiers (1938)': 953,\n 'Something to Sing About (1937)': 954,\n 'Farewell to Arms, A (1932)': 955,\n 'Moonlight Murder (1936)': 956,\n 'Nothing Personal (1995)': 957,\n 'Yes, Madam (a.k.a. Police Assassins) (a.k.a. In the Line of Duty 2) (Huang gu shi jie) (1985)': 958,\n 'Dangerous Ground (1997)': 959,\n 'Picnic (1955)': 960,\n 'Madagascar Skin (1995)': 961,\n 'Pompatus of Love, The (1996)': 962,\n 'Small Wonders (1995)': 963,\n 'Fly Away Home (1996)': 964,\n 'Bliss (1997)': 965,\n 'Grace of My Heart (1996)': 966,\n 'Brother of Sleep (Schlafes Bruder) (1995)': 967,\n 'Maximum Risk (1996)': 968,\n 'Michael Collins (1996)': 969,\n \"Rich Man's Wife, The (1996)\": 970,\n 'Infinity (1996)': 971,\n 'Big Night (1996)': 972,\n 'Last Man Standing (1996)': 973,\n 'Caught (1996)': 974,\n 'Set It Off (1996)': 975,\n '2 Days in the Valley (1996)': 976,\n 'Curdled (1996)': 977,\n \"Associate, The (Associé, L') (1979)\": 978,\n \"Ed's Next Move (1996)\": 979,\n 'Extreme Measures (1996)': 980,\n 'Glimmer Man, The (1996)': 981,\n 'D3: The Mighty Ducks (1996)': 982,\n 'Chamber, The (1996)': 983,\n 'Apple Dumpling Gang, The (1975)': 984,\n 'Davy Crockett, King of the Wild Frontier (1955)': 985,\n 'Escape to Witch Mountain (1975)': 986,\n 'Love Bug, The (1969)': 987,\n 'Herbie Rides Again (1974)': 988,\n 'Old Yeller (1957)': 989,\n 'Parent Trap, The (1961)': 990,\n 'Pollyanna (1960)': 991,\n 'Homeward Bound: The Incredible Journey (1993)': 992,\n 'Shaggy Dog, The (1959)': 993,\n 'Swiss Family Robinson (1960)': 994,\n 'That Darn Cat! (1965)': 995,\n '20,000 Leagues Under the Sea (1954)': 996,\n 'Cool Runnings (1993)': 997,\n 'Angels in the Outfield (1994)': 998,\n 'Cinderella (1950)': 999,\n ...}"
     },
     "execution_count": 25,
     "metadata": {},
     "output_type": "execute_result"
    }
   ],
   "source": [
    "movie_idx = dict(zip(movies['title'], list(movies.index)))\n",
    "idx = movie_idx[\"Toy Story (1995)\"]\n",
    "print(f\"Movie index for Jumanji: {idx}\")\n",
    "movie_idx"
   ],
   "metadata": {
    "collapsed": false,
    "ExecuteTime": {
     "end_time": "2024-01-10T15:27:03.199053500Z",
     "start_time": "2024-01-10T15:27:03.138569200Z"
    }
   },
   "id": "9d4ce8c3dcf5ee31"
  },
  {
   "cell_type": "code",
   "execution_count": 41,
   "outputs": [],
   "source": [
    "n_recommendations=10\n",
    "sim_scores = list(enumerate(cosine_sim[idx]))\n",
    "sim_scores = sorted(sim_scores, key=lambda x: x[1], reverse=True)\n",
    "sim_scores = sim_scores[1:(n_recommendations+1)]\n",
    "similar_movies = [i[0] for i in sim_scores]"
   ],
   "metadata": {
    "collapsed": false,
    "ExecuteTime": {
     "end_time": "2024-01-04T11:50:29.461717900Z",
     "start_time": "2024-01-04T11:50:29.420133600Z"
    }
   },
   "id": "abf7572481d5351b"
  },
  {
   "cell_type": "code",
   "execution_count": 26,
   "outputs": [
    {
     "data": {
      "text/plain": "1101"
     },
     "execution_count": 26,
     "metadata": {},
     "output_type": "execute_result"
    }
   ],
   "source": [
    "movie = movies[movies['title'] == \"Top Gun (1986)\"]\n",
    "movie['movieId'].values[0]"
   ],
   "metadata": {
    "collapsed": false,
    "ExecuteTime": {
     "end_time": "2024-01-10T15:39:07.129386100Z",
     "start_time": "2024-01-10T15:39:07.066479900Z"
    }
   },
   "id": "111f61f0d5616f5d"
  },
  {
   "cell_type": "code",
   "execution_count": 42,
   "outputs": [
    {
     "name": "stdout",
     "output_type": "stream",
     "text": [
      "Because you watc0hed Jumanji (1995):\n"
     ]
    },
    {
     "data": {
      "text/plain": "59                     Indian in the Cupboard, The (1995)\n124                     NeverEnding Story III, The (1994)\n986                       Escape to Witch Mountain (1975)\n1954            Darby O'Gill and the Little People (1959)\n2003                                  Return to Oz (1985)\n2071                        NeverEnding Story, The (1984)\n2072    NeverEnding Story II: The Next Chapter, The (1...\n2308                        Santa Claus: The Movie (1985)\n4790    Harry Potter and the Sorcerer's Stone (a.k.a. ...\n9557                            Magic in the Water (1995)\nName: title, dtype: object"
     },
     "execution_count": 42,
     "metadata": {},
     "output_type": "execute_result"
    }
   ],
   "source": [
    "print(f\"Because you watched {title_movie}:\")\n",
    "movies['title'].iloc[similar_movies]"
   ],
   "metadata": {
    "collapsed": false,
    "ExecuteTime": {
     "end_time": "2024-01-04T11:50:31.196193600Z",
     "start_time": "2024-01-04T11:50:31.165377100Z"
    }
   },
   "id": "2ea03ccc6737fb05"
  },
  {
   "cell_type": "markdown",
   "source": [],
   "metadata": {
    "collapsed": false
   },
   "id": "464dc87cab91d8af"
  },
  {
   "cell_type": "code",
   "execution_count": 43,
   "outputs": [],
   "source": [
    "#recommender function\n",
    "def get_content_based_recommendations(title_string, n_recommendations=10):\n",
    "    title = movie_finder(title_string)\n",
    "    idx = movie_idx[title]\n",
    "    sim_scores = list(enumerate(cosine_sim[idx]))\n",
    "    sim_scores = sorted(sim_scores, key=lambda x: x[1], reverse=True)\n",
    "    sim_scores = sim_scores[1:(n_recommendations+1)]\n",
    "    similar_movies = [i[0] for i in sim_scores]\n",
    "    print(f\"Because you watched {title}:\")\n",
    "    print(movies['title'].iloc[similar_movies])"
   ],
   "metadata": {
    "collapsed": false,
    "ExecuteTime": {
     "end_time": "2024-01-04T11:50:34.453032600Z",
     "start_time": "2024-01-04T11:50:34.421351100Z"
    }
   },
   "id": "2818105ba3fd27a0"
  },
  {
   "cell_type": "code",
   "execution_count": 44,
   "outputs": [
    {
     "name": "stdout",
     "output_type": "stream",
     "text": [
      "Because you watched Toy Story (1995):\n",
      "2203                                       Antz (1998)\n",
      "3021                                Toy Story 2 (1999)\n",
      "3653    Adventures of Rocky and Bullwinkle, The (2000)\n",
      "3912                  Emperor's New Groove, The (2000)\n",
      "4780                             Monsters, Inc. (2001)\n",
      "Name: title, dtype: object\n"
     ]
    }
   ],
   "source": [
    "get_content_based_recommendations('toy story', 5)"
   ],
   "metadata": {
    "collapsed": false,
    "ExecuteTime": {
     "end_time": "2024-01-04T11:50:52.546626700Z",
     "start_time": "2024-01-04T11:50:36.080976100Z"
    }
   },
   "id": "54d3d39c8287e2df"
  },
  {
   "cell_type": "code",
   "execution_count": 56,
   "outputs": [
    {
     "data": {
      "text/plain": "(162541, 59047)"
     },
     "execution_count": 56,
     "metadata": {},
     "output_type": "execute_result"
    }
   ],
   "source": [
    "X.shape"
   ],
   "metadata": {
    "collapsed": false,
    "ExecuteTime": {
     "end_time": "2023-11-10T22:58:34.466692700Z",
     "start_time": "2023-11-10T22:58:34.369528300Z"
    }
   },
   "id": "afa5311b8a0ad7b2"
  },
  {
   "cell_type": "code",
   "execution_count": null,
   "outputs": [],
   "source": [
    "#Model testing"
   ],
   "metadata": {
    "collapsed": false
   },
   "id": "4274ef92c7c3461f"
  },
  {
   "cell_type": "code",
   "execution_count": 47,
   "outputs": [
    {
     "name": "stdout",
     "output_type": "stream",
     "text": [
      "\n",
      " Movie train set:\n",
      "       movieId                                              title  \\\n",
      "30739   136926                                Gemma Bovery (2014)   \n",
      "12059    57183      Like Stars on Earth (Taare Zameen Par) (2007)   \n",
      "1423      1465                                    Rosewood (1997)   \n",
      "7745      8371                  Chronicles of Riddick, The (2004)   \n",
      "46446   172463                                  AfterDeath (2015)   \n",
      "...        ...                                                ...   \n",
      "54343   189357              The Survivor's Guide to Prison (2018)   \n",
      "38158   154216                        Visions of Suffering (2006)   \n",
      "860        879                                  Relic, The (1997)   \n",
      "15795    83273  Smoke on the Potato Fields (Dým bramborové nat...   \n",
      "56422   194126                                     BuyBust (2018)   \n",
      "\n",
      "                            genres  Adventure  Crime  Horror  Sci-Fi  Romance  \\\n",
      "30739     [Comedy, Drama, Romance]          0      0       0       0        1   \n",
      "12059                      [Drama]          0      0       0       0        0   \n",
      "1423               [Action, Drama]          0      0       0       0        0   \n",
      "7745    [Action, Sci-Fi, Thriller]          0      0       0       1        0   \n",
      "46446  [Horror, Mystery, Thriller]          0      0       1       0        0   \n",
      "...                            ...        ...    ...     ...     ...      ...   \n",
      "54343                [Documentary]          0      0       0       0        0   \n",
      "38158                     [Horror]          0      0       1       0        0   \n",
      "860             [Horror, Thriller]          0      0       1       0        0   \n",
      "15795                      [Drama]          0      0       0       0        0   \n",
      "56422    [Action, Drama, Thriller]          0      0       0       0        0   \n",
      "\n",
      "       Musical  IMAX  ...  Drama  Action  War  Fantasy  (no genres listed)  \\\n",
      "30739        0     0  ...      1       0    0        0                   0   \n",
      "12059        0     0  ...      1       0    0        0                   0   \n",
      "1423         0     0  ...      1       1    0        0                   0   \n",
      "7745         0     0  ...      0       1    0        0                   0   \n",
      "46446        0     0  ...      0       0    0        0                   0   \n",
      "...        ...   ...  ...    ...     ...  ...      ...                 ...   \n",
      "54343        0     0  ...      0       0    0        0                   0   \n",
      "38158        0     0  ...      0       0    0        0                   0   \n",
      "860          0     0  ...      0       0    0        0                   0   \n",
      "15795        0     0  ...      1       0    0        0                   0   \n",
      "56422        0     0  ...      1       1    0        0                   0   \n",
      "\n",
      "       Comedy  Documentary  Mystery  Thriller  Film-Noir  \n",
      "30739       1            0        0         0          0  \n",
      "12059       0            0        0         0          0  \n",
      "1423        0            0        0         0          0  \n",
      "7745        0            0        0         1          0  \n",
      "46446       0            0        1         1          0  \n",
      "...       ...          ...      ...       ...        ...  \n",
      "54343       0            1        0         0          0  \n",
      "38158       0            0        0         0          0  \n",
      "860         0            0        0         1          0  \n",
      "15795       0            0        0         0          0  \n",
      "56422       0            0        0         1          0  \n",
      "\n",
      "[49938 rows x 23 columns]\n",
      "\n",
      " Movie test set\n",
      "       movieId                             title  \\\n",
      "4884      4990  Jimmy Neutron: Boy Genius (2001)   \n",
      "22971   116698              Dead Men Tell (1941)   \n",
      "26257   125517                   The D.I. (1957)   \n",
      "57524   196541         Makar - Pathfinder (1984)   \n",
      "39134   156511              Feudin' Fools (1952)   \n",
      "...        ...                               ...   \n",
      "1911      2000              Lethal Weapon (1987)   \n",
      "14311    74310             Vivacious Lady (1938)   \n",
      "51545   183381            Brand New Yolki (2017)   \n",
      "57188   195817           Dating My Mother (2017)   \n",
      "52386   185167       Battle of the Drones (2017)   \n",
      "\n",
      "                                          genres  Adventure  Crime  Horror  \\\n",
      "4884    [Adventure, Animation, Children, Comedy]          1      0       0   \n",
      "22971  [Comedy, Crime, Drama, Mystery, Thriller]          0      1       0   \n",
      "26257                                    [Drama]          0      0       0   \n",
      "57524                      [Adventure, Children]          1      0       0   \n",
      "39134                                   [Comedy]          0      0       0   \n",
      "...                                          ...        ...    ...     ...   \n",
      "1911              [Action, Comedy, Crime, Drama]          0      1       0   \n",
      "14311                          [Comedy, Romance]          0      0       0   \n",
      "51545                                   [Comedy]          0      0       0   \n",
      "57188                                   [Comedy]          0      0       0   \n",
      "52386                           [Action, Sci-Fi]          0      0       0   \n",
      "\n",
      "       Sci-Fi  Romance  Musical  IMAX  ...  Drama  Action  War  Fantasy  \\\n",
      "4884        0        0        0     0  ...      0       0    0        0   \n",
      "22971       0        0        0     0  ...      1       0    0        0   \n",
      "26257       0        0        0     0  ...      1       0    0        0   \n",
      "57524       0        0        0     0  ...      0       0    0        0   \n",
      "39134       0        0        0     0  ...      0       0    0        0   \n",
      "...       ...      ...      ...   ...  ...    ...     ...  ...      ...   \n",
      "1911        0        0        0     0  ...      1       1    0        0   \n",
      "14311       0        1        0     0  ...      0       0    0        0   \n",
      "51545       0        0        0     0  ...      0       0    0        0   \n",
      "57188       0        0        0     0  ...      0       0    0        0   \n",
      "52386       1        0        0     0  ...      0       1    0        0   \n",
      "\n",
      "       (no genres listed)  Comedy  Documentary  Mystery  Thriller  Film-Noir  \n",
      "4884                    0       1            0        0         0          0  \n",
      "22971                   0       1            0        1         1          0  \n",
      "26257                   0       0            0        0         0          0  \n",
      "57524                   0       0            0        0         0          0  \n",
      "39134                   0       1            0        0         0          0  \n",
      "...                   ...     ...          ...      ...       ...        ...  \n",
      "1911                    0       1            0        0         0          0  \n",
      "14311                   0       1            0        0         0          0  \n",
      "51545                   0       1            0        0         0          0  \n",
      "57188                   0       1            0        0         0          0  \n",
      "52386                   0       0            0        0         0          0  \n",
      "\n",
      "[12485 rows x 23 columns]\n"
     ]
    }
   ],
   "source": [
    "from sklearn.model_selection import train_test_split\n",
    "ratings_train, ratings_test = train_test_split(ratings, test_size=0.2, random_state=42)\n",
    "\n",
    "movies_train, movies_test = train_test_split(movies, test_size=0.2, random_state=42)\n",
    "\n",
    "print(\"\\n Movie train set:\")\n",
    "print(movies_train)\n",
    "\n",
    "print(\"\\n Movie test set\")\n",
    "print(movies_test)"
   ],
   "metadata": {
    "collapsed": false,
    "ExecuteTime": {
     "end_time": "2024-01-04T12:42:57.411205200Z",
     "start_time": "2024-01-04T12:42:52.328084900Z"
    }
   },
   "id": "5968b2c584dd9fe9"
  },
  {
   "cell_type": "code",
   "execution_count": 51,
   "outputs": [],
   "source": [
    "X_train, user_mapper_train, movie_mapper_train, user_inv_mapper_train, movie_inv_mapper_train = create_X(ratings_train)  "
   ],
   "metadata": {
    "collapsed": false,
    "ExecuteTime": {
     "end_time": "2024-01-04T12:57:49.894729900Z",
     "start_time": "2024-01-04T12:57:27.623477400Z"
    }
   },
   "id": "eeb4e2e09b500fc2"
  },
  {
   "cell_type": "code",
   "execution_count": 52,
   "outputs": [],
   "source": [
    "X_test, user_mapper_test, movie_mapper_test, user_inv_mapper_test, movie_inv_mapper_test = create_X(ratings_test) "
   ],
   "metadata": {
    "collapsed": false,
    "ExecuteTime": {
     "end_time": "2024-01-04T12:57:55.853717100Z",
     "start_time": "2024-01-04T12:57:49.905922600Z"
    }
   },
   "id": "ad11df223bd24176"
  },
  {
   "cell_type": "code",
   "execution_count": 53,
   "outputs": [
    {
     "data": {
      "text/plain": "[260, 3114, 1270, 356, 1210, 480, 780, 364, 588]"
     },
     "execution_count": 53,
     "metadata": {},
     "output_type": "execute_result"
    }
   ],
   "source": [
    "similar_movies_train = find_similar_movies(1, X_train, movie_mapper_train, movie_inv_mapper_train, k=10)\n",
    "similar_movies_train"
   ],
   "metadata": {
    "collapsed": false,
    "ExecuteTime": {
     "end_time": "2024-01-04T13:13:29.211099800Z",
     "start_time": "2024-01-04T13:13:27.453513700Z"
    }
   },
   "id": "4a0b7fdb2be973ad"
  },
  {
   "cell_type": "code",
   "execution_count": 65,
   "outputs": [],
   "source": [
    "def create_prediction_matrix(similar_movies, X, movie_mapper):\n",
    "    \"\"\"\n",
    "    Creates a prediction matrix based on the average rating of k-nearest neighbors for each user.\n",
    "    \n",
    "    Args:\n",
    "        similar_movies: List of similar movie IDs for each movie\n",
    "        X: User-item utility matrix (sparse matrix)\n",
    "        movie_mapper: Dictionary mapping movie IDs to indices\n",
    "        \n",
    "    Returns:\n",
    "        X_predicted: Prediction matrix (sparse matrix)\n",
    "    \"\"\"\n",
    "    M, N = X.shape\n",
    "    X_predicted = np.zeros((M, N), dtype=float)\n",
    "\n",
    "    for movie_id in similar_movies:\n",
    "        # Find similar movies for each movie in the list\n",
    "        similar_indices = find_similar_movies(movie_id, X, movie_mapper, k)\n",
    "        \n",
    "        # Loop through users\n",
    "        for user_idx in range(M):\n",
    "            # Exclude the current movie from the list of similar movies\n",
    "            similar_movies_for_user = [movie for movie in similar_indices if movie != movie_id]\n",
    "            \n",
    "            # Calculate the average rating of the k-nearest neighbors for each user\n",
    "            if similar_movies_for_user:\n",
    "                ratings = X[user_idx, similar_movies_for_user].toarray().flatten()\n",
    "                average_rating = np.mean(ratings)\n",
    "                X_predicted[user_idx, movie_mapper[movie_id]] = average_rating\n",
    "    \n",
    "    return csr_matrix(X_predicted)"
   ],
   "metadata": {
    "collapsed": false,
    "ExecuteTime": {
     "end_time": "2024-01-04T13:44:20.787215100Z",
     "start_time": "2024-01-04T13:44:20.766786600Z"
    }
   },
   "id": "c9deb116a4bbc19b"
  },
  {
   "cell_type": "code",
   "execution_count": 66,
   "outputs": [
    {
     "ename": "MemoryError",
     "evalue": "Unable to allocate 68.5 GiB for an array with shape (162541, 56585) and data type float64",
     "output_type": "error",
     "traceback": [
      "\u001B[1;31m---------------------------------------------------------------------------\u001B[0m",
      "\u001B[1;31mMemoryError\u001B[0m                               Traceback (most recent call last)",
      "Cell \u001B[1;32mIn[66], line 2\u001B[0m\n\u001B[0;32m      1\u001B[0m k \u001B[38;5;241m=\u001B[39m \u001B[38;5;241m10\u001B[39m\n\u001B[1;32m----> 2\u001B[0m X_predicted \u001B[38;5;241m=\u001B[39m \u001B[43mcreate_prediction_matrix\u001B[49m\u001B[43m(\u001B[49m\u001B[43msimilar_movies_train\u001B[49m\u001B[43m,\u001B[49m\u001B[43m \u001B[49m\u001B[43mX_train\u001B[49m\u001B[43m,\u001B[49m\u001B[43m \u001B[49m\u001B[43mmovie_mapper_train\u001B[49m\u001B[43m)\u001B[49m\n",
      "Cell \u001B[1;32mIn[65], line 14\u001B[0m, in \u001B[0;36mcreate_prediction_matrix\u001B[1;34m(similar_movies, X, movie_mapper)\u001B[0m\n\u001B[0;32m      2\u001B[0m \u001B[38;5;250m\u001B[39m\u001B[38;5;124;03m\"\"\"\u001B[39;00m\n\u001B[0;32m      3\u001B[0m \u001B[38;5;124;03mCreates a prediction matrix based on the average rating of k-nearest neighbors for each user.\u001B[39;00m\n\u001B[0;32m      4\u001B[0m \u001B[38;5;124;03m\u001B[39;00m\n\u001B[1;32m   (...)\u001B[0m\n\u001B[0;32m     11\u001B[0m \u001B[38;5;124;03m    X_predicted: Prediction matrix (sparse matrix)\u001B[39;00m\n\u001B[0;32m     12\u001B[0m \u001B[38;5;124;03m\"\"\"\u001B[39;00m\n\u001B[0;32m     13\u001B[0m M, N \u001B[38;5;241m=\u001B[39m X\u001B[38;5;241m.\u001B[39mshape\n\u001B[1;32m---> 14\u001B[0m X_predicted \u001B[38;5;241m=\u001B[39m \u001B[43mnp\u001B[49m\u001B[38;5;241;43m.\u001B[39;49m\u001B[43mzeros\u001B[49m\u001B[43m(\u001B[49m\u001B[43m(\u001B[49m\u001B[43mM\u001B[49m\u001B[43m,\u001B[49m\u001B[43m \u001B[49m\u001B[43mN\u001B[49m\u001B[43m)\u001B[49m\u001B[43m,\u001B[49m\u001B[43m \u001B[49m\u001B[43mdtype\u001B[49m\u001B[38;5;241;43m=\u001B[39;49m\u001B[38;5;28;43mfloat\u001B[39;49m\u001B[43m)\u001B[49m\n\u001B[0;32m     16\u001B[0m \u001B[38;5;28;01mfor\u001B[39;00m movie_id \u001B[38;5;129;01min\u001B[39;00m similar_movies:\n\u001B[0;32m     17\u001B[0m     \u001B[38;5;66;03m# Find similar movies for each movie in the list\u001B[39;00m\n\u001B[0;32m     18\u001B[0m     similar_indices \u001B[38;5;241m=\u001B[39m find_similar_movies(movie_id, X, movie_mapper, k)\n",
      "\u001B[1;31mMemoryError\u001B[0m: Unable to allocate 68.5 GiB for an array with shape (162541, 56585) and data type float64"
     ]
    }
   ],
   "source": [
    "k = 10\n",
    "X_predicted = create_prediction_matrix(similar_movies_train, X_train, movie_mapper_train)"
   ],
   "metadata": {
    "collapsed": false,
    "ExecuteTime": {
     "end_time": "2024-01-04T13:44:57.079166300Z",
     "start_time": "2024-01-04T13:44:56.993317200Z"
    }
   },
   "id": "af06295c70620fe6"
  },
  {
   "cell_type": "code",
   "execution_count": null,
   "outputs": [],
   "source": [],
   "metadata": {
    "collapsed": false
   },
   "id": "8d3cb945826bd7ff"
  }
 ],
 "metadata": {
  "kernelspec": {
   "display_name": "Python 3",
   "language": "python",
   "name": "python3"
  },
  "language_info": {
   "codemirror_mode": {
    "name": "ipython",
    "version": 2
   },
   "file_extension": ".py",
   "mimetype": "text/x-python",
   "name": "python",
   "nbconvert_exporter": "python",
   "pygments_lexer": "ipython2",
   "version": "2.7.6"
  }
 },
 "nbformat": 4,
 "nbformat_minor": 5
}
